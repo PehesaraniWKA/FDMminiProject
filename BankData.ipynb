{
 "cells": [
  {
   "cell_type": "markdown",
   "id": "995d596b",
   "metadata": {},
   "source": [
    "# Import Libraries"
   ]
  },
  {
   "cell_type": "code",
   "execution_count": 1,
   "id": "a6470931",
   "metadata": {},
   "outputs": [],
   "source": [
    "import pandas as pd\n",
    "import numpy as np\n",
    "from sklearn.preprocessing import LabelEncoder\n",
    "from sklearn.model_selection import train_test_split"
   ]
  },
  {
   "cell_type": "markdown",
   "id": "30fee8a9",
   "metadata": {},
   "source": [
    "# Data Preprocessing"
   ]
  },
  {
   "cell_type": "code",
   "execution_count": 2,
   "id": "7a9a4a2b",
   "metadata": {},
   "outputs": [],
   "source": [
    "#Import data set and separate columns at ;\n",
    "train = pd.read_csv(\"train.csv\", delimiter = ';')\n",
    "test = pd.read_csv(\"test.csv\", delimiter = ';')"
   ]
  },
  {
   "cell_type": "code",
   "execution_count": 3,
   "id": "142c845e",
   "metadata": {},
   "outputs": [],
   "source": [
    "# Concatenate the two dataframes vertically (along rows)\n",
    "Banking_data = pd.concat([train, test], ignore_index=True)"
   ]
  },
  {
   "cell_type": "code",
   "execution_count": 4,
   "id": "2eb0a57a",
   "metadata": {},
   "outputs": [
    {
     "data": {
      "text/plain": [
       "Index(['age', 'job', 'marital', 'education', 'default', 'balance', 'housing',\n",
       "       'loan', 'contact', 'day', 'month', 'duration', 'campaign', 'pdays',\n",
       "       'previous', 'poutcome', 'y'],\n",
       "      dtype='object')"
      ]
     },
     "execution_count": 4,
     "metadata": {},
     "output_type": "execute_result"
    }
   ],
   "source": [
    "#Get cloumns names\n",
    "Banking_data.columns"
   ]
  },
  {
   "cell_type": "code",
   "execution_count": 5,
   "id": "8345172b",
   "metadata": {},
   "outputs": [
    {
     "data": {
      "text/plain": [
       "age          0\n",
       "day          0\n",
       "poutcome     0\n",
       "previous     0\n",
       "pdays        0\n",
       "campaign     0\n",
       "duration     0\n",
       "month        0\n",
       "contact      0\n",
       "job          0\n",
       "loan         0\n",
       "housing      0\n",
       "balance      0\n",
       "default      0\n",
       "education    0\n",
       "marital      0\n",
       "y            0\n",
       "dtype: int64"
      ]
     },
     "execution_count": 5,
     "metadata": {},
     "output_type": "execute_result"
    }
   ],
   "source": [
    "#check for null values\n",
    "Banking_data.isnull().sum().sort_values(ascending=False)"
   ]
  },
  {
   "cell_type": "code",
   "execution_count": 6,
   "id": "3199cc75",
   "metadata": {},
   "outputs": [
    {
     "data": {
      "text/plain": [
       "(49732, 17)"
      ]
     },
     "execution_count": 6,
     "metadata": {},
     "output_type": "execute_result"
    }
   ],
   "source": [
    "#Get the shape of the DataFrame\n",
    "Banking_data.shape"
   ]
  },
  {
   "cell_type": "code",
   "execution_count": 7,
   "id": "8955a6ea",
   "metadata": {},
   "outputs": [],
   "source": [
    "# Save the merged dataframe to a new CSV file\n",
    "Banking_data.to_csv(\"Banking_data.csv\", index=False)"
   ]
  },
  {
   "cell_type": "code",
   "execution_count": 8,
   "id": "a710d2ea",
   "metadata": {},
   "outputs": [],
   "source": [
    "df = pd.read_csv(\"Banking_data.csv\")"
   ]
  },
  {
   "cell_type": "code",
   "execution_count": 9,
   "id": "80680176",
   "metadata": {
    "scrolled": true
   },
   "outputs": [
    {
     "data": {
      "text/html": [
       "<div>\n",
       "<style scoped>\n",
       "    .dataframe tbody tr th:only-of-type {\n",
       "        vertical-align: middle;\n",
       "    }\n",
       "\n",
       "    .dataframe tbody tr th {\n",
       "        vertical-align: top;\n",
       "    }\n",
       "\n",
       "    .dataframe thead th {\n",
       "        text-align: right;\n",
       "    }\n",
       "</style>\n",
       "<table border=\"1\" class=\"dataframe\">\n",
       "  <thead>\n",
       "    <tr style=\"text-align: right;\">\n",
       "      <th></th>\n",
       "      <th>age</th>\n",
       "      <th>job</th>\n",
       "      <th>marital</th>\n",
       "      <th>education</th>\n",
       "      <th>default</th>\n",
       "      <th>balance</th>\n",
       "      <th>housing</th>\n",
       "      <th>loan</th>\n",
       "      <th>contact</th>\n",
       "      <th>day</th>\n",
       "      <th>month</th>\n",
       "      <th>duration</th>\n",
       "      <th>campaign</th>\n",
       "      <th>pdays</th>\n",
       "      <th>previous</th>\n",
       "      <th>poutcome</th>\n",
       "      <th>y</th>\n",
       "    </tr>\n",
       "  </thead>\n",
       "  <tbody>\n",
       "    <tr>\n",
       "      <th>0</th>\n",
       "      <td>58</td>\n",
       "      <td>management</td>\n",
       "      <td>married</td>\n",
       "      <td>tertiary</td>\n",
       "      <td>no</td>\n",
       "      <td>2143</td>\n",
       "      <td>yes</td>\n",
       "      <td>no</td>\n",
       "      <td>unknown</td>\n",
       "      <td>5</td>\n",
       "      <td>may</td>\n",
       "      <td>261</td>\n",
       "      <td>1</td>\n",
       "      <td>-1</td>\n",
       "      <td>0</td>\n",
       "      <td>unknown</td>\n",
       "      <td>no</td>\n",
       "    </tr>\n",
       "    <tr>\n",
       "      <th>1</th>\n",
       "      <td>44</td>\n",
       "      <td>technician</td>\n",
       "      <td>single</td>\n",
       "      <td>secondary</td>\n",
       "      <td>no</td>\n",
       "      <td>29</td>\n",
       "      <td>yes</td>\n",
       "      <td>no</td>\n",
       "      <td>unknown</td>\n",
       "      <td>5</td>\n",
       "      <td>may</td>\n",
       "      <td>151</td>\n",
       "      <td>1</td>\n",
       "      <td>-1</td>\n",
       "      <td>0</td>\n",
       "      <td>unknown</td>\n",
       "      <td>no</td>\n",
       "    </tr>\n",
       "    <tr>\n",
       "      <th>2</th>\n",
       "      <td>33</td>\n",
       "      <td>entrepreneur</td>\n",
       "      <td>married</td>\n",
       "      <td>secondary</td>\n",
       "      <td>no</td>\n",
       "      <td>2</td>\n",
       "      <td>yes</td>\n",
       "      <td>yes</td>\n",
       "      <td>unknown</td>\n",
       "      <td>5</td>\n",
       "      <td>may</td>\n",
       "      <td>76</td>\n",
       "      <td>1</td>\n",
       "      <td>-1</td>\n",
       "      <td>0</td>\n",
       "      <td>unknown</td>\n",
       "      <td>no</td>\n",
       "    </tr>\n",
       "    <tr>\n",
       "      <th>3</th>\n",
       "      <td>47</td>\n",
       "      <td>blue-collar</td>\n",
       "      <td>married</td>\n",
       "      <td>unknown</td>\n",
       "      <td>no</td>\n",
       "      <td>1506</td>\n",
       "      <td>yes</td>\n",
       "      <td>no</td>\n",
       "      <td>unknown</td>\n",
       "      <td>5</td>\n",
       "      <td>may</td>\n",
       "      <td>92</td>\n",
       "      <td>1</td>\n",
       "      <td>-1</td>\n",
       "      <td>0</td>\n",
       "      <td>unknown</td>\n",
       "      <td>no</td>\n",
       "    </tr>\n",
       "    <tr>\n",
       "      <th>4</th>\n",
       "      <td>33</td>\n",
       "      <td>unknown</td>\n",
       "      <td>single</td>\n",
       "      <td>unknown</td>\n",
       "      <td>no</td>\n",
       "      <td>1</td>\n",
       "      <td>no</td>\n",
       "      <td>no</td>\n",
       "      <td>unknown</td>\n",
       "      <td>5</td>\n",
       "      <td>may</td>\n",
       "      <td>198</td>\n",
       "      <td>1</td>\n",
       "      <td>-1</td>\n",
       "      <td>0</td>\n",
       "      <td>unknown</td>\n",
       "      <td>no</td>\n",
       "    </tr>\n",
       "    <tr>\n",
       "      <th>...</th>\n",
       "      <td>...</td>\n",
       "      <td>...</td>\n",
       "      <td>...</td>\n",
       "      <td>...</td>\n",
       "      <td>...</td>\n",
       "      <td>...</td>\n",
       "      <td>...</td>\n",
       "      <td>...</td>\n",
       "      <td>...</td>\n",
       "      <td>...</td>\n",
       "      <td>...</td>\n",
       "      <td>...</td>\n",
       "      <td>...</td>\n",
       "      <td>...</td>\n",
       "      <td>...</td>\n",
       "      <td>...</td>\n",
       "      <td>...</td>\n",
       "    </tr>\n",
       "    <tr>\n",
       "      <th>49727</th>\n",
       "      <td>33</td>\n",
       "      <td>services</td>\n",
       "      <td>married</td>\n",
       "      <td>secondary</td>\n",
       "      <td>no</td>\n",
       "      <td>-333</td>\n",
       "      <td>yes</td>\n",
       "      <td>no</td>\n",
       "      <td>cellular</td>\n",
       "      <td>30</td>\n",
       "      <td>jul</td>\n",
       "      <td>329</td>\n",
       "      <td>5</td>\n",
       "      <td>-1</td>\n",
       "      <td>0</td>\n",
       "      <td>unknown</td>\n",
       "      <td>no</td>\n",
       "    </tr>\n",
       "    <tr>\n",
       "      <th>49728</th>\n",
       "      <td>57</td>\n",
       "      <td>self-employed</td>\n",
       "      <td>married</td>\n",
       "      <td>tertiary</td>\n",
       "      <td>yes</td>\n",
       "      <td>-3313</td>\n",
       "      <td>yes</td>\n",
       "      <td>yes</td>\n",
       "      <td>unknown</td>\n",
       "      <td>9</td>\n",
       "      <td>may</td>\n",
       "      <td>153</td>\n",
       "      <td>1</td>\n",
       "      <td>-1</td>\n",
       "      <td>0</td>\n",
       "      <td>unknown</td>\n",
       "      <td>no</td>\n",
       "    </tr>\n",
       "    <tr>\n",
       "      <th>49729</th>\n",
       "      <td>57</td>\n",
       "      <td>technician</td>\n",
       "      <td>married</td>\n",
       "      <td>secondary</td>\n",
       "      <td>no</td>\n",
       "      <td>295</td>\n",
       "      <td>no</td>\n",
       "      <td>no</td>\n",
       "      <td>cellular</td>\n",
       "      <td>19</td>\n",
       "      <td>aug</td>\n",
       "      <td>151</td>\n",
       "      <td>11</td>\n",
       "      <td>-1</td>\n",
       "      <td>0</td>\n",
       "      <td>unknown</td>\n",
       "      <td>no</td>\n",
       "    </tr>\n",
       "    <tr>\n",
       "      <th>49730</th>\n",
       "      <td>28</td>\n",
       "      <td>blue-collar</td>\n",
       "      <td>married</td>\n",
       "      <td>secondary</td>\n",
       "      <td>no</td>\n",
       "      <td>1137</td>\n",
       "      <td>no</td>\n",
       "      <td>no</td>\n",
       "      <td>cellular</td>\n",
       "      <td>6</td>\n",
       "      <td>feb</td>\n",
       "      <td>129</td>\n",
       "      <td>4</td>\n",
       "      <td>211</td>\n",
       "      <td>3</td>\n",
       "      <td>other</td>\n",
       "      <td>no</td>\n",
       "    </tr>\n",
       "    <tr>\n",
       "      <th>49731</th>\n",
       "      <td>44</td>\n",
       "      <td>entrepreneur</td>\n",
       "      <td>single</td>\n",
       "      <td>tertiary</td>\n",
       "      <td>no</td>\n",
       "      <td>1136</td>\n",
       "      <td>yes</td>\n",
       "      <td>yes</td>\n",
       "      <td>cellular</td>\n",
       "      <td>3</td>\n",
       "      <td>apr</td>\n",
       "      <td>345</td>\n",
       "      <td>2</td>\n",
       "      <td>249</td>\n",
       "      <td>7</td>\n",
       "      <td>other</td>\n",
       "      <td>no</td>\n",
       "    </tr>\n",
       "  </tbody>\n",
       "</table>\n",
       "<p>49732 rows × 17 columns</p>\n",
       "</div>"
      ],
      "text/plain": [
       "       age            job  marital  education default  balance housing loan  \\\n",
       "0       58     management  married   tertiary      no     2143     yes   no   \n",
       "1       44     technician   single  secondary      no       29     yes   no   \n",
       "2       33   entrepreneur  married  secondary      no        2     yes  yes   \n",
       "3       47    blue-collar  married    unknown      no     1506     yes   no   \n",
       "4       33        unknown   single    unknown      no        1      no   no   \n",
       "...    ...            ...      ...        ...     ...      ...     ...  ...   \n",
       "49727   33       services  married  secondary      no     -333     yes   no   \n",
       "49728   57  self-employed  married   tertiary     yes    -3313     yes  yes   \n",
       "49729   57     technician  married  secondary      no      295      no   no   \n",
       "49730   28    blue-collar  married  secondary      no     1137      no   no   \n",
       "49731   44   entrepreneur   single   tertiary      no     1136     yes  yes   \n",
       "\n",
       "        contact  day month  duration  campaign  pdays  previous poutcome   y  \n",
       "0       unknown    5   may       261         1     -1         0  unknown  no  \n",
       "1       unknown    5   may       151         1     -1         0  unknown  no  \n",
       "2       unknown    5   may        76         1     -1         0  unknown  no  \n",
       "3       unknown    5   may        92         1     -1         0  unknown  no  \n",
       "4       unknown    5   may       198         1     -1         0  unknown  no  \n",
       "...         ...  ...   ...       ...       ...    ...       ...      ...  ..  \n",
       "49727  cellular   30   jul       329         5     -1         0  unknown  no  \n",
       "49728   unknown    9   may       153         1     -1         0  unknown  no  \n",
       "49729  cellular   19   aug       151        11     -1         0  unknown  no  \n",
       "49730  cellular    6   feb       129         4    211         3    other  no  \n",
       "49731  cellular    3   apr       345         2    249         7    other  no  \n",
       "\n",
       "[49732 rows x 17 columns]"
      ]
     },
     "execution_count": 9,
     "metadata": {},
     "output_type": "execute_result"
    }
   ],
   "source": [
    "df"
   ]
  },
  {
   "cell_type": "code",
   "execution_count": 10,
   "id": "5c35ccb5",
   "metadata": {},
   "outputs": [
    {
     "name": "stdout",
     "output_type": "stream",
     "text": [
      "['management' 'technician' 'entrepreneur' 'blue-collar' 'unknown'\n",
      " 'retired' 'admin.' 'services' 'self-employed' 'unemployed' 'housemaid'\n",
      " 'student']\n",
      "\n",
      "['may' 'jun' 'jul' 'aug' 'oct' 'nov' 'dec' 'jan' 'feb' 'mar' 'apr' 'sep']\n",
      "\n",
      "['married' 'single' 'divorced']\n",
      "\n",
      "['tertiary' 'secondary' 'unknown' 'primary']\n",
      "\n",
      "['unknown' 'cellular' 'telephone']\n",
      "\n",
      "['unknown' 'failure' 'other' 'success']\n"
     ]
    }
   ],
   "source": [
    "#Get uniques values\n",
    "job = df.job.unique()\n",
    "month = df.month.unique()\n",
    "marital = df.marital.unique()\n",
    "education = df.education.unique()\n",
    "contact = df.contact.unique()\n",
    "poutcome = df.poutcome.unique()\n",
    "\n",
    "print(job)\n",
    "print()\n",
    "print(month)\n",
    "print()\n",
    "print(marital)\n",
    "print()\n",
    "print(education)\n",
    "print()\n",
    "print(contact)\n",
    "print()\n",
    "print(poutcome)"
   ]
  },
  {
   "cell_type": "code",
   "execution_count": 11,
   "id": "9476cf8d",
   "metadata": {},
   "outputs": [
    {
     "data": {
      "text/html": [
       "<div>\n",
       "<style scoped>\n",
       "    .dataframe tbody tr th:only-of-type {\n",
       "        vertical-align: middle;\n",
       "    }\n",
       "\n",
       "    .dataframe tbody tr th {\n",
       "        vertical-align: top;\n",
       "    }\n",
       "\n",
       "    .dataframe thead th {\n",
       "        text-align: right;\n",
       "    }\n",
       "</style>\n",
       "<table border=\"1\" class=\"dataframe\">\n",
       "  <thead>\n",
       "    <tr style=\"text-align: right;\">\n",
       "      <th></th>\n",
       "      <th>age</th>\n",
       "      <th>job</th>\n",
       "      <th>marital</th>\n",
       "      <th>education</th>\n",
       "      <th>default</th>\n",
       "      <th>balance</th>\n",
       "      <th>housing</th>\n",
       "      <th>loan</th>\n",
       "      <th>contact</th>\n",
       "      <th>day</th>\n",
       "      <th>month</th>\n",
       "      <th>duration</th>\n",
       "      <th>campaign</th>\n",
       "      <th>pdays</th>\n",
       "      <th>previous</th>\n",
       "      <th>poutcome</th>\n",
       "      <th>y</th>\n",
       "    </tr>\n",
       "  </thead>\n",
       "  <tbody>\n",
       "    <tr>\n",
       "      <th>0</th>\n",
       "      <td>58</td>\n",
       "      <td>management</td>\n",
       "      <td>married</td>\n",
       "      <td>tertiary</td>\n",
       "      <td>no</td>\n",
       "      <td>2143</td>\n",
       "      <td>yes</td>\n",
       "      <td>no</td>\n",
       "      <td>&lt;NA&gt;</td>\n",
       "      <td>5</td>\n",
       "      <td>may</td>\n",
       "      <td>261</td>\n",
       "      <td>1</td>\n",
       "      <td>-1</td>\n",
       "      <td>0</td>\n",
       "      <td>&lt;NA&gt;</td>\n",
       "      <td>no</td>\n",
       "    </tr>\n",
       "    <tr>\n",
       "      <th>1</th>\n",
       "      <td>44</td>\n",
       "      <td>technician</td>\n",
       "      <td>single</td>\n",
       "      <td>secondary</td>\n",
       "      <td>no</td>\n",
       "      <td>29</td>\n",
       "      <td>yes</td>\n",
       "      <td>no</td>\n",
       "      <td>&lt;NA&gt;</td>\n",
       "      <td>5</td>\n",
       "      <td>may</td>\n",
       "      <td>151</td>\n",
       "      <td>1</td>\n",
       "      <td>-1</td>\n",
       "      <td>0</td>\n",
       "      <td>&lt;NA&gt;</td>\n",
       "      <td>no</td>\n",
       "    </tr>\n",
       "    <tr>\n",
       "      <th>2</th>\n",
       "      <td>33</td>\n",
       "      <td>entrepreneur</td>\n",
       "      <td>married</td>\n",
       "      <td>secondary</td>\n",
       "      <td>no</td>\n",
       "      <td>2</td>\n",
       "      <td>yes</td>\n",
       "      <td>yes</td>\n",
       "      <td>&lt;NA&gt;</td>\n",
       "      <td>5</td>\n",
       "      <td>may</td>\n",
       "      <td>76</td>\n",
       "      <td>1</td>\n",
       "      <td>-1</td>\n",
       "      <td>0</td>\n",
       "      <td>&lt;NA&gt;</td>\n",
       "      <td>no</td>\n",
       "    </tr>\n",
       "    <tr>\n",
       "      <th>3</th>\n",
       "      <td>47</td>\n",
       "      <td>blue-collar</td>\n",
       "      <td>married</td>\n",
       "      <td>&lt;NA&gt;</td>\n",
       "      <td>no</td>\n",
       "      <td>1506</td>\n",
       "      <td>yes</td>\n",
       "      <td>no</td>\n",
       "      <td>&lt;NA&gt;</td>\n",
       "      <td>5</td>\n",
       "      <td>may</td>\n",
       "      <td>92</td>\n",
       "      <td>1</td>\n",
       "      <td>-1</td>\n",
       "      <td>0</td>\n",
       "      <td>&lt;NA&gt;</td>\n",
       "      <td>no</td>\n",
       "    </tr>\n",
       "    <tr>\n",
       "      <th>4</th>\n",
       "      <td>33</td>\n",
       "      <td>&lt;NA&gt;</td>\n",
       "      <td>single</td>\n",
       "      <td>&lt;NA&gt;</td>\n",
       "      <td>no</td>\n",
       "      <td>1</td>\n",
       "      <td>no</td>\n",
       "      <td>no</td>\n",
       "      <td>&lt;NA&gt;</td>\n",
       "      <td>5</td>\n",
       "      <td>may</td>\n",
       "      <td>198</td>\n",
       "      <td>1</td>\n",
       "      <td>-1</td>\n",
       "      <td>0</td>\n",
       "      <td>&lt;NA&gt;</td>\n",
       "      <td>no</td>\n",
       "    </tr>\n",
       "    <tr>\n",
       "      <th>...</th>\n",
       "      <td>...</td>\n",
       "      <td>...</td>\n",
       "      <td>...</td>\n",
       "      <td>...</td>\n",
       "      <td>...</td>\n",
       "      <td>...</td>\n",
       "      <td>...</td>\n",
       "      <td>...</td>\n",
       "      <td>...</td>\n",
       "      <td>...</td>\n",
       "      <td>...</td>\n",
       "      <td>...</td>\n",
       "      <td>...</td>\n",
       "      <td>...</td>\n",
       "      <td>...</td>\n",
       "      <td>...</td>\n",
       "      <td>...</td>\n",
       "    </tr>\n",
       "    <tr>\n",
       "      <th>49727</th>\n",
       "      <td>33</td>\n",
       "      <td>services</td>\n",
       "      <td>married</td>\n",
       "      <td>secondary</td>\n",
       "      <td>no</td>\n",
       "      <td>-333</td>\n",
       "      <td>yes</td>\n",
       "      <td>no</td>\n",
       "      <td>cellular</td>\n",
       "      <td>30</td>\n",
       "      <td>jul</td>\n",
       "      <td>329</td>\n",
       "      <td>5</td>\n",
       "      <td>-1</td>\n",
       "      <td>0</td>\n",
       "      <td>&lt;NA&gt;</td>\n",
       "      <td>no</td>\n",
       "    </tr>\n",
       "    <tr>\n",
       "      <th>49728</th>\n",
       "      <td>57</td>\n",
       "      <td>self-employed</td>\n",
       "      <td>married</td>\n",
       "      <td>tertiary</td>\n",
       "      <td>yes</td>\n",
       "      <td>-3313</td>\n",
       "      <td>yes</td>\n",
       "      <td>yes</td>\n",
       "      <td>&lt;NA&gt;</td>\n",
       "      <td>9</td>\n",
       "      <td>may</td>\n",
       "      <td>153</td>\n",
       "      <td>1</td>\n",
       "      <td>-1</td>\n",
       "      <td>0</td>\n",
       "      <td>&lt;NA&gt;</td>\n",
       "      <td>no</td>\n",
       "    </tr>\n",
       "    <tr>\n",
       "      <th>49729</th>\n",
       "      <td>57</td>\n",
       "      <td>technician</td>\n",
       "      <td>married</td>\n",
       "      <td>secondary</td>\n",
       "      <td>no</td>\n",
       "      <td>295</td>\n",
       "      <td>no</td>\n",
       "      <td>no</td>\n",
       "      <td>cellular</td>\n",
       "      <td>19</td>\n",
       "      <td>aug</td>\n",
       "      <td>151</td>\n",
       "      <td>11</td>\n",
       "      <td>-1</td>\n",
       "      <td>0</td>\n",
       "      <td>&lt;NA&gt;</td>\n",
       "      <td>no</td>\n",
       "    </tr>\n",
       "    <tr>\n",
       "      <th>49730</th>\n",
       "      <td>28</td>\n",
       "      <td>blue-collar</td>\n",
       "      <td>married</td>\n",
       "      <td>secondary</td>\n",
       "      <td>no</td>\n",
       "      <td>1137</td>\n",
       "      <td>no</td>\n",
       "      <td>no</td>\n",
       "      <td>cellular</td>\n",
       "      <td>6</td>\n",
       "      <td>feb</td>\n",
       "      <td>129</td>\n",
       "      <td>4</td>\n",
       "      <td>211</td>\n",
       "      <td>3</td>\n",
       "      <td>other</td>\n",
       "      <td>no</td>\n",
       "    </tr>\n",
       "    <tr>\n",
       "      <th>49731</th>\n",
       "      <td>44</td>\n",
       "      <td>entrepreneur</td>\n",
       "      <td>single</td>\n",
       "      <td>tertiary</td>\n",
       "      <td>no</td>\n",
       "      <td>1136</td>\n",
       "      <td>yes</td>\n",
       "      <td>yes</td>\n",
       "      <td>cellular</td>\n",
       "      <td>3</td>\n",
       "      <td>apr</td>\n",
       "      <td>345</td>\n",
       "      <td>2</td>\n",
       "      <td>249</td>\n",
       "      <td>7</td>\n",
       "      <td>other</td>\n",
       "      <td>no</td>\n",
       "    </tr>\n",
       "  </tbody>\n",
       "</table>\n",
       "<p>49732 rows × 17 columns</p>\n",
       "</div>"
      ],
      "text/plain": [
       "       age            job  marital  education default  balance housing loan  \\\n",
       "0       58     management  married   tertiary      no     2143     yes   no   \n",
       "1       44     technician   single  secondary      no       29     yes   no   \n",
       "2       33   entrepreneur  married  secondary      no        2     yes  yes   \n",
       "3       47    blue-collar  married       <NA>      no     1506     yes   no   \n",
       "4       33           <NA>   single       <NA>      no        1      no   no   \n",
       "...    ...            ...      ...        ...     ...      ...     ...  ...   \n",
       "49727   33       services  married  secondary      no     -333     yes   no   \n",
       "49728   57  self-employed  married   tertiary     yes    -3313     yes  yes   \n",
       "49729   57     technician  married  secondary      no      295      no   no   \n",
       "49730   28    blue-collar  married  secondary      no     1137      no   no   \n",
       "49731   44   entrepreneur   single   tertiary      no     1136     yes  yes   \n",
       "\n",
       "        contact  day month  duration  campaign  pdays  previous poutcome   y  \n",
       "0          <NA>    5   may       261         1     -1         0     <NA>  no  \n",
       "1          <NA>    5   may       151         1     -1         0     <NA>  no  \n",
       "2          <NA>    5   may        76         1     -1         0     <NA>  no  \n",
       "3          <NA>    5   may        92         1     -1         0     <NA>  no  \n",
       "4          <NA>    5   may       198         1     -1         0     <NA>  no  \n",
       "...         ...  ...   ...       ...       ...    ...       ...      ...  ..  \n",
       "49727  cellular   30   jul       329         5     -1         0     <NA>  no  \n",
       "49728      <NA>    9   may       153         1     -1         0     <NA>  no  \n",
       "49729  cellular   19   aug       151        11     -1         0     <NA>  no  \n",
       "49730  cellular    6   feb       129         4    211         3    other  no  \n",
       "49731  cellular    3   apr       345         2    249         7    other  no  \n",
       "\n",
       "[49732 rows x 17 columns]"
      ]
     },
     "execution_count": 11,
     "metadata": {},
     "output_type": "execute_result"
    }
   ],
   "source": [
    "#Replace 'unknown' values to NaN\n",
    "df = df.replace('unknown', pd.NA)\n",
    "df"
   ]
  },
  {
   "cell_type": "code",
   "execution_count": 12,
   "id": "7b553910",
   "metadata": {},
   "outputs": [
    {
     "data": {
      "text/html": [
       "<div>\n",
       "<style scoped>\n",
       "    .dataframe tbody tr th:only-of-type {\n",
       "        vertical-align: middle;\n",
       "    }\n",
       "\n",
       "    .dataframe tbody tr th {\n",
       "        vertical-align: top;\n",
       "    }\n",
       "\n",
       "    .dataframe thead th {\n",
       "        text-align: right;\n",
       "    }\n",
       "</style>\n",
       "<table border=\"1\" class=\"dataframe\">\n",
       "  <thead>\n",
       "    <tr style=\"text-align: right;\">\n",
       "      <th></th>\n",
       "      <th>age</th>\n",
       "      <th>job</th>\n",
       "      <th>marital</th>\n",
       "      <th>education</th>\n",
       "      <th>default</th>\n",
       "      <th>balance</th>\n",
       "      <th>housing</th>\n",
       "      <th>loan</th>\n",
       "      <th>contact</th>\n",
       "      <th>day</th>\n",
       "      <th>month</th>\n",
       "      <th>duration</th>\n",
       "      <th>campaign</th>\n",
       "      <th>pdays</th>\n",
       "      <th>previous</th>\n",
       "      <th>poutcome</th>\n",
       "      <th>y</th>\n",
       "    </tr>\n",
       "  </thead>\n",
       "  <tbody>\n",
       "    <tr>\n",
       "      <th>24060</th>\n",
       "      <td>33</td>\n",
       "      <td>admin.</td>\n",
       "      <td>married</td>\n",
       "      <td>tertiary</td>\n",
       "      <td>no</td>\n",
       "      <td>882</td>\n",
       "      <td>no</td>\n",
       "      <td>no</td>\n",
       "      <td>telephone</td>\n",
       "      <td>21</td>\n",
       "      <td>oct</td>\n",
       "      <td>39</td>\n",
       "      <td>1</td>\n",
       "      <td>151</td>\n",
       "      <td>3</td>\n",
       "      <td>failure</td>\n",
       "      <td>no</td>\n",
       "    </tr>\n",
       "    <tr>\n",
       "      <th>24062</th>\n",
       "      <td>42</td>\n",
       "      <td>admin.</td>\n",
       "      <td>single</td>\n",
       "      <td>secondary</td>\n",
       "      <td>no</td>\n",
       "      <td>-247</td>\n",
       "      <td>yes</td>\n",
       "      <td>yes</td>\n",
       "      <td>telephone</td>\n",
       "      <td>21</td>\n",
       "      <td>oct</td>\n",
       "      <td>519</td>\n",
       "      <td>1</td>\n",
       "      <td>166</td>\n",
       "      <td>1</td>\n",
       "      <td>other</td>\n",
       "      <td>yes</td>\n",
       "    </tr>\n",
       "    <tr>\n",
       "      <th>24064</th>\n",
       "      <td>33</td>\n",
       "      <td>services</td>\n",
       "      <td>married</td>\n",
       "      <td>secondary</td>\n",
       "      <td>no</td>\n",
       "      <td>3444</td>\n",
       "      <td>yes</td>\n",
       "      <td>no</td>\n",
       "      <td>telephone</td>\n",
       "      <td>21</td>\n",
       "      <td>oct</td>\n",
       "      <td>144</td>\n",
       "      <td>1</td>\n",
       "      <td>91</td>\n",
       "      <td>4</td>\n",
       "      <td>failure</td>\n",
       "      <td>yes</td>\n",
       "    </tr>\n",
       "    <tr>\n",
       "      <th>24072</th>\n",
       "      <td>36</td>\n",
       "      <td>management</td>\n",
       "      <td>married</td>\n",
       "      <td>tertiary</td>\n",
       "      <td>no</td>\n",
       "      <td>2415</td>\n",
       "      <td>yes</td>\n",
       "      <td>no</td>\n",
       "      <td>telephone</td>\n",
       "      <td>22</td>\n",
       "      <td>oct</td>\n",
       "      <td>73</td>\n",
       "      <td>1</td>\n",
       "      <td>86</td>\n",
       "      <td>4</td>\n",
       "      <td>other</td>\n",
       "      <td>no</td>\n",
       "    </tr>\n",
       "    <tr>\n",
       "      <th>24077</th>\n",
       "      <td>36</td>\n",
       "      <td>management</td>\n",
       "      <td>married</td>\n",
       "      <td>tertiary</td>\n",
       "      <td>no</td>\n",
       "      <td>0</td>\n",
       "      <td>yes</td>\n",
       "      <td>no</td>\n",
       "      <td>telephone</td>\n",
       "      <td>23</td>\n",
       "      <td>oct</td>\n",
       "      <td>140</td>\n",
       "      <td>1</td>\n",
       "      <td>143</td>\n",
       "      <td>3</td>\n",
       "      <td>failure</td>\n",
       "      <td>yes</td>\n",
       "    </tr>\n",
       "    <tr>\n",
       "      <th>...</th>\n",
       "      <td>...</td>\n",
       "      <td>...</td>\n",
       "      <td>...</td>\n",
       "      <td>...</td>\n",
       "      <td>...</td>\n",
       "      <td>...</td>\n",
       "      <td>...</td>\n",
       "      <td>...</td>\n",
       "      <td>...</td>\n",
       "      <td>...</td>\n",
       "      <td>...</td>\n",
       "      <td>...</td>\n",
       "      <td>...</td>\n",
       "      <td>...</td>\n",
       "      <td>...</td>\n",
       "      <td>...</td>\n",
       "      <td>...</td>\n",
       "    </tr>\n",
       "    <tr>\n",
       "      <th>49703</th>\n",
       "      <td>32</td>\n",
       "      <td>technician</td>\n",
       "      <td>single</td>\n",
       "      <td>secondary</td>\n",
       "      <td>no</td>\n",
       "      <td>309</td>\n",
       "      <td>yes</td>\n",
       "      <td>yes</td>\n",
       "      <td>cellular</td>\n",
       "      <td>16</td>\n",
       "      <td>apr</td>\n",
       "      <td>346</td>\n",
       "      <td>1</td>\n",
       "      <td>234</td>\n",
       "      <td>3</td>\n",
       "      <td>failure</td>\n",
       "      <td>no</td>\n",
       "    </tr>\n",
       "    <tr>\n",
       "      <th>49715</th>\n",
       "      <td>42</td>\n",
       "      <td>blue-collar</td>\n",
       "      <td>single</td>\n",
       "      <td>secondary</td>\n",
       "      <td>no</td>\n",
       "      <td>1080</td>\n",
       "      <td>yes</td>\n",
       "      <td>yes</td>\n",
       "      <td>cellular</td>\n",
       "      <td>13</td>\n",
       "      <td>may</td>\n",
       "      <td>951</td>\n",
       "      <td>3</td>\n",
       "      <td>370</td>\n",
       "      <td>4</td>\n",
       "      <td>failure</td>\n",
       "      <td>yes</td>\n",
       "    </tr>\n",
       "    <tr>\n",
       "      <th>49725</th>\n",
       "      <td>38</td>\n",
       "      <td>blue-collar</td>\n",
       "      <td>married</td>\n",
       "      <td>secondary</td>\n",
       "      <td>no</td>\n",
       "      <td>1205</td>\n",
       "      <td>yes</td>\n",
       "      <td>no</td>\n",
       "      <td>cellular</td>\n",
       "      <td>20</td>\n",
       "      <td>apr</td>\n",
       "      <td>45</td>\n",
       "      <td>4</td>\n",
       "      <td>153</td>\n",
       "      <td>1</td>\n",
       "      <td>failure</td>\n",
       "      <td>no</td>\n",
       "    </tr>\n",
       "    <tr>\n",
       "      <th>49730</th>\n",
       "      <td>28</td>\n",
       "      <td>blue-collar</td>\n",
       "      <td>married</td>\n",
       "      <td>secondary</td>\n",
       "      <td>no</td>\n",
       "      <td>1137</td>\n",
       "      <td>no</td>\n",
       "      <td>no</td>\n",
       "      <td>cellular</td>\n",
       "      <td>6</td>\n",
       "      <td>feb</td>\n",
       "      <td>129</td>\n",
       "      <td>4</td>\n",
       "      <td>211</td>\n",
       "      <td>3</td>\n",
       "      <td>other</td>\n",
       "      <td>no</td>\n",
       "    </tr>\n",
       "    <tr>\n",
       "      <th>49731</th>\n",
       "      <td>44</td>\n",
       "      <td>entrepreneur</td>\n",
       "      <td>single</td>\n",
       "      <td>tertiary</td>\n",
       "      <td>no</td>\n",
       "      <td>1136</td>\n",
       "      <td>yes</td>\n",
       "      <td>yes</td>\n",
       "      <td>cellular</td>\n",
       "      <td>3</td>\n",
       "      <td>apr</td>\n",
       "      <td>345</td>\n",
       "      <td>2</td>\n",
       "      <td>249</td>\n",
       "      <td>7</td>\n",
       "      <td>other</td>\n",
       "      <td>no</td>\n",
       "    </tr>\n",
       "  </tbody>\n",
       "</table>\n",
       "<p>8606 rows × 17 columns</p>\n",
       "</div>"
      ],
      "text/plain": [
       "       age           job  marital  education default  balance housing loan  \\\n",
       "24060   33        admin.  married   tertiary      no      882      no   no   \n",
       "24062   42        admin.   single  secondary      no     -247     yes  yes   \n",
       "24064   33      services  married  secondary      no     3444     yes   no   \n",
       "24072   36    management  married   tertiary      no     2415     yes   no   \n",
       "24077   36    management  married   tertiary      no        0     yes   no   \n",
       "...    ...           ...      ...        ...     ...      ...     ...  ...   \n",
       "49703   32    technician   single  secondary      no      309     yes  yes   \n",
       "49715   42   blue-collar   single  secondary      no     1080     yes  yes   \n",
       "49725   38   blue-collar  married  secondary      no     1205     yes   no   \n",
       "49730   28   blue-collar  married  secondary      no     1137      no   no   \n",
       "49731   44  entrepreneur   single   tertiary      no     1136     yes  yes   \n",
       "\n",
       "         contact  day month  duration  campaign  pdays  previous poutcome    y  \n",
       "24060  telephone   21   oct        39         1    151         3  failure   no  \n",
       "24062  telephone   21   oct       519         1    166         1    other  yes  \n",
       "24064  telephone   21   oct       144         1     91         4  failure  yes  \n",
       "24072  telephone   22   oct        73         1     86         4    other   no  \n",
       "24077  telephone   23   oct       140         1    143         3  failure  yes  \n",
       "...          ...  ...   ...       ...       ...    ...       ...      ...  ...  \n",
       "49703   cellular   16   apr       346         1    234         3  failure   no  \n",
       "49715   cellular   13   may       951         3    370         4  failure  yes  \n",
       "49725   cellular   20   apr        45         4    153         1  failure   no  \n",
       "49730   cellular    6   feb       129         4    211         3    other   no  \n",
       "49731   cellular    3   apr       345         2    249         7    other   no  \n",
       "\n",
       "[8606 rows x 17 columns]"
      ]
     },
     "execution_count": 12,
     "metadata": {},
     "output_type": "execute_result"
    }
   ],
   "source": [
    "#Drop NaN values\n",
    "df = df.dropna()\n",
    "df"
   ]
  },
  {
   "cell_type": "code",
   "execution_count": 13,
   "id": "41cd3cde",
   "metadata": {},
   "outputs": [
    {
     "name": "stdout",
     "output_type": "stream",
     "text": [
      "['admin.' 'services' 'management' 'blue-collar' 'technician' 'unemployed'\n",
      " 'entrepreneur' 'housemaid' 'retired' 'self-employed' 'student']\n",
      "\n",
      "['oct' 'nov' 'jan' 'feb' 'mar' 'apr' 'may' 'jun' 'jul' 'aug' 'sep' 'dec']\n",
      "\n",
      "['married' 'single' 'divorced']\n",
      "\n",
      "['tertiary' 'secondary' 'primary']\n",
      "\n",
      "['telephone' 'cellular']\n",
      "\n",
      "['failure' 'other' 'success']\n"
     ]
    }
   ],
   "source": [
    "#Check uniques values\n",
    "job = df.job.unique()\n",
    "month = df.month.unique()\n",
    "marital = df.marital.unique()\n",
    "education = df.education.unique()\n",
    "contact = df.contact.unique()\n",
    "poutcome = df.poutcome.unique()\n",
    "\n",
    "\n",
    "print(job)\n",
    "print()\n",
    "print(month)\n",
    "print()\n",
    "print(marital)\n",
    "print()\n",
    "print(education)\n",
    "print()\n",
    "print(contact)\n",
    "print()\n",
    "print(poutcome)"
   ]
  },
  {
   "cell_type": "code",
   "execution_count": 14,
   "id": "f80be15c",
   "metadata": {},
   "outputs": [
    {
     "name": "stderr",
     "output_type": "stream",
     "text": [
      "C:\\Users\\DELL\\AppData\\Local\\Temp\\ipykernel_16888\\723803054.py:2: SettingWithCopyWarning: \n",
      "A value is trying to be set on a copy of a slice from a DataFrame\n",
      "\n",
      "See the caveats in the documentation: https://pandas.pydata.org/pandas-docs/stable/user_guide/indexing.html#returning-a-view-versus-a-copy\n",
      "  df.rename(columns = {'y':'FDcreated'}, inplace=True)\n"
     ]
    }
   ],
   "source": [
    "#Change prediction column name\n",
    "df.rename(columns = {'y':'FDcreated'}, inplace=True)"
   ]
  },
  {
   "cell_type": "code",
   "execution_count": 15,
   "id": "9b38c080",
   "metadata": {},
   "outputs": [],
   "source": [
    "# Save new CSV file\n",
    "df.to_csv(\"BankData.csv\", index=False)"
   ]
  },
  {
   "cell_type": "code",
   "execution_count": 16,
   "id": "39a37bd5",
   "metadata": {},
   "outputs": [
    {
     "data": {
      "text/html": [
       "<div>\n",
       "<style scoped>\n",
       "    .dataframe tbody tr th:only-of-type {\n",
       "        vertical-align: middle;\n",
       "    }\n",
       "\n",
       "    .dataframe tbody tr th {\n",
       "        vertical-align: top;\n",
       "    }\n",
       "\n",
       "    .dataframe thead th {\n",
       "        text-align: right;\n",
       "    }\n",
       "</style>\n",
       "<table border=\"1\" class=\"dataframe\">\n",
       "  <thead>\n",
       "    <tr style=\"text-align: right;\">\n",
       "      <th></th>\n",
       "      <th>age</th>\n",
       "      <th>job</th>\n",
       "      <th>marital</th>\n",
       "      <th>education</th>\n",
       "      <th>default</th>\n",
       "      <th>balance</th>\n",
       "      <th>housing</th>\n",
       "      <th>loan</th>\n",
       "      <th>contact</th>\n",
       "      <th>day</th>\n",
       "      <th>month</th>\n",
       "      <th>duration</th>\n",
       "      <th>campaign</th>\n",
       "      <th>pdays</th>\n",
       "      <th>previous</th>\n",
       "      <th>poutcome</th>\n",
       "      <th>FDcreated</th>\n",
       "    </tr>\n",
       "  </thead>\n",
       "  <tbody>\n",
       "    <tr>\n",
       "      <th>0</th>\n",
       "      <td>33</td>\n",
       "      <td>admin.</td>\n",
       "      <td>married</td>\n",
       "      <td>tertiary</td>\n",
       "      <td>no</td>\n",
       "      <td>882</td>\n",
       "      <td>no</td>\n",
       "      <td>no</td>\n",
       "      <td>telephone</td>\n",
       "      <td>21</td>\n",
       "      <td>oct</td>\n",
       "      <td>39</td>\n",
       "      <td>1</td>\n",
       "      <td>151</td>\n",
       "      <td>3</td>\n",
       "      <td>failure</td>\n",
       "      <td>no</td>\n",
       "    </tr>\n",
       "    <tr>\n",
       "      <th>1</th>\n",
       "      <td>42</td>\n",
       "      <td>admin.</td>\n",
       "      <td>single</td>\n",
       "      <td>secondary</td>\n",
       "      <td>no</td>\n",
       "      <td>-247</td>\n",
       "      <td>yes</td>\n",
       "      <td>yes</td>\n",
       "      <td>telephone</td>\n",
       "      <td>21</td>\n",
       "      <td>oct</td>\n",
       "      <td>519</td>\n",
       "      <td>1</td>\n",
       "      <td>166</td>\n",
       "      <td>1</td>\n",
       "      <td>other</td>\n",
       "      <td>yes</td>\n",
       "    </tr>\n",
       "    <tr>\n",
       "      <th>2</th>\n",
       "      <td>33</td>\n",
       "      <td>services</td>\n",
       "      <td>married</td>\n",
       "      <td>secondary</td>\n",
       "      <td>no</td>\n",
       "      <td>3444</td>\n",
       "      <td>yes</td>\n",
       "      <td>no</td>\n",
       "      <td>telephone</td>\n",
       "      <td>21</td>\n",
       "      <td>oct</td>\n",
       "      <td>144</td>\n",
       "      <td>1</td>\n",
       "      <td>91</td>\n",
       "      <td>4</td>\n",
       "      <td>failure</td>\n",
       "      <td>yes</td>\n",
       "    </tr>\n",
       "    <tr>\n",
       "      <th>3</th>\n",
       "      <td>36</td>\n",
       "      <td>management</td>\n",
       "      <td>married</td>\n",
       "      <td>tertiary</td>\n",
       "      <td>no</td>\n",
       "      <td>2415</td>\n",
       "      <td>yes</td>\n",
       "      <td>no</td>\n",
       "      <td>telephone</td>\n",
       "      <td>22</td>\n",
       "      <td>oct</td>\n",
       "      <td>73</td>\n",
       "      <td>1</td>\n",
       "      <td>86</td>\n",
       "      <td>4</td>\n",
       "      <td>other</td>\n",
       "      <td>no</td>\n",
       "    </tr>\n",
       "    <tr>\n",
       "      <th>4</th>\n",
       "      <td>36</td>\n",
       "      <td>management</td>\n",
       "      <td>married</td>\n",
       "      <td>tertiary</td>\n",
       "      <td>no</td>\n",
       "      <td>0</td>\n",
       "      <td>yes</td>\n",
       "      <td>no</td>\n",
       "      <td>telephone</td>\n",
       "      <td>23</td>\n",
       "      <td>oct</td>\n",
       "      <td>140</td>\n",
       "      <td>1</td>\n",
       "      <td>143</td>\n",
       "      <td>3</td>\n",
       "      <td>failure</td>\n",
       "      <td>yes</td>\n",
       "    </tr>\n",
       "    <tr>\n",
       "      <th>...</th>\n",
       "      <td>...</td>\n",
       "      <td>...</td>\n",
       "      <td>...</td>\n",
       "      <td>...</td>\n",
       "      <td>...</td>\n",
       "      <td>...</td>\n",
       "      <td>...</td>\n",
       "      <td>...</td>\n",
       "      <td>...</td>\n",
       "      <td>...</td>\n",
       "      <td>...</td>\n",
       "      <td>...</td>\n",
       "      <td>...</td>\n",
       "      <td>...</td>\n",
       "      <td>...</td>\n",
       "      <td>...</td>\n",
       "      <td>...</td>\n",
       "    </tr>\n",
       "    <tr>\n",
       "      <th>8601</th>\n",
       "      <td>32</td>\n",
       "      <td>technician</td>\n",
       "      <td>single</td>\n",
       "      <td>secondary</td>\n",
       "      <td>no</td>\n",
       "      <td>309</td>\n",
       "      <td>yes</td>\n",
       "      <td>yes</td>\n",
       "      <td>cellular</td>\n",
       "      <td>16</td>\n",
       "      <td>apr</td>\n",
       "      <td>346</td>\n",
       "      <td>1</td>\n",
       "      <td>234</td>\n",
       "      <td>3</td>\n",
       "      <td>failure</td>\n",
       "      <td>no</td>\n",
       "    </tr>\n",
       "    <tr>\n",
       "      <th>8602</th>\n",
       "      <td>42</td>\n",
       "      <td>blue-collar</td>\n",
       "      <td>single</td>\n",
       "      <td>secondary</td>\n",
       "      <td>no</td>\n",
       "      <td>1080</td>\n",
       "      <td>yes</td>\n",
       "      <td>yes</td>\n",
       "      <td>cellular</td>\n",
       "      <td>13</td>\n",
       "      <td>may</td>\n",
       "      <td>951</td>\n",
       "      <td>3</td>\n",
       "      <td>370</td>\n",
       "      <td>4</td>\n",
       "      <td>failure</td>\n",
       "      <td>yes</td>\n",
       "    </tr>\n",
       "    <tr>\n",
       "      <th>8603</th>\n",
       "      <td>38</td>\n",
       "      <td>blue-collar</td>\n",
       "      <td>married</td>\n",
       "      <td>secondary</td>\n",
       "      <td>no</td>\n",
       "      <td>1205</td>\n",
       "      <td>yes</td>\n",
       "      <td>no</td>\n",
       "      <td>cellular</td>\n",
       "      <td>20</td>\n",
       "      <td>apr</td>\n",
       "      <td>45</td>\n",
       "      <td>4</td>\n",
       "      <td>153</td>\n",
       "      <td>1</td>\n",
       "      <td>failure</td>\n",
       "      <td>no</td>\n",
       "    </tr>\n",
       "    <tr>\n",
       "      <th>8604</th>\n",
       "      <td>28</td>\n",
       "      <td>blue-collar</td>\n",
       "      <td>married</td>\n",
       "      <td>secondary</td>\n",
       "      <td>no</td>\n",
       "      <td>1137</td>\n",
       "      <td>no</td>\n",
       "      <td>no</td>\n",
       "      <td>cellular</td>\n",
       "      <td>6</td>\n",
       "      <td>feb</td>\n",
       "      <td>129</td>\n",
       "      <td>4</td>\n",
       "      <td>211</td>\n",
       "      <td>3</td>\n",
       "      <td>other</td>\n",
       "      <td>no</td>\n",
       "    </tr>\n",
       "    <tr>\n",
       "      <th>8605</th>\n",
       "      <td>44</td>\n",
       "      <td>entrepreneur</td>\n",
       "      <td>single</td>\n",
       "      <td>tertiary</td>\n",
       "      <td>no</td>\n",
       "      <td>1136</td>\n",
       "      <td>yes</td>\n",
       "      <td>yes</td>\n",
       "      <td>cellular</td>\n",
       "      <td>3</td>\n",
       "      <td>apr</td>\n",
       "      <td>345</td>\n",
       "      <td>2</td>\n",
       "      <td>249</td>\n",
       "      <td>7</td>\n",
       "      <td>other</td>\n",
       "      <td>no</td>\n",
       "    </tr>\n",
       "  </tbody>\n",
       "</table>\n",
       "<p>8606 rows × 17 columns</p>\n",
       "</div>"
      ],
      "text/plain": [
       "      age           job  marital  education default  balance housing loan  \\\n",
       "0      33        admin.  married   tertiary      no      882      no   no   \n",
       "1      42        admin.   single  secondary      no     -247     yes  yes   \n",
       "2      33      services  married  secondary      no     3444     yes   no   \n",
       "3      36    management  married   tertiary      no     2415     yes   no   \n",
       "4      36    management  married   tertiary      no        0     yes   no   \n",
       "...   ...           ...      ...        ...     ...      ...     ...  ...   \n",
       "8601   32    technician   single  secondary      no      309     yes  yes   \n",
       "8602   42   blue-collar   single  secondary      no     1080     yes  yes   \n",
       "8603   38   blue-collar  married  secondary      no     1205     yes   no   \n",
       "8604   28   blue-collar  married  secondary      no     1137      no   no   \n",
       "8605   44  entrepreneur   single   tertiary      no     1136     yes  yes   \n",
       "\n",
       "        contact  day month  duration  campaign  pdays  previous poutcome  \\\n",
       "0     telephone   21   oct        39         1    151         3  failure   \n",
       "1     telephone   21   oct       519         1    166         1    other   \n",
       "2     telephone   21   oct       144         1     91         4  failure   \n",
       "3     telephone   22   oct        73         1     86         4    other   \n",
       "4     telephone   23   oct       140         1    143         3  failure   \n",
       "...         ...  ...   ...       ...       ...    ...       ...      ...   \n",
       "8601   cellular   16   apr       346         1    234         3  failure   \n",
       "8602   cellular   13   may       951         3    370         4  failure   \n",
       "8603   cellular   20   apr        45         4    153         1  failure   \n",
       "8604   cellular    6   feb       129         4    211         3    other   \n",
       "8605   cellular    3   apr       345         2    249         7    other   \n",
       "\n",
       "     FDcreated  \n",
       "0           no  \n",
       "1          yes  \n",
       "2          yes  \n",
       "3           no  \n",
       "4          yes  \n",
       "...        ...  \n",
       "8601        no  \n",
       "8602       yes  \n",
       "8603        no  \n",
       "8604        no  \n",
       "8605        no  \n",
       "\n",
       "[8606 rows x 17 columns]"
      ]
     },
     "execution_count": 16,
     "metadata": {},
     "output_type": "execute_result"
    }
   ],
   "source": [
    "df = pd.read_csv(\"BankData.csv\")\n",
    "df"
   ]
  },
  {
   "cell_type": "markdown",
   "id": "48cc7c79",
   "metadata": {},
   "source": [
    "Encoding"
   ]
  },
  {
   "cell_type": "code",
   "execution_count": 17,
   "id": "dbc792ae",
   "metadata": {},
   "outputs": [],
   "source": [
    "#change yes = 1 no = 0\n",
    "df['default'] = df['default'].map({'yes': 1, 'no':0})\n",
    "df['housing'] = df['housing'].map({'yes': 1, 'no':0})\n",
    "df['loan'] = df['loan'].map({'yes': 1, 'no':0})\n",
    "df['FDcreated'] = df['FDcreated'].map({'yes': 1, 'no':0})"
   ]
  },
  {
   "cell_type": "code",
   "execution_count": 18,
   "id": "fa0e8ffe",
   "metadata": {},
   "outputs": [
    {
     "data": {
      "text/plain": [
       "array([1, 2, 0])"
      ]
     },
     "execution_count": 18,
     "metadata": {},
     "output_type": "execute_result"
    }
   ],
   "source": [
    "from sklearn.preprocessing import LabelEncoder\n",
    "\n",
    "#encode marital attribute\n",
    "marital = LabelEncoder()\n",
    "df['marital'] = marital.fit_transform(df['marital'])\n",
    "df[\"marital\"].unique()"
   ]
  },
  {
   "cell_type": "code",
   "execution_count": 19,
   "id": "c282197f",
   "metadata": {},
   "outputs": [
    {
     "data": {
      "text/plain": [
       "array([2, 1, 0])"
      ]
     },
     "execution_count": 19,
     "metadata": {},
     "output_type": "execute_result"
    }
   ],
   "source": [
    "#encode education attribute\n",
    "education = LabelEncoder()\n",
    "df['education'] = education.fit_transform(df['education'])\n",
    "df[\"education\"].unique()"
   ]
  },
  {
   "cell_type": "code",
   "execution_count": 20,
   "id": "6de3b0a6",
   "metadata": {},
   "outputs": [
    {
     "data": {
      "text/plain": [
       "array([ 0,  7,  4,  1,  9, 10,  2,  3,  5,  6,  8])"
      ]
     },
     "execution_count": 20,
     "metadata": {},
     "output_type": "execute_result"
    }
   ],
   "source": [
    "#encode job attribute\n",
    "job = LabelEncoder()\n",
    "df['job'] = job.fit_transform(df['job'])\n",
    "df[\"job\"].unique()"
   ]
  },
  {
   "cell_type": "code",
   "execution_count": 21,
   "id": "b7506d4e",
   "metadata": {},
   "outputs": [
    {
     "data": {
      "text/plain": [
       "array([10,  9,  4,  3,  7,  0,  8,  6,  5,  1, 11,  2])"
      ]
     },
     "execution_count": 21,
     "metadata": {},
     "output_type": "execute_result"
    }
   ],
   "source": [
    "#encode month attribute\n",
    "month = LabelEncoder()\n",
    "df['month'] = month.fit_transform(df['month'])\n",
    "df[\"month\"].unique()"
   ]
  },
  {
   "cell_type": "code",
   "execution_count": 22,
   "id": "dab209e0",
   "metadata": {},
   "outputs": [
    {
     "data": {
      "text/plain": [
       "array([1, 0])"
      ]
     },
     "execution_count": 22,
     "metadata": {},
     "output_type": "execute_result"
    }
   ],
   "source": [
    "#encode contact attribute\n",
    "contact = LabelEncoder()\n",
    "df['contact'] = contact.fit_transform(df['contact'])\n",
    "df[\"contact\"].unique()"
   ]
  },
  {
   "cell_type": "code",
   "execution_count": 23,
   "id": "f883170f",
   "metadata": {},
   "outputs": [
    {
     "data": {
      "text/plain": [
       "array([0, 1, 2])"
      ]
     },
     "execution_count": 23,
     "metadata": {},
     "output_type": "execute_result"
    }
   ],
   "source": [
    "#encode poutcome attribute\n",
    "poutcome = LabelEncoder()\n",
    "df['poutcome'] = poutcome.fit_transform(df['poutcome'])\n",
    "df[\"poutcome\"].unique()"
   ]
  },
  {
   "cell_type": "markdown",
   "id": "e72c26c7",
   "metadata": {},
   "source": [
    "Normalization"
   ]
  },
  {
   "cell_type": "code",
   "execution_count": 24,
   "id": "74b6da2e",
   "metadata": {},
   "outputs": [
    {
     "name": "stdout",
     "output_type": "stream",
     "text": [
      "Minimum balance:  -1884\n",
      "Maximum balance:  81204\n"
     ]
    },
    {
     "data": {
      "text/html": [
       "<div>\n",
       "<style scoped>\n",
       "    .dataframe tbody tr th:only-of-type {\n",
       "        vertical-align: middle;\n",
       "    }\n",
       "\n",
       "    .dataframe tbody tr th {\n",
       "        vertical-align: top;\n",
       "    }\n",
       "\n",
       "    .dataframe thead th {\n",
       "        text-align: right;\n",
       "    }\n",
       "</style>\n",
       "<table border=\"1\" class=\"dataframe\">\n",
       "  <thead>\n",
       "    <tr style=\"text-align: right;\">\n",
       "      <th></th>\n",
       "      <th>age</th>\n",
       "      <th>job</th>\n",
       "      <th>marital</th>\n",
       "      <th>education</th>\n",
       "      <th>default</th>\n",
       "      <th>balance</th>\n",
       "      <th>housing</th>\n",
       "      <th>loan</th>\n",
       "      <th>contact</th>\n",
       "      <th>day</th>\n",
       "      <th>month</th>\n",
       "      <th>duration</th>\n",
       "      <th>campaign</th>\n",
       "      <th>pdays</th>\n",
       "      <th>previous</th>\n",
       "      <th>poutcome</th>\n",
       "      <th>FDcreated</th>\n",
       "    </tr>\n",
       "  </thead>\n",
       "  <tbody>\n",
       "    <tr>\n",
       "      <th>0</th>\n",
       "      <td>33</td>\n",
       "      <td>0</td>\n",
       "      <td>1</td>\n",
       "      <td>2</td>\n",
       "      <td>0</td>\n",
       "      <td>0.033290</td>\n",
       "      <td>0</td>\n",
       "      <td>0</td>\n",
       "      <td>1</td>\n",
       "      <td>21</td>\n",
       "      <td>10</td>\n",
       "      <td>39</td>\n",
       "      <td>1</td>\n",
       "      <td>151</td>\n",
       "      <td>3</td>\n",
       "      <td>0</td>\n",
       "      <td>0</td>\n",
       "    </tr>\n",
       "    <tr>\n",
       "      <th>1</th>\n",
       "      <td>42</td>\n",
       "      <td>0</td>\n",
       "      <td>2</td>\n",
       "      <td>1</td>\n",
       "      <td>0</td>\n",
       "      <td>0.019702</td>\n",
       "      <td>1</td>\n",
       "      <td>1</td>\n",
       "      <td>1</td>\n",
       "      <td>21</td>\n",
       "      <td>10</td>\n",
       "      <td>519</td>\n",
       "      <td>1</td>\n",
       "      <td>166</td>\n",
       "      <td>1</td>\n",
       "      <td>1</td>\n",
       "      <td>1</td>\n",
       "    </tr>\n",
       "    <tr>\n",
       "      <th>2</th>\n",
       "      <td>33</td>\n",
       "      <td>7</td>\n",
       "      <td>1</td>\n",
       "      <td>1</td>\n",
       "      <td>0</td>\n",
       "      <td>0.064125</td>\n",
       "      <td>1</td>\n",
       "      <td>0</td>\n",
       "      <td>1</td>\n",
       "      <td>21</td>\n",
       "      <td>10</td>\n",
       "      <td>144</td>\n",
       "      <td>1</td>\n",
       "      <td>91</td>\n",
       "      <td>4</td>\n",
       "      <td>0</td>\n",
       "      <td>1</td>\n",
       "    </tr>\n",
       "    <tr>\n",
       "      <th>3</th>\n",
       "      <td>36</td>\n",
       "      <td>4</td>\n",
       "      <td>1</td>\n",
       "      <td>2</td>\n",
       "      <td>0</td>\n",
       "      <td>0.051740</td>\n",
       "      <td>1</td>\n",
       "      <td>0</td>\n",
       "      <td>1</td>\n",
       "      <td>22</td>\n",
       "      <td>10</td>\n",
       "      <td>73</td>\n",
       "      <td>1</td>\n",
       "      <td>86</td>\n",
       "      <td>4</td>\n",
       "      <td>1</td>\n",
       "      <td>0</td>\n",
       "    </tr>\n",
       "    <tr>\n",
       "      <th>4</th>\n",
       "      <td>36</td>\n",
       "      <td>4</td>\n",
       "      <td>1</td>\n",
       "      <td>2</td>\n",
       "      <td>0</td>\n",
       "      <td>0.022675</td>\n",
       "      <td>1</td>\n",
       "      <td>0</td>\n",
       "      <td>1</td>\n",
       "      <td>23</td>\n",
       "      <td>10</td>\n",
       "      <td>140</td>\n",
       "      <td>1</td>\n",
       "      <td>143</td>\n",
       "      <td>3</td>\n",
       "      <td>0</td>\n",
       "      <td>1</td>\n",
       "    </tr>\n",
       "    <tr>\n",
       "      <th>...</th>\n",
       "      <td>...</td>\n",
       "      <td>...</td>\n",
       "      <td>...</td>\n",
       "      <td>...</td>\n",
       "      <td>...</td>\n",
       "      <td>...</td>\n",
       "      <td>...</td>\n",
       "      <td>...</td>\n",
       "      <td>...</td>\n",
       "      <td>...</td>\n",
       "      <td>...</td>\n",
       "      <td>...</td>\n",
       "      <td>...</td>\n",
       "      <td>...</td>\n",
       "      <td>...</td>\n",
       "      <td>...</td>\n",
       "      <td>...</td>\n",
       "    </tr>\n",
       "    <tr>\n",
       "      <th>8601</th>\n",
       "      <td>32</td>\n",
       "      <td>9</td>\n",
       "      <td>2</td>\n",
       "      <td>1</td>\n",
       "      <td>0</td>\n",
       "      <td>0.026394</td>\n",
       "      <td>1</td>\n",
       "      <td>1</td>\n",
       "      <td>0</td>\n",
       "      <td>16</td>\n",
       "      <td>0</td>\n",
       "      <td>346</td>\n",
       "      <td>1</td>\n",
       "      <td>234</td>\n",
       "      <td>3</td>\n",
       "      <td>0</td>\n",
       "      <td>0</td>\n",
       "    </tr>\n",
       "    <tr>\n",
       "      <th>8602</th>\n",
       "      <td>42</td>\n",
       "      <td>1</td>\n",
       "      <td>2</td>\n",
       "      <td>1</td>\n",
       "      <td>0</td>\n",
       "      <td>0.035673</td>\n",
       "      <td>1</td>\n",
       "      <td>1</td>\n",
       "      <td>0</td>\n",
       "      <td>13</td>\n",
       "      <td>8</td>\n",
       "      <td>951</td>\n",
       "      <td>3</td>\n",
       "      <td>370</td>\n",
       "      <td>4</td>\n",
       "      <td>0</td>\n",
       "      <td>1</td>\n",
       "    </tr>\n",
       "    <tr>\n",
       "      <th>8603</th>\n",
       "      <td>38</td>\n",
       "      <td>1</td>\n",
       "      <td>1</td>\n",
       "      <td>1</td>\n",
       "      <td>0</td>\n",
       "      <td>0.037177</td>\n",
       "      <td>1</td>\n",
       "      <td>0</td>\n",
       "      <td>0</td>\n",
       "      <td>20</td>\n",
       "      <td>0</td>\n",
       "      <td>45</td>\n",
       "      <td>4</td>\n",
       "      <td>153</td>\n",
       "      <td>1</td>\n",
       "      <td>0</td>\n",
       "      <td>0</td>\n",
       "    </tr>\n",
       "    <tr>\n",
       "      <th>8604</th>\n",
       "      <td>28</td>\n",
       "      <td>1</td>\n",
       "      <td>1</td>\n",
       "      <td>1</td>\n",
       "      <td>0</td>\n",
       "      <td>0.036359</td>\n",
       "      <td>0</td>\n",
       "      <td>0</td>\n",
       "      <td>0</td>\n",
       "      <td>6</td>\n",
       "      <td>3</td>\n",
       "      <td>129</td>\n",
       "      <td>4</td>\n",
       "      <td>211</td>\n",
       "      <td>3</td>\n",
       "      <td>1</td>\n",
       "      <td>0</td>\n",
       "    </tr>\n",
       "    <tr>\n",
       "      <th>8605</th>\n",
       "      <td>44</td>\n",
       "      <td>2</td>\n",
       "      <td>2</td>\n",
       "      <td>2</td>\n",
       "      <td>0</td>\n",
       "      <td>0.036347</td>\n",
       "      <td>1</td>\n",
       "      <td>1</td>\n",
       "      <td>0</td>\n",
       "      <td>3</td>\n",
       "      <td>0</td>\n",
       "      <td>345</td>\n",
       "      <td>2</td>\n",
       "      <td>249</td>\n",
       "      <td>7</td>\n",
       "      <td>1</td>\n",
       "      <td>0</td>\n",
       "    </tr>\n",
       "  </tbody>\n",
       "</table>\n",
       "<p>8606 rows × 17 columns</p>\n",
       "</div>"
      ],
      "text/plain": [
       "      age  job  marital  education  default   balance  housing  loan  contact  \\\n",
       "0      33    0        1          2        0  0.033290        0     0        1   \n",
       "1      42    0        2          1        0  0.019702        1     1        1   \n",
       "2      33    7        1          1        0  0.064125        1     0        1   \n",
       "3      36    4        1          2        0  0.051740        1     0        1   \n",
       "4      36    4        1          2        0  0.022675        1     0        1   \n",
       "...   ...  ...      ...        ...      ...       ...      ...   ...      ...   \n",
       "8601   32    9        2          1        0  0.026394        1     1        0   \n",
       "8602   42    1        2          1        0  0.035673        1     1        0   \n",
       "8603   38    1        1          1        0  0.037177        1     0        0   \n",
       "8604   28    1        1          1        0  0.036359        0     0        0   \n",
       "8605   44    2        2          2        0  0.036347        1     1        0   \n",
       "\n",
       "      day  month  duration  campaign  pdays  previous  poutcome  FDcreated  \n",
       "0      21     10        39         1    151         3         0          0  \n",
       "1      21     10       519         1    166         1         1          1  \n",
       "2      21     10       144         1     91         4         0          1  \n",
       "3      22     10        73         1     86         4         1          0  \n",
       "4      23     10       140         1    143         3         0          1  \n",
       "...   ...    ...       ...       ...    ...       ...       ...        ...  \n",
       "8601   16      0       346         1    234         3         0          0  \n",
       "8602   13      8       951         3    370         4         0          1  \n",
       "8603   20      0        45         4    153         1         0          0  \n",
       "8604    6      3       129         4    211         3         1          0  \n",
       "8605    3      0       345         2    249         7         1          0  \n",
       "\n",
       "[8606 rows x 17 columns]"
      ]
     },
     "execution_count": 24,
     "metadata": {},
     "output_type": "execute_result"
    }
   ],
   "source": [
    "#Balance\n",
    "minB = df['balance'].min()\n",
    "maxB = df['balance'].max()\n",
    "\n",
    "print(\"Minimum balance: \", minB)\n",
    "print(\"Maximum balance: \", maxB)\n",
    "\n",
    "df['balance'] = df['balance'].apply(lambda v: (v - df['balance'].min())/ (df['balance'].max() - df['balance'].min()))\n",
    "\n",
    "df"
   ]
  },
  {
   "cell_type": "code",
   "execution_count": 25,
   "id": "904fd824",
   "metadata": {
    "scrolled": true
   },
   "outputs": [
    {
     "name": "stdout",
     "output_type": "stream",
     "text": [
      "Minimum pdays:  1\n",
      "Maximum pdays:  871\n"
     ]
    }
   ],
   "source": [
    "#pdays\n",
    "minPD = df['pdays'].min()\n",
    "maxPD = df['pdays'].max()\n",
    "\n",
    "print(\"Minimum pdays: \", minPD)\n",
    "print(\"Maximum pdays: \", maxPD)\n",
    "\n",
    "#df['pdays'] = df['pdays'].apply(lambda v: (v - df['pdays'].min())/ (df['pdays'].max() - df['pdays'].min()))\n",
    "\n",
    "#df"
   ]
  },
  {
   "cell_type": "code",
   "execution_count": 26,
   "id": "562c48c4",
   "metadata": {},
   "outputs": [
    {
     "data": {
      "text/html": [
       "<div>\n",
       "<style scoped>\n",
       "    .dataframe tbody tr th:only-of-type {\n",
       "        vertical-align: middle;\n",
       "    }\n",
       "\n",
       "    .dataframe tbody tr th {\n",
       "        vertical-align: top;\n",
       "    }\n",
       "\n",
       "    .dataframe thead th {\n",
       "        text-align: right;\n",
       "    }\n",
       "</style>\n",
       "<table border=\"1\" class=\"dataframe\">\n",
       "  <thead>\n",
       "    <tr style=\"text-align: right;\">\n",
       "      <th></th>\n",
       "      <th>age</th>\n",
       "      <th>job</th>\n",
       "      <th>marital</th>\n",
       "      <th>education</th>\n",
       "      <th>default</th>\n",
       "      <th>balance</th>\n",
       "      <th>housing</th>\n",
       "      <th>loan</th>\n",
       "      <th>contact</th>\n",
       "      <th>day</th>\n",
       "      <th>month</th>\n",
       "      <th>duration</th>\n",
       "      <th>campaign</th>\n",
       "      <th>pdays</th>\n",
       "      <th>previous</th>\n",
       "      <th>poutcome</th>\n",
       "      <th>FDcreated</th>\n",
       "    </tr>\n",
       "  </thead>\n",
       "  <tbody>\n",
       "    <tr>\n",
       "      <th>count</th>\n",
       "      <td>8606.000000</td>\n",
       "      <td>8606.000000</td>\n",
       "      <td>8606.000000</td>\n",
       "      <td>8606.000000</td>\n",
       "      <td>8606.000000</td>\n",
       "      <td>8606.000000</td>\n",
       "      <td>8606.000000</td>\n",
       "      <td>8606.00000</td>\n",
       "      <td>8606.000000</td>\n",
       "      <td>8606.000000</td>\n",
       "      <td>8606.000000</td>\n",
       "      <td>8606.000000</td>\n",
       "      <td>8606.000000</td>\n",
       "      <td>8606.000000</td>\n",
       "      <td>8606.000000</td>\n",
       "      <td>8606.000000</td>\n",
       "      <td>8606.000000</td>\n",
       "    </tr>\n",
       "    <tr>\n",
       "      <th>mean</th>\n",
       "      <td>40.827678</td>\n",
       "      <td>4.292935</td>\n",
       "      <td>1.199280</td>\n",
       "      <td>1.207297</td>\n",
       "      <td>0.007088</td>\n",
       "      <td>0.041409</td>\n",
       "      <td>0.631071</td>\n",
       "      <td>0.13723</td>\n",
       "      <td>0.075761</td>\n",
       "      <td>14.288868</td>\n",
       "      <td>5.714153</td>\n",
       "      <td>262.408901</td>\n",
       "      <td>2.061934</td>\n",
       "      <td>223.375552</td>\n",
       "      <td>3.169649</td>\n",
       "      <td>0.579712</td>\n",
       "      <td>0.227399</td>\n",
       "    </tr>\n",
       "    <tr>\n",
       "      <th>std</th>\n",
       "      <td>11.287451</td>\n",
       "      <td>3.239294</td>\n",
       "      <td>0.619951</td>\n",
       "      <td>0.649693</td>\n",
       "      <td>0.083897</td>\n",
       "      <td>0.037013</td>\n",
       "      <td>0.482543</td>\n",
       "      <td>0.34411</td>\n",
       "      <td>0.264631</td>\n",
       "      <td>7.879156</td>\n",
       "      <td>3.461162</td>\n",
       "      <td>237.155813</td>\n",
       "      <td>1.568205</td>\n",
       "      <td>111.946568</td>\n",
       "      <td>4.490992</td>\n",
       "      <td>0.773832</td>\n",
       "      <td>0.419177</td>\n",
       "    </tr>\n",
       "    <tr>\n",
       "      <th>min</th>\n",
       "      <td>18.000000</td>\n",
       "      <td>0.000000</td>\n",
       "      <td>0.000000</td>\n",
       "      <td>0.000000</td>\n",
       "      <td>0.000000</td>\n",
       "      <td>0.000000</td>\n",
       "      <td>0.000000</td>\n",
       "      <td>0.00000</td>\n",
       "      <td>0.000000</td>\n",
       "      <td>1.000000</td>\n",
       "      <td>0.000000</td>\n",
       "      <td>5.000000</td>\n",
       "      <td>1.000000</td>\n",
       "      <td>1.000000</td>\n",
       "      <td>1.000000</td>\n",
       "      <td>0.000000</td>\n",
       "      <td>0.000000</td>\n",
       "    </tr>\n",
       "    <tr>\n",
       "      <th>25%</th>\n",
       "      <td>33.000000</td>\n",
       "      <td>1.000000</td>\n",
       "      <td>1.000000</td>\n",
       "      <td>1.000000</td>\n",
       "      <td>0.000000</td>\n",
       "      <td>0.024588</td>\n",
       "      <td>0.000000</td>\n",
       "      <td>0.00000</td>\n",
       "      <td>0.000000</td>\n",
       "      <td>7.000000</td>\n",
       "      <td>3.000000</td>\n",
       "      <td>113.000000</td>\n",
       "      <td>1.000000</td>\n",
       "      <td>134.000000</td>\n",
       "      <td>1.000000</td>\n",
       "      <td>0.000000</td>\n",
       "      <td>0.000000</td>\n",
       "    </tr>\n",
       "    <tr>\n",
       "      <th>50%</th>\n",
       "      <td>38.000000</td>\n",
       "      <td>4.000000</td>\n",
       "      <td>1.000000</td>\n",
       "      <td>1.000000</td>\n",
       "      <td>0.000000</td>\n",
       "      <td>0.029872</td>\n",
       "      <td>1.000000</td>\n",
       "      <td>0.00000</td>\n",
       "      <td>0.000000</td>\n",
       "      <td>14.000000</td>\n",
       "      <td>8.000000</td>\n",
       "      <td>195.000000</td>\n",
       "      <td>2.000000</td>\n",
       "      <td>194.000000</td>\n",
       "      <td>2.000000</td>\n",
       "      <td>0.000000</td>\n",
       "      <td>0.000000</td>\n",
       "    </tr>\n",
       "    <tr>\n",
       "      <th>75%</th>\n",
       "      <td>47.000000</td>\n",
       "      <td>7.000000</td>\n",
       "      <td>2.000000</td>\n",
       "      <td>2.000000</td>\n",
       "      <td>0.000000</td>\n",
       "      <td>0.043460</td>\n",
       "      <td>1.000000</td>\n",
       "      <td>0.00000</td>\n",
       "      <td>0.000000</td>\n",
       "      <td>20.000000</td>\n",
       "      <td>8.000000</td>\n",
       "      <td>326.000000</td>\n",
       "      <td>2.000000</td>\n",
       "      <td>326.750000</td>\n",
       "      <td>4.000000</td>\n",
       "      <td>1.000000</td>\n",
       "      <td>0.000000</td>\n",
       "    </tr>\n",
       "    <tr>\n",
       "      <th>max</th>\n",
       "      <td>89.000000</td>\n",
       "      <td>10.000000</td>\n",
       "      <td>2.000000</td>\n",
       "      <td>2.000000</td>\n",
       "      <td>1.000000</td>\n",
       "      <td>1.000000</td>\n",
       "      <td>1.000000</td>\n",
       "      <td>1.00000</td>\n",
       "      <td>1.000000</td>\n",
       "      <td>31.000000</td>\n",
       "      <td>11.000000</td>\n",
       "      <td>2219.000000</td>\n",
       "      <td>16.000000</td>\n",
       "      <td>871.000000</td>\n",
       "      <td>275.000000</td>\n",
       "      <td>2.000000</td>\n",
       "      <td>1.000000</td>\n",
       "    </tr>\n",
       "  </tbody>\n",
       "</table>\n",
       "</div>"
      ],
      "text/plain": [
       "               age          job      marital    education      default  \\\n",
       "count  8606.000000  8606.000000  8606.000000  8606.000000  8606.000000   \n",
       "mean     40.827678     4.292935     1.199280     1.207297     0.007088   \n",
       "std      11.287451     3.239294     0.619951     0.649693     0.083897   \n",
       "min      18.000000     0.000000     0.000000     0.000000     0.000000   \n",
       "25%      33.000000     1.000000     1.000000     1.000000     0.000000   \n",
       "50%      38.000000     4.000000     1.000000     1.000000     0.000000   \n",
       "75%      47.000000     7.000000     2.000000     2.000000     0.000000   \n",
       "max      89.000000    10.000000     2.000000     2.000000     1.000000   \n",
       "\n",
       "           balance      housing        loan      contact          day  \\\n",
       "count  8606.000000  8606.000000  8606.00000  8606.000000  8606.000000   \n",
       "mean      0.041409     0.631071     0.13723     0.075761    14.288868   \n",
       "std       0.037013     0.482543     0.34411     0.264631     7.879156   \n",
       "min       0.000000     0.000000     0.00000     0.000000     1.000000   \n",
       "25%       0.024588     0.000000     0.00000     0.000000     7.000000   \n",
       "50%       0.029872     1.000000     0.00000     0.000000    14.000000   \n",
       "75%       0.043460     1.000000     0.00000     0.000000    20.000000   \n",
       "max       1.000000     1.000000     1.00000     1.000000    31.000000   \n",
       "\n",
       "             month     duration     campaign        pdays     previous  \\\n",
       "count  8606.000000  8606.000000  8606.000000  8606.000000  8606.000000   \n",
       "mean      5.714153   262.408901     2.061934   223.375552     3.169649   \n",
       "std       3.461162   237.155813     1.568205   111.946568     4.490992   \n",
       "min       0.000000     5.000000     1.000000     1.000000     1.000000   \n",
       "25%       3.000000   113.000000     1.000000   134.000000     1.000000   \n",
       "50%       8.000000   195.000000     2.000000   194.000000     2.000000   \n",
       "75%       8.000000   326.000000     2.000000   326.750000     4.000000   \n",
       "max      11.000000  2219.000000    16.000000   871.000000   275.000000   \n",
       "\n",
       "          poutcome    FDcreated  \n",
       "count  8606.000000  8606.000000  \n",
       "mean      0.579712     0.227399  \n",
       "std       0.773832     0.419177  \n",
       "min       0.000000     0.000000  \n",
       "25%       0.000000     0.000000  \n",
       "50%       0.000000     0.000000  \n",
       "75%       1.000000     0.000000  \n",
       "max       2.000000     1.000000  "
      ]
     },
     "execution_count": 26,
     "metadata": {},
     "output_type": "execute_result"
    }
   ],
   "source": [
    "#get the counts without NaN values\n",
    "df.describe()"
   ]
  },
  {
   "cell_type": "code",
   "execution_count": 27,
   "id": "0245622f",
   "metadata": {},
   "outputs": [
    {
     "data": {
      "text/html": [
       "<div>\n",
       "<style scoped>\n",
       "    .dataframe tbody tr th:only-of-type {\n",
       "        vertical-align: middle;\n",
       "    }\n",
       "\n",
       "    .dataframe tbody tr th {\n",
       "        vertical-align: top;\n",
       "    }\n",
       "\n",
       "    .dataframe thead th {\n",
       "        text-align: right;\n",
       "    }\n",
       "</style>\n",
       "<table border=\"1\" class=\"dataframe\">\n",
       "  <thead>\n",
       "    <tr style=\"text-align: right;\">\n",
       "      <th></th>\n",
       "      <th>age</th>\n",
       "      <th>job</th>\n",
       "      <th>marital</th>\n",
       "      <th>education</th>\n",
       "      <th>default</th>\n",
       "      <th>balance</th>\n",
       "      <th>housing</th>\n",
       "      <th>loan</th>\n",
       "      <th>contact</th>\n",
       "      <th>day</th>\n",
       "      <th>month</th>\n",
       "      <th>duration</th>\n",
       "      <th>campaign</th>\n",
       "      <th>pdays</th>\n",
       "      <th>previous</th>\n",
       "      <th>poutcome</th>\n",
       "      <th>FDcreated</th>\n",
       "    </tr>\n",
       "  </thead>\n",
       "  <tbody>\n",
       "    <tr>\n",
       "      <th>age</th>\n",
       "      <td>1.000000</td>\n",
       "      <td>-0.022152</td>\n",
       "      <td>-0.411916</td>\n",
       "      <td>-0.184784</td>\n",
       "      <td>-0.022885</td>\n",
       "      <td>0.109624</td>\n",
       "      <td>-0.188700</td>\n",
       "      <td>-0.007046</td>\n",
       "      <td>0.194464</td>\n",
       "      <td>0.017284</td>\n",
       "      <td>0.011905</td>\n",
       "      <td>0.061770</td>\n",
       "      <td>-0.003710</td>\n",
       "      <td>-0.106328</td>\n",
       "      <td>0.001397</td>\n",
       "      <td>0.044846</td>\n",
       "      <td>0.067329</td>\n",
       "    </tr>\n",
       "    <tr>\n",
       "      <th>job</th>\n",
       "      <td>-0.022152</td>\n",
       "      <td>1.000000</td>\n",
       "      <td>0.068494</td>\n",
       "      <td>0.169656</td>\n",
       "      <td>-0.022180</td>\n",
       "      <td>0.036632</td>\n",
       "      <td>-0.119842</td>\n",
       "      <td>-0.027936</td>\n",
       "      <td>-0.007998</td>\n",
       "      <td>0.015489</td>\n",
       "      <td>-0.005083</td>\n",
       "      <td>0.018949</td>\n",
       "      <td>-0.007918</td>\n",
       "      <td>-0.102178</td>\n",
       "      <td>0.003861</td>\n",
       "      <td>0.060665</td>\n",
       "      <td>0.075720</td>\n",
       "    </tr>\n",
       "    <tr>\n",
       "      <th>marital</th>\n",
       "      <td>-0.411916</td>\n",
       "      <td>0.068494</td>\n",
       "      <td>1.000000</td>\n",
       "      <td>0.139498</td>\n",
       "      <td>-0.007052</td>\n",
       "      <td>-0.016838</td>\n",
       "      <td>-0.047893</td>\n",
       "      <td>-0.051396</td>\n",
       "      <td>-0.022618</td>\n",
       "      <td>0.015478</td>\n",
       "      <td>-0.030587</td>\n",
       "      <td>-0.006414</td>\n",
       "      <td>-0.004449</td>\n",
       "      <td>-0.009530</td>\n",
       "      <td>0.006514</td>\n",
       "      <td>0.045491</td>\n",
       "      <td>0.046960</td>\n",
       "    </tr>\n",
       "    <tr>\n",
       "      <th>education</th>\n",
       "      <td>-0.184784</td>\n",
       "      <td>0.169656</td>\n",
       "      <td>0.139498</td>\n",
       "      <td>1.000000</td>\n",
       "      <td>-0.007772</td>\n",
       "      <td>0.080733</td>\n",
       "      <td>-0.112996</td>\n",
       "      <td>-0.031094</td>\n",
       "      <td>-0.098116</td>\n",
       "      <td>0.017246</td>\n",
       "      <td>-0.004602</td>\n",
       "      <td>-0.002797</td>\n",
       "      <td>-0.021842</td>\n",
       "      <td>-0.156926</td>\n",
       "      <td>0.009613</td>\n",
       "      <td>0.077156</td>\n",
       "      <td>0.108096</td>\n",
       "    </tr>\n",
       "    <tr>\n",
       "      <th>default</th>\n",
       "      <td>-0.022885</td>\n",
       "      <td>-0.022180</td>\n",
       "      <td>-0.007052</td>\n",
       "      <td>-0.007772</td>\n",
       "      <td>1.000000</td>\n",
       "      <td>-0.045132</td>\n",
       "      <td>0.024413</td>\n",
       "      <td>0.046811</td>\n",
       "      <td>-0.018956</td>\n",
       "      <td>-0.001516</td>\n",
       "      <td>0.022986</td>\n",
       "      <td>-0.003714</td>\n",
       "      <td>0.000196</td>\n",
       "      <td>0.037988</td>\n",
       "      <td>0.011921</td>\n",
       "      <td>-0.020339</td>\n",
       "      <td>-0.029316</td>\n",
       "    </tr>\n",
       "    <tr>\n",
       "      <th>balance</th>\n",
       "      <td>0.109624</td>\n",
       "      <td>0.036632</td>\n",
       "      <td>-0.016838</td>\n",
       "      <td>0.080733</td>\n",
       "      <td>-0.045132</td>\n",
       "      <td>1.000000</td>\n",
       "      <td>-0.105806</td>\n",
       "      <td>-0.083704</td>\n",
       "      <td>0.048169</td>\n",
       "      <td>0.042583</td>\n",
       "      <td>0.009359</td>\n",
       "      <td>0.035820</td>\n",
       "      <td>-0.007747</td>\n",
       "      <td>-0.100377</td>\n",
       "      <td>0.001757</td>\n",
       "      <td>0.047839</td>\n",
       "      <td>0.073455</td>\n",
       "    </tr>\n",
       "    <tr>\n",
       "      <th>housing</th>\n",
       "      <td>-0.188700</td>\n",
       "      <td>-0.119842</td>\n",
       "      <td>-0.047893</td>\n",
       "      <td>-0.112996</td>\n",
       "      <td>0.024413</td>\n",
       "      <td>-0.105806</td>\n",
       "      <td>1.000000</td>\n",
       "      <td>0.105473</td>\n",
       "      <td>-0.083233</td>\n",
       "      <td>-0.074453</td>\n",
       "      <td>0.018956</td>\n",
       "      <td>-0.066442</td>\n",
       "      <td>0.059223</td>\n",
       "      <td>0.346753</td>\n",
       "      <td>0.006684</td>\n",
       "      <td>-0.285828</td>\n",
       "      <td>-0.311976</td>\n",
       "    </tr>\n",
       "    <tr>\n",
       "      <th>loan</th>\n",
       "      <td>-0.007046</td>\n",
       "      <td>-0.027936</td>\n",
       "      <td>-0.051396</td>\n",
       "      <td>-0.031094</td>\n",
       "      <td>0.046811</td>\n",
       "      <td>-0.083704</td>\n",
       "      <td>0.105473</td>\n",
       "      <td>1.000000</td>\n",
       "      <td>-0.038890</td>\n",
       "      <td>0.011395</td>\n",
       "      <td>0.001228</td>\n",
       "      <td>-0.033728</td>\n",
       "      <td>0.010521</td>\n",
       "      <td>0.013526</td>\n",
       "      <td>0.014186</td>\n",
       "      <td>-0.106329</td>\n",
       "      <td>-0.114855</td>\n",
       "    </tr>\n",
       "    <tr>\n",
       "      <th>contact</th>\n",
       "      <td>0.194464</td>\n",
       "      <td>-0.007998</td>\n",
       "      <td>-0.022618</td>\n",
       "      <td>-0.098116</td>\n",
       "      <td>-0.018956</td>\n",
       "      <td>0.048169</td>\n",
       "      <td>-0.083233</td>\n",
       "      <td>-0.038890</td>\n",
       "      <td>1.000000</td>\n",
       "      <td>-0.012169</td>\n",
       "      <td>0.024662</td>\n",
       "      <td>0.002584</td>\n",
       "      <td>0.106585</td>\n",
       "      <td>-0.019206</td>\n",
       "      <td>0.040129</td>\n",
       "      <td>0.021013</td>\n",
       "      <td>-0.010753</td>\n",
       "    </tr>\n",
       "    <tr>\n",
       "      <th>day</th>\n",
       "      <td>0.017284</td>\n",
       "      <td>0.015489</td>\n",
       "      <td>0.015478</td>\n",
       "      <td>0.017246</td>\n",
       "      <td>-0.001516</td>\n",
       "      <td>0.042583</td>\n",
       "      <td>-0.074453</td>\n",
       "      <td>0.011395</td>\n",
       "      <td>-0.012169</td>\n",
       "      <td>1.000000</td>\n",
       "      <td>-0.024065</td>\n",
       "      <td>-0.005019</td>\n",
       "      <td>-0.027115</td>\n",
       "      <td>-0.092506</td>\n",
       "      <td>-0.016233</td>\n",
       "      <td>0.014730</td>\n",
       "      <td>0.031903</td>\n",
       "    </tr>\n",
       "    <tr>\n",
       "      <th>month</th>\n",
       "      <td>0.011905</td>\n",
       "      <td>-0.005083</td>\n",
       "      <td>-0.030587</td>\n",
       "      <td>-0.004602</td>\n",
       "      <td>0.022986</td>\n",
       "      <td>0.009359</td>\n",
       "      <td>0.018956</td>\n",
       "      <td>0.001228</td>\n",
       "      <td>0.024662</td>\n",
       "      <td>-0.024065</td>\n",
       "      <td>1.000000</td>\n",
       "      <td>-0.034603</td>\n",
       "      <td>0.028184</td>\n",
       "      <td>0.020107</td>\n",
       "      <td>0.013647</td>\n",
       "      <td>-0.024467</td>\n",
       "      <td>-0.009099</td>\n",
       "    </tr>\n",
       "    <tr>\n",
       "      <th>duration</th>\n",
       "      <td>0.061770</td>\n",
       "      <td>0.018949</td>\n",
       "      <td>-0.006414</td>\n",
       "      <td>-0.002797</td>\n",
       "      <td>-0.003714</td>\n",
       "      <td>0.035820</td>\n",
       "      <td>-0.066442</td>\n",
       "      <td>-0.033728</td>\n",
       "      <td>0.002584</td>\n",
       "      <td>-0.005019</td>\n",
       "      <td>-0.034603</td>\n",
       "      <td>1.000000</td>\n",
       "      <td>-0.096569</td>\n",
       "      <td>-0.010160</td>\n",
       "      <td>0.000209</td>\n",
       "      <td>0.111104</td>\n",
       "      <td>0.346718</td>\n",
       "    </tr>\n",
       "    <tr>\n",
       "      <th>campaign</th>\n",
       "      <td>-0.003710</td>\n",
       "      <td>-0.007918</td>\n",
       "      <td>-0.004449</td>\n",
       "      <td>-0.021842</td>\n",
       "      <td>0.000196</td>\n",
       "      <td>-0.007747</td>\n",
       "      <td>0.059223</td>\n",
       "      <td>0.010521</td>\n",
       "      <td>0.106585</td>\n",
       "      <td>-0.027115</td>\n",
       "      <td>0.028184</td>\n",
       "      <td>-0.096569</td>\n",
       "      <td>1.000000</td>\n",
       "      <td>0.065535</td>\n",
       "      <td>0.133039</td>\n",
       "      <td>0.001246</td>\n",
       "      <td>-0.091611</td>\n",
       "    </tr>\n",
       "    <tr>\n",
       "      <th>pdays</th>\n",
       "      <td>-0.106328</td>\n",
       "      <td>-0.102178</td>\n",
       "      <td>-0.009530</td>\n",
       "      <td>-0.156926</td>\n",
       "      <td>0.037988</td>\n",
       "      <td>-0.100377</td>\n",
       "      <td>0.346753</td>\n",
       "      <td>0.013526</td>\n",
       "      <td>-0.019206</td>\n",
       "      <td>-0.092506</td>\n",
       "      <td>0.020107</td>\n",
       "      <td>-0.010160</td>\n",
       "      <td>0.065535</td>\n",
       "      <td>1.000000</td>\n",
       "      <td>-0.029111</td>\n",
       "      <td>-0.243230</td>\n",
       "      <td>-0.150250</td>\n",
       "    </tr>\n",
       "    <tr>\n",
       "      <th>previous</th>\n",
       "      <td>0.001397</td>\n",
       "      <td>0.003861</td>\n",
       "      <td>0.006514</td>\n",
       "      <td>0.009613</td>\n",
       "      <td>0.011921</td>\n",
       "      <td>0.001757</td>\n",
       "      <td>0.006684</td>\n",
       "      <td>0.014186</td>\n",
       "      <td>0.040129</td>\n",
       "      <td>-0.016233</td>\n",
       "      <td>0.013647</td>\n",
       "      <td>0.000209</td>\n",
       "      <td>0.133039</td>\n",
       "      <td>-0.029111</td>\n",
       "      <td>1.000000</td>\n",
       "      <td>0.042589</td>\n",
       "      <td>0.013334</td>\n",
       "    </tr>\n",
       "    <tr>\n",
       "      <th>poutcome</th>\n",
       "      <td>0.044846</td>\n",
       "      <td>0.060665</td>\n",
       "      <td>0.045491</td>\n",
       "      <td>0.077156</td>\n",
       "      <td>-0.020339</td>\n",
       "      <td>0.047839</td>\n",
       "      <td>-0.285828</td>\n",
       "      <td>-0.106329</td>\n",
       "      <td>0.021013</td>\n",
       "      <td>0.014730</td>\n",
       "      <td>-0.024467</td>\n",
       "      <td>0.111104</td>\n",
       "      <td>0.001246</td>\n",
       "      <td>-0.243230</td>\n",
       "      <td>0.042589</td>\n",
       "      <td>1.000000</td>\n",
       "      <td>0.417918</td>\n",
       "    </tr>\n",
       "    <tr>\n",
       "      <th>FDcreated</th>\n",
       "      <td>0.067329</td>\n",
       "      <td>0.075720</td>\n",
       "      <td>0.046960</td>\n",
       "      <td>0.108096</td>\n",
       "      <td>-0.029316</td>\n",
       "      <td>0.073455</td>\n",
       "      <td>-0.311976</td>\n",
       "      <td>-0.114855</td>\n",
       "      <td>-0.010753</td>\n",
       "      <td>0.031903</td>\n",
       "      <td>-0.009099</td>\n",
       "      <td>0.346718</td>\n",
       "      <td>-0.091611</td>\n",
       "      <td>-0.150250</td>\n",
       "      <td>0.013334</td>\n",
       "      <td>0.417918</td>\n",
       "      <td>1.000000</td>\n",
       "    </tr>\n",
       "  </tbody>\n",
       "</table>\n",
       "</div>"
      ],
      "text/plain": [
       "                age       job   marital  education   default   balance  \\\n",
       "age        1.000000 -0.022152 -0.411916  -0.184784 -0.022885  0.109624   \n",
       "job       -0.022152  1.000000  0.068494   0.169656 -0.022180  0.036632   \n",
       "marital   -0.411916  0.068494  1.000000   0.139498 -0.007052 -0.016838   \n",
       "education -0.184784  0.169656  0.139498   1.000000 -0.007772  0.080733   \n",
       "default   -0.022885 -0.022180 -0.007052  -0.007772  1.000000 -0.045132   \n",
       "balance    0.109624  0.036632 -0.016838   0.080733 -0.045132  1.000000   \n",
       "housing   -0.188700 -0.119842 -0.047893  -0.112996  0.024413 -0.105806   \n",
       "loan      -0.007046 -0.027936 -0.051396  -0.031094  0.046811 -0.083704   \n",
       "contact    0.194464 -0.007998 -0.022618  -0.098116 -0.018956  0.048169   \n",
       "day        0.017284  0.015489  0.015478   0.017246 -0.001516  0.042583   \n",
       "month      0.011905 -0.005083 -0.030587  -0.004602  0.022986  0.009359   \n",
       "duration   0.061770  0.018949 -0.006414  -0.002797 -0.003714  0.035820   \n",
       "campaign  -0.003710 -0.007918 -0.004449  -0.021842  0.000196 -0.007747   \n",
       "pdays     -0.106328 -0.102178 -0.009530  -0.156926  0.037988 -0.100377   \n",
       "previous   0.001397  0.003861  0.006514   0.009613  0.011921  0.001757   \n",
       "poutcome   0.044846  0.060665  0.045491   0.077156 -0.020339  0.047839   \n",
       "FDcreated  0.067329  0.075720  0.046960   0.108096 -0.029316  0.073455   \n",
       "\n",
       "            housing      loan   contact       day     month  duration  \\\n",
       "age       -0.188700 -0.007046  0.194464  0.017284  0.011905  0.061770   \n",
       "job       -0.119842 -0.027936 -0.007998  0.015489 -0.005083  0.018949   \n",
       "marital   -0.047893 -0.051396 -0.022618  0.015478 -0.030587 -0.006414   \n",
       "education -0.112996 -0.031094 -0.098116  0.017246 -0.004602 -0.002797   \n",
       "default    0.024413  0.046811 -0.018956 -0.001516  0.022986 -0.003714   \n",
       "balance   -0.105806 -0.083704  0.048169  0.042583  0.009359  0.035820   \n",
       "housing    1.000000  0.105473 -0.083233 -0.074453  0.018956 -0.066442   \n",
       "loan       0.105473  1.000000 -0.038890  0.011395  0.001228 -0.033728   \n",
       "contact   -0.083233 -0.038890  1.000000 -0.012169  0.024662  0.002584   \n",
       "day       -0.074453  0.011395 -0.012169  1.000000 -0.024065 -0.005019   \n",
       "month      0.018956  0.001228  0.024662 -0.024065  1.000000 -0.034603   \n",
       "duration  -0.066442 -0.033728  0.002584 -0.005019 -0.034603  1.000000   \n",
       "campaign   0.059223  0.010521  0.106585 -0.027115  0.028184 -0.096569   \n",
       "pdays      0.346753  0.013526 -0.019206 -0.092506  0.020107 -0.010160   \n",
       "previous   0.006684  0.014186  0.040129 -0.016233  0.013647  0.000209   \n",
       "poutcome  -0.285828 -0.106329  0.021013  0.014730 -0.024467  0.111104   \n",
       "FDcreated -0.311976 -0.114855 -0.010753  0.031903 -0.009099  0.346718   \n",
       "\n",
       "           campaign     pdays  previous  poutcome  FDcreated  \n",
       "age       -0.003710 -0.106328  0.001397  0.044846   0.067329  \n",
       "job       -0.007918 -0.102178  0.003861  0.060665   0.075720  \n",
       "marital   -0.004449 -0.009530  0.006514  0.045491   0.046960  \n",
       "education -0.021842 -0.156926  0.009613  0.077156   0.108096  \n",
       "default    0.000196  0.037988  0.011921 -0.020339  -0.029316  \n",
       "balance   -0.007747 -0.100377  0.001757  0.047839   0.073455  \n",
       "housing    0.059223  0.346753  0.006684 -0.285828  -0.311976  \n",
       "loan       0.010521  0.013526  0.014186 -0.106329  -0.114855  \n",
       "contact    0.106585 -0.019206  0.040129  0.021013  -0.010753  \n",
       "day       -0.027115 -0.092506 -0.016233  0.014730   0.031903  \n",
       "month      0.028184  0.020107  0.013647 -0.024467  -0.009099  \n",
       "duration  -0.096569 -0.010160  0.000209  0.111104   0.346718  \n",
       "campaign   1.000000  0.065535  0.133039  0.001246  -0.091611  \n",
       "pdays      0.065535  1.000000 -0.029111 -0.243230  -0.150250  \n",
       "previous   0.133039 -0.029111  1.000000  0.042589   0.013334  \n",
       "poutcome   0.001246 -0.243230  0.042589  1.000000   0.417918  \n",
       "FDcreated -0.091611 -0.150250  0.013334  0.417918   1.000000  "
      ]
     },
     "execution_count": 27,
     "metadata": {},
     "output_type": "execute_result"
    }
   ],
   "source": [
    "#find the correlation between attributes and target varibel(FDCreated)\n",
    "df.corr()"
   ]
  },
  {
   "cell_type": "code",
   "execution_count": 28,
   "id": "21720080",
   "metadata": {
    "scrolled": true
   },
   "outputs": [
    {
     "data": {
      "image/png": "[encoded data removed]",
      "text/plain": [
       "<Figure size 1500x1500 with 2 Axes>"
      ]
     },
     "metadata": {},
     "output_type": "display_data"
    }
   ],
   "source": [
    "import matplotlib.pyplot as plt\n",
    "import seaborn as sns\n",
    "\n",
    "# Increase the plot size by specifying figsize\n",
    "fig, ax = plt.subplots(figsize=(15, 15))\n",
    "\n",
    "# Create a heatmap\n",
    "sns.heatmap(df.corr(),ax=ax, annot=True,linewidth=3 ,cmap=\"YlGn\")\n",
    "\n",
    "#plot title\n",
    "plt.title(\"Correlation of Features\", size=15, y=1)\n",
    "\n",
    "# Show the plot\n",
    "plt.show()"
   ]
  },
  {
   "cell_type": "code",
   "execution_count": 29,
   "id": "46c0470b",
   "metadata": {
    "scrolled": true
   },
   "outputs": [
    {
     "data": {
      "text/plain": [
       "FDcreated    1.000000\n",
       "poutcome     0.417918\n",
       "duration     0.346718\n",
       "education    0.108096\n",
       "job          0.075720\n",
       "balance      0.073455\n",
       "age          0.067329\n",
       "marital      0.046960\n",
       "day          0.031903\n",
       "previous     0.013334\n",
       "month       -0.009099\n",
       "contact     -0.010753\n",
       "default     -0.029316\n",
       "campaign    -0.091611\n",
       "loan        -0.114855\n",
       "pdays       -0.150250\n",
       "housing     -0.311976\n",
       "Name: FDcreated, dtype: float64"
      ]
     },
     "execution_count": 29,
     "metadata": {},
     "output_type": "execute_result"
    }
   ],
   "source": [
    "#Sorting correlation values in descending order by FDcreated attribute\n",
    "df.corr()[\"FDcreated\"].sort_values(ascending=False)"
   ]
  },
  {
   "cell_type": "code",
   "execution_count": 30,
   "id": "91537b11",
   "metadata": {},
   "outputs": [
    {
     "data": {
      "image/png": "[encoded data removed]",
      "text/plain": [
       "<Figure size 1000x800 with 1 Axes>"
      ]
     },
     "metadata": {},
     "output_type": "display_data"
    }
   ],
   "source": [
    "#Find outliers\n",
    "\n",
    "fig, ax = plt.subplots(figsize=(10, 8))\n",
    "\n",
    "# Create a box plot\n",
    "df.plot.box(ax=ax)\n",
    "\n",
    "# Set axis labels and ticks\n",
    "plt.xticks(range(len(df.columns)), df.columns, rotation='vertical')\n",
    "\n",
    "# Show the plot\n",
    "plt.show()"
   ]
  },
  {
   "cell_type": "code",
   "execution_count": 31,
   "id": "8fd6d24d",
   "metadata": {},
   "outputs": [
    {
     "data": {
      "text/html": [
       "<div>\n",
       "<style scoped>\n",
       "    .dataframe tbody tr th:only-of-type {\n",
       "        vertical-align: middle;\n",
       "    }\n",
       "\n",
       "    .dataframe tbody tr th {\n",
       "        vertical-align: top;\n",
       "    }\n",
       "\n",
       "    .dataframe thead th {\n",
       "        text-align: right;\n",
       "    }\n",
       "</style>\n",
       "<table border=\"1\" class=\"dataframe\">\n",
       "  <thead>\n",
       "    <tr style=\"text-align: right;\">\n",
       "      <th></th>\n",
       "      <th>age</th>\n",
       "      <th>job</th>\n",
       "      <th>marital</th>\n",
       "      <th>education</th>\n",
       "      <th>balance</th>\n",
       "      <th>duration</th>\n",
       "      <th>poutcome</th>\n",
       "      <th>FDcreated</th>\n",
       "    </tr>\n",
       "  </thead>\n",
       "  <tbody>\n",
       "    <tr>\n",
       "      <th>0</th>\n",
       "      <td>33</td>\n",
       "      <td>0</td>\n",
       "      <td>1</td>\n",
       "      <td>2</td>\n",
       "      <td>0.033290</td>\n",
       "      <td>39</td>\n",
       "      <td>0</td>\n",
       "      <td>0</td>\n",
       "    </tr>\n",
       "    <tr>\n",
       "      <th>1</th>\n",
       "      <td>42</td>\n",
       "      <td>0</td>\n",
       "      <td>2</td>\n",
       "      <td>1</td>\n",
       "      <td>0.019702</td>\n",
       "      <td>519</td>\n",
       "      <td>1</td>\n",
       "      <td>1</td>\n",
       "    </tr>\n",
       "    <tr>\n",
       "      <th>2</th>\n",
       "      <td>33</td>\n",
       "      <td>7</td>\n",
       "      <td>1</td>\n",
       "      <td>1</td>\n",
       "      <td>0.064125</td>\n",
       "      <td>144</td>\n",
       "      <td>0</td>\n",
       "      <td>1</td>\n",
       "    </tr>\n",
       "    <tr>\n",
       "      <th>3</th>\n",
       "      <td>36</td>\n",
       "      <td>4</td>\n",
       "      <td>1</td>\n",
       "      <td>2</td>\n",
       "      <td>0.051740</td>\n",
       "      <td>73</td>\n",
       "      <td>1</td>\n",
       "      <td>0</td>\n",
       "    </tr>\n",
       "    <tr>\n",
       "      <th>4</th>\n",
       "      <td>36</td>\n",
       "      <td>4</td>\n",
       "      <td>1</td>\n",
       "      <td>2</td>\n",
       "      <td>0.022675</td>\n",
       "      <td>140</td>\n",
       "      <td>0</td>\n",
       "      <td>1</td>\n",
       "    </tr>\n",
       "    <tr>\n",
       "      <th>...</th>\n",
       "      <td>...</td>\n",
       "      <td>...</td>\n",
       "      <td>...</td>\n",
       "      <td>...</td>\n",
       "      <td>...</td>\n",
       "      <td>...</td>\n",
       "      <td>...</td>\n",
       "      <td>...</td>\n",
       "    </tr>\n",
       "    <tr>\n",
       "      <th>8601</th>\n",
       "      <td>32</td>\n",
       "      <td>9</td>\n",
       "      <td>2</td>\n",
       "      <td>1</td>\n",
       "      <td>0.026394</td>\n",
       "      <td>346</td>\n",
       "      <td>0</td>\n",
       "      <td>0</td>\n",
       "    </tr>\n",
       "    <tr>\n",
       "      <th>8602</th>\n",
       "      <td>42</td>\n",
       "      <td>1</td>\n",
       "      <td>2</td>\n",
       "      <td>1</td>\n",
       "      <td>0.035673</td>\n",
       "      <td>951</td>\n",
       "      <td>0</td>\n",
       "      <td>1</td>\n",
       "    </tr>\n",
       "    <tr>\n",
       "      <th>8603</th>\n",
       "      <td>38</td>\n",
       "      <td>1</td>\n",
       "      <td>1</td>\n",
       "      <td>1</td>\n",
       "      <td>0.037177</td>\n",
       "      <td>45</td>\n",
       "      <td>0</td>\n",
       "      <td>0</td>\n",
       "    </tr>\n",
       "    <tr>\n",
       "      <th>8604</th>\n",
       "      <td>28</td>\n",
       "      <td>1</td>\n",
       "      <td>1</td>\n",
       "      <td>1</td>\n",
       "      <td>0.036359</td>\n",
       "      <td>129</td>\n",
       "      <td>1</td>\n",
       "      <td>0</td>\n",
       "    </tr>\n",
       "    <tr>\n",
       "      <th>8605</th>\n",
       "      <td>44</td>\n",
       "      <td>2</td>\n",
       "      <td>2</td>\n",
       "      <td>2</td>\n",
       "      <td>0.036347</td>\n",
       "      <td>345</td>\n",
       "      <td>1</td>\n",
       "      <td>0</td>\n",
       "    </tr>\n",
       "  </tbody>\n",
       "</table>\n",
       "<p>8606 rows × 8 columns</p>\n",
       "</div>"
      ],
      "text/plain": [
       "      age  job  marital  education   balance  duration  poutcome  FDcreated\n",
       "0      33    0        1          2  0.033290        39         0          0\n",
       "1      42    0        2          1  0.019702       519         1          1\n",
       "2      33    7        1          1  0.064125       144         0          1\n",
       "3      36    4        1          2  0.051740        73         1          0\n",
       "4      36    4        1          2  0.022675       140         0          1\n",
       "...   ...  ...      ...        ...       ...       ...       ...        ...\n",
       "8601   32    9        2          1  0.026394       346         0          0\n",
       "8602   42    1        2          1  0.035673       951         0          1\n",
       "8603   38    1        1          1  0.037177        45         0          0\n",
       "8604   28    1        1          1  0.036359       129         1          0\n",
       "8605   44    2        2          2  0.036347       345         1          0\n",
       "\n",
       "[8606 rows x 8 columns]"
      ]
     },
     "execution_count": 31,
     "metadata": {},
     "output_type": "execute_result"
    }
   ],
   "source": [
    "#Drop unwanted columns\n",
    "df.drop(columns=['contact','day', 'month','loan', 'pdays', 'campaign', 'housing', 'default','previous'], axis = 'columns', inplace=True)\n",
    "\n",
    "df"
   ]
  },
  {
   "cell_type": "markdown",
   "id": "ad64fd4b",
   "metadata": {},
   "source": [
    "# Data Visualization"
   ]
  },
  {
   "cell_type": "markdown",
   "id": "5552d55b",
   "metadata": {},
   "source": [
    "(1)Plot of the Created FD Account or not - Count"
   ]
  },
  {
   "cell_type": "code",
   "execution_count": 32,
   "id": "a2d3149b",
   "metadata": {},
   "outputs": [
    {
     "data": {
      "image/png": "[encoded data removed]",
      "text/plain": [
       "<Figure size 640x480 with 1 Axes>"
      ]
     },
     "metadata": {},
     "output_type": "display_data"
    }
   ],
   "source": [
    "# Import Libraries\n",
    "import matplotlib.pyplot as plt\n",
    "\n",
    "# Count the occurrences of 1s and 0s in the 'FDcreated' column\n",
    "fd_counts = df['FDcreated'].value_counts()\n",
    "\n",
    "# Define custom colors for the bars\n",
    "colors = ['#2843ed', '#f5222d']\n",
    "\n",
    "# Create a bar plot with custom colors and labels\n",
    "plt.bar(['FD Created (1)', 'Not Created (0)'], fd_counts.values, color=colors, label=['FD Created (1)', 'Not Created (0)'])\n",
    "\n",
    "# Add labels to the bars\n",
    "for i, count in enumerate(fd_counts):\n",
    "    plt.text(i, count, f'{count}', ha='center', va='bottom', fontsize=12, fontweight='bold', color='black')\n",
    "\n",
    "# Add labels and title\n",
    "plt.xlabel('FD Created vs Not Created')\n",
    "plt.ylabel('Count')\n",
    "plt.title('Distribution of FD Creation')\n",
    "\n",
    "# Add a legend\n",
    "plt.legend(loc='upper right')\n",
    "\n",
    "# Show the plot\n",
    "plt.show()\n"
   ]
  },
  {
   "cell_type": "markdown",
   "id": "e2d03da9",
   "metadata": {},
   "source": [
    "(2)Compare the ages of customers who took fixed deposit and who didn’t"
   ]
  },
  {
   "cell_type": "code",
   "execution_count": 33,
   "id": "0f4d2f9b",
   "metadata": {},
   "outputs": [
    {
     "data": {
      "image/png": "[encoded data removed]",
      "text/plain": [
       "<Figure size 640x480 with 1 Axes>"
      ]
     },
     "metadata": {},
     "output_type": "display_data"
    }
   ],
   "source": [
    "# import Libraries\n",
    "import matplotlib.pyplot as plt\n",
    "\n",
    "# Split the data into two groups: customers who took FD and those who didn't\n",
    "fd_yes = df[df['FDcreated'] == 1]['age']\n",
    "fd_no = df[df['FDcreated'] == 0]['age']\n",
    "\n",
    "# Create a bar plot\n",
    "plt.bar(['FD Taken', 'No FD Taken'], [fd_yes.mean(), fd_no.mean()], color=['#023d02', '#bfa006'])\n",
    "\n",
    "# Add labels to the bars\n",
    "plt.text(0, fd_yes.mean(), f'Mean Age: {fd_yes.mean():.2f}', ha='center', va='bottom', fontsize=12, fontweight='bold', color='black')\n",
    "plt.text(1, fd_no.mean(), f'Mean Age: {fd_no.mean():.2f}', ha='center', va='bottom', fontsize=12, fontweight='bold', color='black')\n",
    "\n",
    "# Add labels and title\n",
    "plt.xlabel('FD Taken vs No FD Taken')\n",
    "plt.ylabel('Age')\n",
    "plt.title('Comparison of Ages for FD Taken and Not Taken')\n",
    "\n",
    "# Show the plot\n",
    "plt.show()\n"
   ]
  },
  {
   "cell_type": "markdown",
   "id": "0d6b0d4d",
   "metadata": {},
   "source": [
    "(3)Compare the duration of customers who took fixed deposit and who didn’t"
   ]
  },
  {
   "cell_type": "code",
   "execution_count": 34,
   "id": "dbd1a060",
   "metadata": {},
   "outputs": [
    {
     "data": {
      "image/png": "[encoded data removed]",
      "text/plain": [
       "<Figure size 640x480 with 1 Axes>"
      ]
     },
     "metadata": {},
     "output_type": "display_data"
    }
   ],
   "source": [
    "# imported Libraries\n",
    "import matplotlib.pyplot as plt\n",
    "\n",
    "# Assuming \"df\" is your DataFrame\n",
    "df_yes_fd = df[df['FDcreated'] == 1]  # Selecting rows where FD was created\n",
    "df_no_fd = df[df['FDcreated'] == 0]   # Selecting rows where FD was not created\n",
    "\n",
    "# Scatter plot for customers who took fixed deposit\n",
    "plt.scatter(df_yes_fd['duration'], df_yes_fd['FDcreated'], color='#66025e', label='Took FD')\n",
    "\n",
    "# Scatter plot for customers who didn't take fixed deposit\n",
    "plt.scatter(df_no_fd['duration'], df_no_fd['FDcreated'], color='#006341', label=\"Didn't take FD\")\n",
    "\n",
    "# Set labels and title\n",
    "plt.xlabel('Duration')\n",
    "plt.ylabel('FD Created (1) or Not (0)')\n",
    "plt.title('Comparison of Duration for Customers')\n",
    "\n",
    "# Add a legend\n",
    "plt.legend()\n",
    "\n",
    "# Show the plot\n",
    "plt.show()"
   ]
  },
  {
   "cell_type": "markdown",
   "id": "62096a43",
   "metadata": {},
   "source": [
    "(4) Compare marital status column with FDcreated column"
   ]
  },
  {
   "cell_type": "code",
   "execution_count": 35,
   "id": "f7f87dfc",
   "metadata": {},
   "outputs": [],
   "source": [
    "#import matplotlib.pyplot as plt\n",
    "#import seaborn as sns\n",
    "\n",
    "#graphs = ['marital']\n",
    "\n",
    "#Create a dictionary to map the marital status values to their string names\n",
    "#marital_status_map = {1: 'Married', 2: 'Single', 0: 'Divorced'}\n",
    "\n",
    "#Create a copy of the DataFrame\n",
    "#df_copy = df.copy()\n",
    "\n",
    "#Replace the marital status values in the copy of the DataFrame\n",
    "#df_copy['marital'].replace(marital_status_map, inplace=True)\n",
    "\n",
    "# Count the occurrences of 1s and 0s in the 'FDcreated' column\n",
    "#y = df_copy['FDcreated']\n",
    "#y = y.values\n",
    "\n",
    "#for i in graphs:\n",
    "#  sns.countplot(x=i, hue=y, data=df_copy, palette=sns.color_palette('Reds'))\n",
    "#  plt.show()"
   ]
  },
  {
   "cell_type": "markdown",
   "id": "2db3f3fd",
   "metadata": {},
   "source": [
    "(5) Plot a pie chart to show the fractions of FD created customers who recieved calls in different months "
   ]
  },
  {
   "cell_type": "code",
   "execution_count": 36,
   "id": "875d9c1f",
   "metadata": {},
   "outputs": [],
   "source": [
    "import matplotlib.pyplot as plt\n",
    "\n",
    "# Define a mapping dictionary from month numbers to month names\n",
    "#month_mapping = {\n",
    "    #1: 'jan', \n",
    "    #2: 'feb', \n",
    "    #3: 'mar', \n",
    "    #4: 'apr', \n",
    "    #5: 'may', \n",
    "    #6: 'jun', \n",
    "    #7: 'jul', \n",
    "    #8: 'aug', \n",
    "    #9: 'sept', \n",
    "    #10: 'oct', \n",
    "    #11: 'nov', \n",
    "    #12: 'dec'\n",
    "#}\n",
    "\n",
    "# Group the data by 'month' and count the number of customers recieved calls for each month\n",
    "#month_counts = df[df['FDcreated'] == 1]['month'].map(month_mapping).value_counts()\n",
    "\n",
    "# Create a pie chart\n",
    "#plt.figure(figsize=(10, 6))\n",
    "#plt.pie(month_counts, labels=month_counts.index, autopct='%1.1f%%', startangle=140, colors=plt.cm.Paired(range(len(month_counts))))\n",
    "\n",
    "# Add a title\n",
    "#plt.title('Distribution of FD created Customers who recieved calls in each month')\n",
    "\n",
    "# Display the pie chart\n",
    "#plt.show()"
   ]
  },
  {
   "cell_type": "markdown",
   "id": "297b00e9",
   "metadata": {},
   "source": [
    "(6) Compare the Age classes of the customers who subscribed for Fixed Deposits"
   ]
  },
  {
   "cell_type": "code",
   "execution_count": 37,
   "id": "8500c627",
   "metadata": {},
   "outputs": [
    {
     "data": {
      "image/png": "[encoded data removed]",
      "text/plain": [
       "<Figure size 700x700 with 1 Axes>"
      ]
     },
     "metadata": {},
     "output_type": "display_data"
    }
   ],
   "source": [
    "import pandas as pd\n",
    "import matplotlib.pyplot as plt\n",
    "\n",
    "# Filter the dataset to consider only those who created fixed deposits (FDcreated == 1)\n",
    "created_deposits = df[df['FDcreated'] == 1]\n",
    "\n",
    "# Define age groups (you can customize these as needed)\n",
    "bins = [20, 30, 40, 50, 60, 70, 80, 90, 100]\n",
    "labels = ['20-29', '30-39', '40-49', '50-59', '60-69', '70-79', '80-89', '>90']\n",
    "\n",
    "# Group the data by age groups and count the occurrences\n",
    "age_groups = pd.cut(created_deposits['age'], bins=bins, labels=labels, right=False)\n",
    "age_group_counts = age_groups.value_counts()\n",
    "\n",
    "# Create a pie chart\n",
    "plt.figure(figsize=(7, 7))  # Set the figure size\n",
    "plt.pie(age_group_counts, labels=age_group_counts.index, autopct='%1.1f%%', startangle=90)\n",
    "plt.title('Distribution of Fixed Deposit Creators by Age Group')\n",
    "\n",
    "# Show the plot\n",
    "plt.show()"
   ]
  },
  {
   "cell_type": "markdown",
   "id": "1800e0cd",
   "metadata": {},
   "source": [
    "# Model Training"
   ]
  },
  {
   "cell_type": "code",
   "execution_count": 38,
   "id": "5a09cc4b",
   "metadata": {},
   "outputs": [],
   "source": [
    "#divide dataset into independent and dependent variables\n",
    "X = df.iloc[:,:-1].values \n",
    "y = df.iloc[:,-1].values "
   ]
  },
  {
   "cell_type": "code",
   "execution_count": 39,
   "id": "bd5bf250",
   "metadata": {},
   "outputs": [],
   "source": [
    "#save dataset in new csv file\n",
    "df.to_csv('df.csv', index=False)"
   ]
  },
  {
   "cell_type": "code",
   "execution_count": 40,
   "id": "9c4e94e7",
   "metadata": {},
   "outputs": [],
   "source": [
    "# Split the data into training and test sets\n",
    "X_train, X_test, y_train, y_test = train_test_split(X, y, test_size=0.25)"
   ]
  },
  {
   "cell_type": "markdown",
   "id": "054fde61",
   "metadata": {},
   "source": [
    "Decision Tree classifier"
   ]
  },
  {
   "cell_type": "code",
   "execution_count": 41,
   "id": "bc62c854",
   "metadata": {},
   "outputs": [],
   "source": [
    "import numpy as np\n",
    "from sklearn.tree import DecisionTreeClassifier\n",
    "from sklearn.metrics import classification_report, confusion_matrix, mean_squared_error\n",
    "import pickle\n",
    "import matplotlib.pyplot as plt\n",
    "from sklearn.metrics import precision_score, recall_score, f1_score"
   ]
  },
  {
   "cell_type": "code",
   "execution_count": 42,
   "id": "28b7ee16",
   "metadata": {},
   "outputs": [],
   "source": [
    "# Assuming X_train and y_train are your training data\n",
    "# and X_test and y_test are your test data\n",
    "\n",
    "# Create a decision tree classifier\n",
    "dt = DecisionTreeClassifier(criterion='entropy', max_depth=3)"
   ]
  },
  {
   "cell_type": "code",
   "execution_count": 43,
   "id": "1e6cef5e",
   "metadata": {},
   "outputs": [
    {
     "data": {
      "text/html": [
       "<style>#sk-container-id-1 {color: black;}#sk-container-id-1 pre{padding: 0;}#sk-container-id-1 div.sk-toggleable {background-color: white;}#sk-container-id-1 label.sk-toggleable__label {cursor: pointer;display: block;width: 100%;margin-bottom: 0;padding: 0.3em;box-sizing: border-box;text-align: center;}#sk-container-id-1 label.sk-toggleable__label-arrow:before {content: \"▸\";float: left;margin-right: 0.25em;color: #696969;}#sk-container-id-1 label.sk-toggleable__label-arrow:hover:before {color: black;}#sk-container-id-1 div.sk-estimator:hover label.sk-toggleable__label-arrow:before {color: black;}#sk-container-id-1 div.sk-toggleable__content {max-height: 0;max-width: 0;overflow: hidden;text-align: left;background-color: #f0f8ff;}#sk-container-id-1 div.sk-toggleable__content pre {margin: 0.2em;color: black;border-radius: 0.25em;background-color: #f0f8ff;}#sk-container-id-1 input.sk-toggleable__control:checked~div.sk-toggleable__content {max-height: 200px;max-width: 100%;overflow: auto;}#sk-container-id-1 input.sk-toggleable__control:checked~label.sk-toggleable__label-arrow:before {content: \"▾\";}#sk-container-id-1 div.sk-estimator input.sk-toggleable__control:checked~label.sk-toggleable__label {background-color: #d4ebff;}#sk-container-id-1 div.sk-label input.sk-toggleable__control:checked~label.sk-toggleable__label {background-color: #d4ebff;}#sk-container-id-1 input.sk-hidden--visually {border: 0;clip: rect(1px 1px 1px 1px);clip: rect(1px, 1px, 1px, 1px);height: 1px;margin: -1px;overflow: hidden;padding: 0;position: absolute;width: 1px;}#sk-container-id-1 div.sk-estimator {font-family: monospace;background-color: #f0f8ff;border: 1px dotted black;border-radius: 0.25em;box-sizing: border-box;margin-bottom: 0.5em;}#sk-container-id-1 div.sk-estimator:hover {background-color: #d4ebff;}#sk-container-id-1 div.sk-parallel-item::after {content: \"\";width: 100%;border-bottom: 1px solid gray;flex-grow: 1;}#sk-container-id-1 div.sk-label:hover label.sk-toggleable__label {background-color: #d4ebff;}#sk-container-id-1 div.sk-serial::before {content: \"\";position: absolute;border-left: 1px solid gray;box-sizing: border-box;top: 0;bottom: 0;left: 50%;z-index: 0;}#sk-container-id-1 div.sk-serial {display: flex;flex-direction: column;align-items: center;background-color: white;padding-right: 0.2em;padding-left: 0.2em;position: relative;}#sk-container-id-1 div.sk-item {position: relative;z-index: 1;}#sk-container-id-1 div.sk-parallel {display: flex;align-items: stretch;justify-content: center;background-color: white;position: relative;}#sk-container-id-1 div.sk-item::before, #sk-container-id-1 div.sk-parallel-item::before {content: \"\";position: absolute;border-left: 1px solid gray;box-sizing: border-box;top: 0;bottom: 0;left: 50%;z-index: -1;}#sk-container-id-1 div.sk-parallel-item {display: flex;flex-direction: column;z-index: 1;position: relative;background-color: white;}#sk-container-id-1 div.sk-parallel-item:first-child::after {align-self: flex-end;width: 50%;}#sk-container-id-1 div.sk-parallel-item:last-child::after {align-self: flex-start;width: 50%;}#sk-container-id-1 div.sk-parallel-item:only-child::after {width: 0;}#sk-container-id-1 div.sk-dashed-wrapped {border: 1px dashed gray;margin: 0 0.4em 0.5em 0.4em;box-sizing: border-box;padding-bottom: 0.4em;background-color: white;}#sk-container-id-1 div.sk-label label {font-family: monospace;font-weight: bold;display: inline-block;line-height: 1.2em;}#sk-container-id-1 div.sk-label-container {text-align: center;}#sk-container-id-1 div.sk-container {/* jupyter's `normalize.less` sets `[hidden] { display: none; }` but bootstrap.min.css set `[hidden] { display: none !important; }` so we also need the `!important` here to be able to override the default hidden behavior on the sphinx rendered scikit-learn.org. See: https://github.com/scikit-learn/scikit-learn/issues/21755 */display: inline-block !important;position: relative;}#sk-container-id-1 div.sk-text-repr-fallback {display: none;}</style><div id=\"sk-container-id-1\" class=\"sk-top-container\"><div class=\"sk-text-repr-fallback\"><pre>DecisionTreeClassifier(criterion=&#x27;entropy&#x27;, max_depth=3)</pre><b>In a Jupyter environment, please rerun this cell to show the HTML representation or trust the notebook. <br />On GitHub, the HTML representation is unable to render, please try loading this page with nbviewer.org.</b></div><div class=\"sk-container\" hidden><div class=\"sk-item\"><div class=\"sk-estimator sk-toggleable\"><input class=\"sk-toggleable__control sk-hidden--visually\" id=\"sk-estimator-id-1\" type=\"checkbox\" checked><label for=\"sk-estimator-id-1\" class=\"sk-toggleable__label sk-toggleable__label-arrow\">DecisionTreeClassifier</label><div class=\"sk-toggleable__content\"><pre>DecisionTreeClassifier(criterion=&#x27;entropy&#x27;, max_depth=3)</pre></div></div></div></div></div>"
      ],
      "text/plain": [
       "DecisionTreeClassifier(criterion='entropy', max_depth=3)"
      ]
     },
     "execution_count": 43,
     "metadata": {},
     "output_type": "execute_result"
    }
   ],
   "source": [
    "# Fit the decision tree classifier to the training data\n",
    "dt.fit(X_train, y_train)"
   ]
  },
  {
   "cell_type": "code",
   "execution_count": 44,
   "id": "bc8de7b5",
   "metadata": {},
   "outputs": [],
   "source": [
    "# Make predictions on the test data\n",
    "y_pred = dt.predict(X_test)"
   ]
  },
  {
   "cell_type": "code",
   "execution_count": 45,
   "id": "6b1385df",
   "metadata": {},
   "outputs": [
    {
     "name": "stdout",
     "output_type": "stream",
     "text": [
      "Confusion Matrix:\n",
      "\n",
      "[[1506  150]\n",
      " [ 177  319]]\n"
     ]
    }
   ],
   "source": [
    "# Evaluate the predictions\n",
    "conf_matrix = confusion_matrix(y_test, y_pred)\n",
    "print(\"Confusion Matrix:\\n\")\n",
    "print(conf_matrix)"
   ]
  },
  {
   "cell_type": "code",
   "execution_count": 46,
   "id": "8468f7ff",
   "metadata": {},
   "outputs": [
    {
     "name": "stdout",
     "output_type": "stream",
     "text": [
      "Heap Map:\n",
      "\n"
     ]
    },
    {
     "data": {
      "image/png": "[encoded data removed]",
      "text/plain": [
       "<Figure size 500x400 with 1 Axes>"
      ]
     },
     "metadata": {},
     "output_type": "display_data"
    },
    {
     "name": "stdout",
     "output_type": "stream",
     "text": [
      "\n",
      "\n"
     ]
    }
   ],
   "source": [
    "# Create a heapmap\n",
    "print(\"Heap Map:\\n\")\n",
    "\n",
    "fig, ax = plt.subplots(figsize=(5, 4))\n",
    "sns.heatmap(conf_matrix, annot=True, fmt='d', cmap='Reds_r', cbar=False)\n",
    "plt.title(\"Confusion Matrix\")\n",
    "plt.xlabel(\"Predicted\")\n",
    "plt.ylabel(\"Actual\")\n",
    "plt.show()\n",
    "print()\n",
    "print()"
   ]
  },
  {
   "cell_type": "code",
   "execution_count": 47,
   "id": "45b52120",
   "metadata": {},
   "outputs": [
    {
     "name": "stdout",
     "output_type": "stream",
     "text": [
      "Classification Report:\n",
      "              precision    recall  f1-score   support\n",
      "\n",
      "           0       0.89      0.91      0.90      1656\n",
      "           1       0.68      0.64      0.66       496\n",
      "\n",
      "    accuracy                           0.85      2152\n",
      "   macro avg       0.79      0.78      0.78      2152\n",
      "weighted avg       0.85      0.85      0.85      2152\n",
      "\n"
     ]
    }
   ],
   "source": [
    "# Create classification Report\n",
    "classification_rep = classification_report(y_test, y_pred)\n",
    "print(\"Classification Report:\")\n",
    "print(classification_rep)"
   ]
  },
  {
   "cell_type": "code",
   "execution_count": 48,
   "id": "331d6881",
   "metadata": {},
   "outputs": [
    {
     "name": "stdout",
     "output_type": "stream",
     "text": [
      "Error of Training and Testing data:\n",
      "\n",
      "Mean Squared Error (MSE) on Training Set of Decision Tree Model: 0.15959095134800125\n",
      "Mean Squared Error (MSE) on Testing Set of Decision Tree Model: 0.15195167286245354\n",
      "\n",
      "Accuracy of Training and Testing data:\n",
      "\n",
      "Training Accuracy of Decision Tree Model Classifier: 0.8404090486519987\n",
      "Testing Accuracy of Decision Tree Model Classifier: 0.8480483271375465\n",
      "\n",
      "\n"
     ]
    }
   ],
   "source": [
    "# Calculate training error\n",
    "dt_train_pred = dt.predict(X_train)\n",
    "mse_train = mean_squared_error(y_train, dt_train_pred)\n",
    "train_accuracy = 1 - mse_train\n",
    "\n",
    "# Calculate testing error\n",
    "dt_test_pred = dt.predict(X_test)\n",
    "mse_test = mean_squared_error(y_test, dt_test_pred)\n",
    "test_accuracy = 1 - mse_test\n",
    "\n",
    "# Print evaluation metrics\n",
    "\n",
    "print(\"Error of Training and Testing data:\\n\")\n",
    "print(\"Mean Squared Error (MSE) on Training Set of Decision Tree Model:\", mse_train)\n",
    "print(\"Mean Squared Error (MSE) on Testing Set of Decision Tree Model:\", mse_test)\n",
    "\n",
    "print()\n",
    "\n",
    "print(\"Accuracy of Training and Testing data:\\n\")\n",
    "print(\"Training Accuracy of Decision Tree Model Classifier:\", train_accuracy)\n",
    "print(\"Testing Accuracy of Decision Tree Model Classifier:\", test_accuracy)\n",
    "\n",
    "print()\n",
    "print()"
   ]
  },
  {
   "cell_type": "code",
   "execution_count": 49,
   "id": "b7f40d90",
   "metadata": {},
   "outputs": [
    {
     "name": "stdout",
     "output_type": "stream",
     "text": [
      "Plot of Training and Testing Accuracy:\n"
     ]
    },
    {
     "data": {
      "image/png": "[encoded data removed]",
      "text/plain": [
       "<Figure size 640x480 with 1 Axes>"
      ]
     },
     "metadata": {},
     "output_type": "display_data"
    }
   ],
   "source": [
    "# Plotting training and testing accuracy\n",
    "print(\"Plot of Training and Testing Accuracy:\")\n",
    "\n",
    "labels = ['Training Accuracy', 'Testing Accuracy']\n",
    "values = [train_accuracy, test_accuracy]\n",
    "\n",
    "fig, ax = plt.subplots()\n",
    "bars = ax.bar(labels, values, color=['red', 'black'])\n",
    "\n",
    "# # Adding the numerical values on top of the bars\n",
    "for bar in bars:\n",
    "    yval = bar.get_height()\n",
    "    ax.text(bar.get_x() + bar.get_width()/2, yval, round(yval, 4), va='bottom' if yval < 0.5 else 'top', ha='center', color='white', weight='bold')\n",
    "\n",
    "plt.title('Training and Testing Accuracy of Decision Tree Classifier')\n",
    "plt.show()\n"
   ]
  },
  {
   "cell_type": "code",
   "execution_count": 50,
   "id": "955c347a",
   "metadata": {},
   "outputs": [],
   "source": [
    "# # Create a pickle file for the model\n",
    "dt_model_pickle = open('decision_tree_model.pkl', 'wb')\n",
    "pickle.dump(dt, dt_model_pickle)\n",
    "dt_model_pickle.close()"
   ]
  },
  {
   "cell_type": "markdown",
   "id": "193a7c8d",
   "metadata": {},
   "source": [
    "KNeighbors Classifier"
   ]
  },
  {
   "cell_type": "code",
   "execution_count": 51,
   "id": "1afad865",
   "metadata": {},
   "outputs": [],
   "source": [
    "import numpy as np\n",
    "from sklearn.neighbors import KNeighborsClassifier\n",
    "from sklearn.metrics import classification_report, confusion_matrix, mean_squared_error\n",
    "import pickle\n",
    "import matplotlib.pyplot as plt\n",
    "from sklearn.metrics import precision_score, recall_score, f1_score"
   ]
  },
  {
   "cell_type": "code",
   "execution_count": 52,
   "id": "aaf4ef3e",
   "metadata": {},
   "outputs": [],
   "source": [
    "# Assuming X_train and y_train are your training data\n",
    "# and X_test and y_test are your test data\n",
    "\n",
    "# Create a KNN classifier\n",
    "knn = KNeighborsClassifier(n_neighbors=5)"
   ]
  },
  {
   "cell_type": "code",
   "execution_count": 53,
   "id": "10ebfe9e",
   "metadata": {},
   "outputs": [
    {
     "data": {
      "text/html": [
       "<style>#sk-container-id-2 {color: black;}#sk-container-id-2 pre{padding: 0;}#sk-container-id-2 div.sk-toggleable {background-color: white;}#sk-container-id-2 label.sk-toggleable__label {cursor: pointer;display: block;width: 100%;margin-bottom: 0;padding: 0.3em;box-sizing: border-box;text-align: center;}#sk-container-id-2 label.sk-toggleable__label-arrow:before {content: \"▸\";float: left;margin-right: 0.25em;color: #696969;}#sk-container-id-2 label.sk-toggleable__label-arrow:hover:before {color: black;}#sk-container-id-2 div.sk-estimator:hover label.sk-toggleable__label-arrow:before {color: black;}#sk-container-id-2 div.sk-toggleable__content {max-height: 0;max-width: 0;overflow: hidden;text-align: left;background-color: #f0f8ff;}#sk-container-id-2 div.sk-toggleable__content pre {margin: 0.2em;color: black;border-radius: 0.25em;background-color: #f0f8ff;}#sk-container-id-2 input.sk-toggleable__control:checked~div.sk-toggleable__content {max-height: 200px;max-width: 100%;overflow: auto;}#sk-container-id-2 input.sk-toggleable__control:checked~label.sk-toggleable__label-arrow:before {content: \"▾\";}#sk-container-id-2 div.sk-estimator input.sk-toggleable__control:checked~label.sk-toggleable__label {background-color: #d4ebff;}#sk-container-id-2 div.sk-label input.sk-toggleable__control:checked~label.sk-toggleable__label {background-color: #d4ebff;}#sk-container-id-2 input.sk-hidden--visually {border: 0;clip: rect(1px 1px 1px 1px);clip: rect(1px, 1px, 1px, 1px);height: 1px;margin: -1px;overflow: hidden;padding: 0;position: absolute;width: 1px;}#sk-container-id-2 div.sk-estimator {font-family: monospace;background-color: #f0f8ff;border: 1px dotted black;border-radius: 0.25em;box-sizing: border-box;margin-bottom: 0.5em;}#sk-container-id-2 div.sk-estimator:hover {background-color: #d4ebff;}#sk-container-id-2 div.sk-parallel-item::after {content: \"\";width: 100%;border-bottom: 1px solid gray;flex-grow: 1;}#sk-container-id-2 div.sk-label:hover label.sk-toggleable__label {background-color: #d4ebff;}#sk-container-id-2 div.sk-serial::before {content: \"\";position: absolute;border-left: 1px solid gray;box-sizing: border-box;top: 0;bottom: 0;left: 50%;z-index: 0;}#sk-container-id-2 div.sk-serial {display: flex;flex-direction: column;align-items: center;background-color: white;padding-right: 0.2em;padding-left: 0.2em;position: relative;}#sk-container-id-2 div.sk-item {position: relative;z-index: 1;}#sk-container-id-2 div.sk-parallel {display: flex;align-items: stretch;justify-content: center;background-color: white;position: relative;}#sk-container-id-2 div.sk-item::before, #sk-container-id-2 div.sk-parallel-item::before {content: \"\";position: absolute;border-left: 1px solid gray;box-sizing: border-box;top: 0;bottom: 0;left: 50%;z-index: -1;}#sk-container-id-2 div.sk-parallel-item {display: flex;flex-direction: column;z-index: 1;position: relative;background-color: white;}#sk-container-id-2 div.sk-parallel-item:first-child::after {align-self: flex-end;width: 50%;}#sk-container-id-2 div.sk-parallel-item:last-child::after {align-self: flex-start;width: 50%;}#sk-container-id-2 div.sk-parallel-item:only-child::after {width: 0;}#sk-container-id-2 div.sk-dashed-wrapped {border: 1px dashed gray;margin: 0 0.4em 0.5em 0.4em;box-sizing: border-box;padding-bottom: 0.4em;background-color: white;}#sk-container-id-2 div.sk-label label {font-family: monospace;font-weight: bold;display: inline-block;line-height: 1.2em;}#sk-container-id-2 div.sk-label-container {text-align: center;}#sk-container-id-2 div.sk-container {/* jupyter's `normalize.less` sets `[hidden] { display: none; }` but bootstrap.min.css set `[hidden] { display: none !important; }` so we also need the `!important` here to be able to override the default hidden behavior on the sphinx rendered scikit-learn.org. See: https://github.com/scikit-learn/scikit-learn/issues/21755 */display: inline-block !important;position: relative;}#sk-container-id-2 div.sk-text-repr-fallback {display: none;}</style><div id=\"sk-container-id-2\" class=\"sk-top-container\"><div class=\"sk-text-repr-fallback\"><pre>KNeighborsClassifier()</pre><b>In a Jupyter environment, please rerun this cell to show the HTML representation or trust the notebook. <br />On GitHub, the HTML representation is unable to render, please try loading this page with nbviewer.org.</b></div><div class=\"sk-container\" hidden><div class=\"sk-item\"><div class=\"sk-estimator sk-toggleable\"><input class=\"sk-toggleable__control sk-hidden--visually\" id=\"sk-estimator-id-2\" type=\"checkbox\" checked><label for=\"sk-estimator-id-2\" class=\"sk-toggleable__label sk-toggleable__label-arrow\">KNeighborsClassifier</label><div class=\"sk-toggleable__content\"><pre>KNeighborsClassifier()</pre></div></div></div></div></div>"
      ],
      "text/plain": [
       "KNeighborsClassifier()"
      ]
     },
     "execution_count": 53,
     "metadata": {},
     "output_type": "execute_result"
    }
   ],
   "source": [
    "# Fit the KNN classifier to the training data\n",
    "knn.fit(X_train, y_train)"
   ]
  },
  {
   "cell_type": "code",
   "execution_count": 54,
   "id": "cf12dc92",
   "metadata": {},
   "outputs": [],
   "source": [
    "# Make predictions on the test data\n",
    "y_pred = knn.predict(X_test)"
   ]
  },
  {
   "cell_type": "code",
   "execution_count": 55,
   "id": "6d701223",
   "metadata": {},
   "outputs": [
    {
     "name": "stdout",
     "output_type": "stream",
     "text": [
      "Confusion Matrix:\n",
      "\n",
      "[[1494  162]\n",
      " [ 338  158]]\n"
     ]
    }
   ],
   "source": [
    "# Evaluate the predictions\n",
    "conf_matrix = confusion_matrix(y_test, y_pred)\n",
    "print(\"Confusion Matrix:\\n\")\n",
    "print(conf_matrix)"
   ]
  },
  {
   "cell_type": "code",
   "execution_count": 56,
   "id": "97be085d",
   "metadata": {},
   "outputs": [
    {
     "name": "stdout",
     "output_type": "stream",
     "text": [
      "Heap Map:\n",
      "\n"
     ]
    }
   ],
   "source": [
    "# Evaluate the predictions\n",
    "conf_matrix = confusion_matrix(y_test, y_pred)\n",
    "# Create a heatmap\n",
    "print(\"Heap Map:\\n\")"
   ]
  },
  {
   "cell_type": "code",
   "execution_count": 57,
   "id": "d6871c72",
   "metadata": {},
   "outputs": [
    {
     "data": {
      "image/png": "[encoded data removed]",
      "text/plain": [
       "<Figure size 500x400 with 1 Axes>"
      ]
     },
     "metadata": {},
     "output_type": "display_data"
    },
    {
     "name": "stdout",
     "output_type": "stream",
     "text": [
      "\n",
      "\n"
     ]
    }
   ],
   "source": [
    "fig, ax = plt.subplots(figsize=(5, 4))\n",
    "sns.heatmap(conf_matrix, annot=True, fmt='d', cmap='Purples_r', cbar=False)\n",
    "plt.title(\"Confusion Matrix\")\n",
    "plt.xlabel(\"Predicted\")\n",
    "plt.ylabel(\"Actual\")\n",
    "plt.show()\n",
    "\n",
    "print()\n",
    "print()"
   ]
  },
  {
   "cell_type": "code",
   "execution_count": 58,
   "id": "6f81c76f",
   "metadata": {},
   "outputs": [
    {
     "name": "stdout",
     "output_type": "stream",
     "text": [
      "Classification Report:\n",
      "              precision    recall  f1-score   support\n",
      "\n",
      "           0       0.82      0.90      0.86      1656\n",
      "           1       0.49      0.32      0.39       496\n",
      "\n",
      "    accuracy                           0.77      2152\n",
      "   macro avg       0.65      0.61      0.62      2152\n",
      "weighted avg       0.74      0.77      0.75      2152\n",
      "\n"
     ]
    }
   ],
   "source": [
    "# Create classification Report\n",
    "classification_rep = classification_report(y_test, y_pred)\n",
    "print(\"Classification Report:\")\n",
    "print(classification_rep)"
   ]
  },
  {
   "cell_type": "code",
   "execution_count": 59,
   "id": "65069c2d",
   "metadata": {},
   "outputs": [
    {
     "name": "stdout",
     "output_type": "stream",
     "text": [
      "Error of Training and Testing data:\n",
      "\n",
      "Mean Squared Error (MSE) on Training Set of KNeighborsClassifier Model: 0.15990083669042454\n",
      "Mean Squared Error (MSE) on Testing Set of KNeighborsClassifier Model: 0.23234200743494424\n",
      "\n",
      "Accuracy of Training and Testing data:\n",
      "\n",
      "Training Accuracy of KNeighborsClassifier Classifier: 0.8400991633095755\n",
      "Testing Accuracy of KNeighborsClassifier Classifier: 0.7676579925650557\n",
      "\n",
      "\n"
     ]
    }
   ],
   "source": [
    "# Calculate training error\n",
    "knn_train_pred = knn.predict(X_train)\n",
    "mse_train = mean_squared_error(y_train, knn_train_pred)\n",
    "train_accuracy = 1 - mse_train\n",
    "\n",
    "# Calculate testing error\n",
    "knn_test_pred = knn.predict(X_test)\n",
    "mse_test = mean_squared_error(y_test, knn_test_pred)\n",
    "test_accuracy = 1 - mse_test\n",
    "\n",
    "# Print evaluation metrics\n",
    "\n",
    "print(\"Error of Training and Testing data:\\n\")\n",
    "print(\"Mean Squared Error (MSE) on Training Set of KNeighborsClassifier Model:\", mse_train)\n",
    "print(\"Mean Squared Error (MSE) on Testing Set of KNeighborsClassifier Model:\", mse_test)\n",
    "\n",
    "print()\n",
    "\n",
    "print(\"Accuracy of Training and Testing data:\\n\")\n",
    "print(\"Training Accuracy of KNeighborsClassifier Classifier:\", train_accuracy)\n",
    "print(\"Testing Accuracy of KNeighborsClassifier Classifier:\", test_accuracy)\n",
    "\n",
    "print()\n",
    "print()"
   ]
  },
  {
   "cell_type": "code",
   "execution_count": 60,
   "id": "99fbcfa7",
   "metadata": {},
   "outputs": [
    {
     "name": "stdout",
     "output_type": "stream",
     "text": [
      "Plot of Training and Testing Accuracy:\n"
     ]
    },
    {
     "data": {
      "image/png": "[encoded data removed]",
      "text/plain": [
       "<Figure size 640x480 with 1 Axes>"
      ]
     },
     "metadata": {},
     "output_type": "display_data"
    }
   ],
   "source": [
    "# Plotting training and testing accuracy\n",
    "print(\"Plot of Training and Testing Accuracy:\")\n",
    "\n",
    "labels = ['Training Accuracy', 'Testing Accuracy']\n",
    "values = [train_accuracy, test_accuracy]\n",
    "\n",
    "fig, ax = plt.subplots()\n",
    "bars = ax.bar(labels, values, color=['purple', 'pink'])\n",
    "\n",
    "# # Adding the numerical values on top of the bars\n",
    "for bar in bars:\n",
    "    yval = bar.get_height()\n",
    "    ax.text(bar.get_x() + bar.get_width()/2, yval, round(yval, 4), va='bottom' if yval < 0.5 else 'top', ha='center', color='white', weight='bold')\n",
    "\n",
    "plt.title('Training and Testing Accuracy of KNN Model')\n",
    "plt.show()\n"
   ]
  },
  {
   "cell_type": "code",
   "execution_count": 61,
   "id": "e4f2edc0",
   "metadata": {},
   "outputs": [],
   "source": [
    "# # Create a pickle file for the model\n",
    "knn_model_pickle = open('knn_model.pkl', 'wb')\n",
    "pickle.dump(knn, knn_model_pickle)\n",
    "knn_model_pickle.close()"
   ]
  },
  {
   "cell_type": "markdown",
   "id": "a4ba3095",
   "metadata": {},
   "source": [
    "Linear Regression Model"
   ]
  },
  {
   "cell_type": "code",
   "execution_count": 62,
   "id": "03b554ca",
   "metadata": {},
   "outputs": [],
   "source": [
    "# Import Libraries\n",
    "import numpy as np\n",
    "from sklearn.linear_model import LinearRegression\n",
    "from sklearn.metrics import mean_squared_error, classification_report, confusion_matrix\n",
    "import pickle\n",
    "import matplotlib.pyplot as plt\n",
    "from sklearn.metrics import precision_score, recall_score, f1_score\n",
    "import seaborn as sns"
   ]
  },
  {
   "cell_type": "code",
   "execution_count": 63,
   "id": "067b0e33",
   "metadata": {},
   "outputs": [],
   "source": [
    "# Assuming y_train and y_test are your target variables for regression\n",
    "threshold = 0.5"
   ]
  },
  {
   "cell_type": "code",
   "execution_count": 64,
   "id": "6006f559",
   "metadata": {},
   "outputs": [],
   "source": [
    "# Convert regression to classification\n",
    "y_train_class = np.where(y_train > threshold, 1, 0)\n",
    "y_test_class = np.where(y_test > threshold, 1, 0)"
   ]
  },
  {
   "cell_type": "code",
   "execution_count": 65,
   "id": "f9876536",
   "metadata": {},
   "outputs": [],
   "source": [
    "# Create the LinearRegression model\n",
    "reg = LinearRegression()"
   ]
  },
  {
   "cell_type": "code",
   "execution_count": 66,
   "id": "694e5e4f",
   "metadata": {},
   "outputs": [
    {
     "data": {
      "text/html": [
       "<style>#sk-container-id-3 {color: black;}#sk-container-id-3 pre{padding: 0;}#sk-container-id-3 div.sk-toggleable {background-color: white;}#sk-container-id-3 label.sk-toggleable__label {cursor: pointer;display: block;width: 100%;margin-bottom: 0;padding: 0.3em;box-sizing: border-box;text-align: center;}#sk-container-id-3 label.sk-toggleable__label-arrow:before {content: \"▸\";float: left;margin-right: 0.25em;color: #696969;}#sk-container-id-3 label.sk-toggleable__label-arrow:hover:before {color: black;}#sk-container-id-3 div.sk-estimator:hover label.sk-toggleable__label-arrow:before {color: black;}#sk-container-id-3 div.sk-toggleable__content {max-height: 0;max-width: 0;overflow: hidden;text-align: left;background-color: #f0f8ff;}#sk-container-id-3 div.sk-toggleable__content pre {margin: 0.2em;color: black;border-radius: 0.25em;background-color: #f0f8ff;}#sk-container-id-3 input.sk-toggleable__control:checked~div.sk-toggleable__content {max-height: 200px;max-width: 100%;overflow: auto;}#sk-container-id-3 input.sk-toggleable__control:checked~label.sk-toggleable__label-arrow:before {content: \"▾\";}#sk-container-id-3 div.sk-estimator input.sk-toggleable__control:checked~label.sk-toggleable__label {background-color: #d4ebff;}#sk-container-id-3 div.sk-label input.sk-toggleable__control:checked~label.sk-toggleable__label {background-color: #d4ebff;}#sk-container-id-3 input.sk-hidden--visually {border: 0;clip: rect(1px 1px 1px 1px);clip: rect(1px, 1px, 1px, 1px);height: 1px;margin: -1px;overflow: hidden;padding: 0;position: absolute;width: 1px;}#sk-container-id-3 div.sk-estimator {font-family: monospace;background-color: #f0f8ff;border: 1px dotted black;border-radius: 0.25em;box-sizing: border-box;margin-bottom: 0.5em;}#sk-container-id-3 div.sk-estimator:hover {background-color: #d4ebff;}#sk-container-id-3 div.sk-parallel-item::after {content: \"\";width: 100%;border-bottom: 1px solid gray;flex-grow: 1;}#sk-container-id-3 div.sk-label:hover label.sk-toggleable__label {background-color: #d4ebff;}#sk-container-id-3 div.sk-serial::before {content: \"\";position: absolute;border-left: 1px solid gray;box-sizing: border-box;top: 0;bottom: 0;left: 50%;z-index: 0;}#sk-container-id-3 div.sk-serial {display: flex;flex-direction: column;align-items: center;background-color: white;padding-right: 0.2em;padding-left: 0.2em;position: relative;}#sk-container-id-3 div.sk-item {position: relative;z-index: 1;}#sk-container-id-3 div.sk-parallel {display: flex;align-items: stretch;justify-content: center;background-color: white;position: relative;}#sk-container-id-3 div.sk-item::before, #sk-container-id-3 div.sk-parallel-item::before {content: \"\";position: absolute;border-left: 1px solid gray;box-sizing: border-box;top: 0;bottom: 0;left: 50%;z-index: -1;}#sk-container-id-3 div.sk-parallel-item {display: flex;flex-direction: column;z-index: 1;position: relative;background-color: white;}#sk-container-id-3 div.sk-parallel-item:first-child::after {align-self: flex-end;width: 50%;}#sk-container-id-3 div.sk-parallel-item:last-child::after {align-self: flex-start;width: 50%;}#sk-container-id-3 div.sk-parallel-item:only-child::after {width: 0;}#sk-container-id-3 div.sk-dashed-wrapped {border: 1px dashed gray;margin: 0 0.4em 0.5em 0.4em;box-sizing: border-box;padding-bottom: 0.4em;background-color: white;}#sk-container-id-3 div.sk-label label {font-family: monospace;font-weight: bold;display: inline-block;line-height: 1.2em;}#sk-container-id-3 div.sk-label-container {text-align: center;}#sk-container-id-3 div.sk-container {/* jupyter's `normalize.less` sets `[hidden] { display: none; }` but bootstrap.min.css set `[hidden] { display: none !important; }` so we also need the `!important` here to be able to override the default hidden behavior on the sphinx rendered scikit-learn.org. See: https://github.com/scikit-learn/scikit-learn/issues/21755 */display: inline-block !important;position: relative;}#sk-container-id-3 div.sk-text-repr-fallback {display: none;}</style><div id=\"sk-container-id-3\" class=\"sk-top-container\"><div class=\"sk-text-repr-fallback\"><pre>LinearRegression()</pre><b>In a Jupyter environment, please rerun this cell to show the HTML representation or trust the notebook. <br />On GitHub, the HTML representation is unable to render, please try loading this page with nbviewer.org.</b></div><div class=\"sk-container\" hidden><div class=\"sk-item\"><div class=\"sk-estimator sk-toggleable\"><input class=\"sk-toggleable__control sk-hidden--visually\" id=\"sk-estimator-id-3\" type=\"checkbox\" checked><label for=\"sk-estimator-id-3\" class=\"sk-toggleable__label sk-toggleable__label-arrow\">LinearRegression</label><div class=\"sk-toggleable__content\"><pre>LinearRegression()</pre></div></div></div></div></div>"
      ],
      "text/plain": [
       "LinearRegression()"
      ]
     },
     "execution_count": 66,
     "metadata": {},
     "output_type": "execute_result"
    }
   ],
   "source": [
    "# Train the model\n",
    "reg.fit(X_train, y_train)"
   ]
  },
  {
   "cell_type": "code",
   "execution_count": 67,
   "id": "025b2822",
   "metadata": {},
   "outputs": [],
   "source": [
    "# Make predictions on the test set\n",
    "reg_pred = reg.predict(X_test)"
   ]
  },
  {
   "cell_type": "code",
   "execution_count": 68,
   "id": "f286ef82",
   "metadata": {},
   "outputs": [],
   "source": [
    "# Convert regression predictions to classification\n",
    "reg_pred_class = np.where(reg_pred > threshold, 1, 0)"
   ]
  },
  {
   "cell_type": "code",
   "execution_count": 69,
   "id": "13a87a48",
   "metadata": {},
   "outputs": [
    {
     "name": "stdout",
     "output_type": "stream",
     "text": [
      "Confusion Matrix:\n",
      "\n",
      "[[1560   96]\n",
      " [ 263  233]]\n"
     ]
    }
   ],
   "source": [
    "# Confusion Matrix\n",
    "conf_matrix = confusion_matrix(y_test_class, reg_pred_class)\n",
    "\n",
    "print(\"Confusion Matrix:\\n\")\n",
    "print(conf_matrix)"
   ]
  },
  {
   "cell_type": "code",
   "execution_count": 70,
   "id": "ca1ee9ee",
   "metadata": {},
   "outputs": [
    {
     "name": "stdout",
     "output_type": "stream",
     "text": [
      "Heap Map:\n",
      "\n"
     ]
    },
    {
     "data": {
      "image/png": "[encoded data removed]",
      "text/plain": [
       "<Figure size 500x400 with 1 Axes>"
      ]
     },
     "metadata": {},
     "output_type": "display_data"
    }
   ],
   "source": [
    "# Create a heatmap\n",
    "print(\"Heap Map:\\n\")\n",
    "\n",
    "fig, ax = plt.subplots(figsize=(5, 4))\n",
    "sns.heatmap(conf_matrix, annot=True, fmt='d', cmap='Blues_r', cbar=False)\n",
    "plt.title(\"Confusion Matrix\")\n",
    "plt.xlabel(\"Predicted\")\n",
    "plt.ylabel(\"Actual\")\n",
    "plt.show()"
   ]
  },
  {
   "cell_type": "code",
   "execution_count": 71,
   "id": "b2676d57",
   "metadata": {},
   "outputs": [
    {
     "name": "stdout",
     "output_type": "stream",
     "text": [
      "Clasification Report:\n",
      "\n",
      "              precision    recall  f1-score   support\n",
      "\n",
      "           0       0.86      0.94      0.90      1656\n",
      "           1       0.71      0.47      0.56       496\n",
      "\n",
      "    accuracy                           0.83      2152\n",
      "   macro avg       0.78      0.71      0.73      2152\n",
      "weighted avg       0.82      0.83      0.82      2152\n",
      "\n"
     ]
    }
   ],
   "source": [
    "# Create clasification Report\n",
    "classification_rep = classification_report(y_test_class, reg_pred_class)\n",
    "\n",
    "print(\"Clasification Report:\\n\")\n",
    "print(classification_rep)"
   ]
  },
  {
   "cell_type": "code",
   "execution_count": 72,
   "id": "46c479da",
   "metadata": {},
   "outputs": [
    {
     "name": "stdout",
     "output_type": "stream",
     "text": [
      "Error of Training and Testing data:\n",
      "\n",
      "Mean Squared Error (MSE) on Training Set of Linear Regression Model: 0.127522267723665\n",
      "Mean Squared Error (MSE) on Testing Set of Linear Regression Model: 0.12461868597238716\n",
      "\n",
      "Accuracy of Training and Testing data:\n",
      "\n",
      "Training Accuracy of Linear Regression Model Classifier: 0.872477732276335\n",
      "Testing Accuracy of Linear Regression Model Classifier: 0.8753813140276129\n",
      "\n",
      "\n"
     ]
    }
   ],
   "source": [
    "# Evaluate the model for regression (using Mean Squared Error)\n",
    "mse = mean_squared_error(y_test, reg_pred)\n",
    "\n",
    "# Compute training accuracy and error\n",
    "reg_train_pred = reg.predict(X_train)\n",
    "mse_train = mean_squared_error(y_train, reg_train_pred)\n",
    "train_accuracy = 1 - mse_train\n",
    "\n",
    "# Calculate testing accuracy\n",
    "lr_acc = 1 - mse\n",
    "\n",
    "\n",
    "# Print evaluation metrics\n",
    "\n",
    "print(\"Error of Training and Testing data:\\n\")\n",
    "print(\"Mean Squared Error (MSE) on Training Set of Linear Regression Model:\", mse_train)\n",
    "print(\"Mean Squared Error (MSE) on Testing Set of Linear Regression Model:\", mse)\n",
    "\n",
    "print()\n",
    "\n",
    "print(\"Accuracy of Training and Testing data:\\n\")\n",
    "print(\"Training Accuracy of Linear Regression Model Classifier:\", train_accuracy)\n",
    "print(\"Testing Accuracy of Linear Regression Model Classifier:\", lr_acc)\n",
    "\n",
    "print()\n",
    "print()"
   ]
  },
  {
   "cell_type": "code",
   "execution_count": 73,
   "id": "147d15d5",
   "metadata": {},
   "outputs": [
    {
     "name": "stdout",
     "output_type": "stream",
     "text": [
      "Plot of Training and Testing Accuracy:\n"
     ]
    },
    {
     "data": {
      "image/png": "[encoded data removed]",
      "text/plain": [
       "<Figure size 640x480 with 1 Axes>"
      ]
     },
     "metadata": {},
     "output_type": "display_data"
    }
   ],
   "source": [
    "print(\"Plot of Training and Testing Accuracy:\")\n",
    "\n",
    "\n",
    "# Plotting training and testing accuracy\n",
    "labels = ['Training Accuracy', 'Testing Accuracy']\n",
    "values = [train_accuracy, lr_acc]\n",
    "\n",
    "fig, ax = plt.subplots()\n",
    "bars = ax.bar(labels, values, color=['#070b2e', '#13422f'])\n",
    "\n",
    "# Adding the numerical values on top of the bars\n",
    "for bar in bars:\n",
    "    yval = bar.get_height()\n",
    "    ax.text(bar.get_x() + bar.get_width()/2, yval, round(yval, 4), va='bottom' if yval < 0.5 else 'top', ha='center', color='white', weight='bold')\n",
    "\n",
    "plt.title('Training and Testing Accuracy of Linear Regression Model')\n",
    "plt.show()\n"
   ]
  },
  {
   "cell_type": "code",
   "execution_count": 74,
   "id": "577bab57",
   "metadata": {},
   "outputs": [],
   "source": [
    "# Create a pickle file for the model\n",
    "linear_regression_pickle = open('linear_regression_model.pkl', 'wb')\n",
    "pickle.dump(reg, linear_regression_pickle)\n",
    "linear_regression_pickle.close()"
   ]
  },
  {
   "cell_type": "markdown",
   "id": "35cf14a7",
   "metadata": {},
   "source": [
    "Support Vector Machine"
   ]
  },
  {
   "cell_type": "code",
   "execution_count": 75,
   "id": "24f62e13",
   "metadata": {},
   "outputs": [],
   "source": [
    "# Import Libraries\n",
    "import numpy as np\n",
    "from sklearn.svm import SVC\n",
    "from sklearn.metrics import classification_report, confusion_matrix, mean_squared_error\n",
    "import pickle\n",
    "import matplotlib.pyplot as plt\n",
    "from sklearn.metrics import precision_score, recall_score, f1_score"
   ]
  },
  {
   "cell_type": "code",
   "execution_count": 76,
   "id": "40c1468d",
   "metadata": {},
   "outputs": [],
   "source": [
    "# Assuming y_train and y_test are your target variables for regression\n",
    "threshold = 0.5 "
   ]
  },
  {
   "cell_type": "code",
   "execution_count": 77,
   "id": "c5172468",
   "metadata": {},
   "outputs": [],
   "source": [
    "# Convert regression to classification\n",
    "y_train_class = np.where(y_train > threshold, 1, 0)\n",
    "y_test_class = np.where(y_test > threshold, 1, 0)"
   ]
  },
  {
   "cell_type": "code",
   "execution_count": 78,
   "id": "8a164043",
   "metadata": {},
   "outputs": [],
   "source": [
    "# Create the SVM model\n",
    "svm = SVC()"
   ]
  },
  {
   "cell_type": "code",
   "execution_count": 79,
   "id": "4c8e2cf7",
   "metadata": {},
   "outputs": [
    {
     "data": {
      "text/html": [
       "<style>#sk-container-id-4 {color: black;}#sk-container-id-4 pre{padding: 0;}#sk-container-id-4 div.sk-toggleable {background-color: white;}#sk-container-id-4 label.sk-toggleable__label {cursor: pointer;display: block;width: 100%;margin-bottom: 0;padding: 0.3em;box-sizing: border-box;text-align: center;}#sk-container-id-4 label.sk-toggleable__label-arrow:before {content: \"▸\";float: left;margin-right: 0.25em;color: #696969;}#sk-container-id-4 label.sk-toggleable__label-arrow:hover:before {color: black;}#sk-container-id-4 div.sk-estimator:hover label.sk-toggleable__label-arrow:before {color: black;}#sk-container-id-4 div.sk-toggleable__content {max-height: 0;max-width: 0;overflow: hidden;text-align: left;background-color: #f0f8ff;}#sk-container-id-4 div.sk-toggleable__content pre {margin: 0.2em;color: black;border-radius: 0.25em;background-color: #f0f8ff;}#sk-container-id-4 input.sk-toggleable__control:checked~div.sk-toggleable__content {max-height: 200px;max-width: 100%;overflow: auto;}#sk-container-id-4 input.sk-toggleable__control:checked~label.sk-toggleable__label-arrow:before {content: \"▾\";}#sk-container-id-4 div.sk-estimator input.sk-toggleable__control:checked~label.sk-toggleable__label {background-color: #d4ebff;}#sk-container-id-4 div.sk-label input.sk-toggleable__control:checked~label.sk-toggleable__label {background-color: #d4ebff;}#sk-container-id-4 input.sk-hidden--visually {border: 0;clip: rect(1px 1px 1px 1px);clip: rect(1px, 1px, 1px, 1px);height: 1px;margin: -1px;overflow: hidden;padding: 0;position: absolute;width: 1px;}#sk-container-id-4 div.sk-estimator {font-family: monospace;background-color: #f0f8ff;border: 1px dotted black;border-radius: 0.25em;box-sizing: border-box;margin-bottom: 0.5em;}#sk-container-id-4 div.sk-estimator:hover {background-color: #d4ebff;}#sk-container-id-4 div.sk-parallel-item::after {content: \"\";width: 100%;border-bottom: 1px solid gray;flex-grow: 1;}#sk-container-id-4 div.sk-label:hover label.sk-toggleable__label {background-color: #d4ebff;}#sk-container-id-4 div.sk-serial::before {content: \"\";position: absolute;border-left: 1px solid gray;box-sizing: border-box;top: 0;bottom: 0;left: 50%;z-index: 0;}#sk-container-id-4 div.sk-serial {display: flex;flex-direction: column;align-items: center;background-color: white;padding-right: 0.2em;padding-left: 0.2em;position: relative;}#sk-container-id-4 div.sk-item {position: relative;z-index: 1;}#sk-container-id-4 div.sk-parallel {display: flex;align-items: stretch;justify-content: center;background-color: white;position: relative;}#sk-container-id-4 div.sk-item::before, #sk-container-id-4 div.sk-parallel-item::before {content: \"\";position: absolute;border-left: 1px solid gray;box-sizing: border-box;top: 0;bottom: 0;left: 50%;z-index: -1;}#sk-container-id-4 div.sk-parallel-item {display: flex;flex-direction: column;z-index: 1;position: relative;background-color: white;}#sk-container-id-4 div.sk-parallel-item:first-child::after {align-self: flex-end;width: 50%;}#sk-container-id-4 div.sk-parallel-item:last-child::after {align-self: flex-start;width: 50%;}#sk-container-id-4 div.sk-parallel-item:only-child::after {width: 0;}#sk-container-id-4 div.sk-dashed-wrapped {border: 1px dashed gray;margin: 0 0.4em 0.5em 0.4em;box-sizing: border-box;padding-bottom: 0.4em;background-color: white;}#sk-container-id-4 div.sk-label label {font-family: monospace;font-weight: bold;display: inline-block;line-height: 1.2em;}#sk-container-id-4 div.sk-label-container {text-align: center;}#sk-container-id-4 div.sk-container {/* jupyter's `normalize.less` sets `[hidden] { display: none; }` but bootstrap.min.css set `[hidden] { display: none !important; }` so we also need the `!important` here to be able to override the default hidden behavior on the sphinx rendered scikit-learn.org. See: https://github.com/scikit-learn/scikit-learn/issues/21755 */display: inline-block !important;position: relative;}#sk-container-id-4 div.sk-text-repr-fallback {display: none;}</style><div id=\"sk-container-id-4\" class=\"sk-top-container\"><div class=\"sk-text-repr-fallback\"><pre>SVC()</pre><b>In a Jupyter environment, please rerun this cell to show the HTML representation or trust the notebook. <br />On GitHub, the HTML representation is unable to render, please try loading this page with nbviewer.org.</b></div><div class=\"sk-container\" hidden><div class=\"sk-item\"><div class=\"sk-estimator sk-toggleable\"><input class=\"sk-toggleable__control sk-hidden--visually\" id=\"sk-estimator-id-4\" type=\"checkbox\" checked><label for=\"sk-estimator-id-4\" class=\"sk-toggleable__label sk-toggleable__label-arrow\">SVC</label><div class=\"sk-toggleable__content\"><pre>SVC()</pre></div></div></div></div></div>"
      ],
      "text/plain": [
       "SVC()"
      ]
     },
     "execution_count": 79,
     "metadata": {},
     "output_type": "execute_result"
    }
   ],
   "source": [
    "# Train the model\n",
    "svm.fit(X_train, y_train_class)"
   ]
  },
  {
   "cell_type": "code",
   "execution_count": 80,
   "id": "7cc6fcd7",
   "metadata": {},
   "outputs": [],
   "source": [
    "# Make predictions on the test set\n",
    "svm_pred_class = svm.predict(X_test)"
   ]
  },
  {
   "cell_type": "code",
   "execution_count": 81,
   "id": "89fc1b8b",
   "metadata": {},
   "outputs": [
    {
     "name": "stdout",
     "output_type": "stream",
     "text": [
      "Confusion Matrix:\n",
      "\n",
      "[[1597   59]\n",
      " [ 411   85]]\n"
     ]
    }
   ],
   "source": [
    "# Confusion Matrix\n",
    "conf_matrix = confusion_matrix(y_test_class, svm_pred_class)\n",
    "\n",
    "print(\"Confusion Matrix:\\n\")\n",
    "print(conf_matrix)"
   ]
  },
  {
   "cell_type": "code",
   "execution_count": 82,
   "id": "5199b968",
   "metadata": {},
   "outputs": [
    {
     "name": "stdout",
     "output_type": "stream",
     "text": [
      "Heap Map:\n",
      "\n"
     ]
    },
    {
     "data": {
      "image/png": "[encoded data removed]",
      "text/plain": [
       "<Figure size 500x400 with 1 Axes>"
      ]
     },
     "metadata": {},
     "output_type": "display_data"
    }
   ],
   "source": [
    "# Create a heatmap\n",
    "print(\"Heap Map:\\n\")\n",
    "\n",
    "fig, ax = plt.subplots(figsize=(5, 4))\n",
    "sns.heatmap(conf_matrix, annot=True, fmt='d', cmap='RdPu', cbar=False)\n",
    "plt.title(\"Confusion Matrix\")\n",
    "plt.xlabel(\"Predicted\")\n",
    "plt.ylabel(\"Actual\")\n",
    "plt.show()"
   ]
  },
  {
   "cell_type": "code",
   "execution_count": 83,
   "id": "f4f35bfe",
   "metadata": {},
   "outputs": [
    {
     "name": "stdout",
     "output_type": "stream",
     "text": [
      "Clasification Report:\n",
      "\n",
      "              precision    recall  f1-score   support\n",
      "\n",
      "           0       0.80      0.96      0.87      1656\n",
      "           1       0.59      0.17      0.27       496\n",
      "\n",
      "    accuracy                           0.78      2152\n",
      "   macro avg       0.69      0.57      0.57      2152\n",
      "weighted avg       0.75      0.78      0.73      2152\n",
      "\n"
     ]
    }
   ],
   "source": [
    "# Create classification Report\n",
    "\n",
    "print(\"Clasification Report:\\n\")\n",
    "classification_rep = classification_report(y_test_class, svm_pred_class)\n",
    "\n",
    "print(classification_rep)"
   ]
  },
  {
   "cell_type": "code",
   "execution_count": 84,
   "id": "851f89ee",
   "metadata": {},
   "outputs": [
    {
     "name": "stdout",
     "output_type": "stream",
     "text": [
      "Error of Training and Testing data:\n",
      "\n",
      "Training Error of SVM Model: 0.21738456770994732\n",
      "Testing Error of SVM Model: 0.2184014869888476\n",
      "\n",
      "Accuracy of Training and Testing data:\n",
      "\n",
      "Training Accuracy of SVM Model: 0.7826154322900527\n",
      "Testing Accuracy of SVM Model: 0.7815985130111525\n"
     ]
    }
   ],
   "source": [
    "# Calculate training error\n",
    "svm_train_pred = svm.predict(X_train)\n",
    "mse_train = mean_squared_error(y_train_class, svm_train_pred)\n",
    "train_accuracy = 1 - mse_train\n",
    "\n",
    "# Calculate testing error\n",
    "svm_test_pred = svm.predict(X_test)\n",
    "mse_test = mean_squared_error(y_test_class, svm_test_pred)\n",
    "test_accuracy = 1 - mse_test\n",
    "\n",
    "print(\"Error of Training and Testing data:\\n\")\n",
    "print(\"Training Error of SVM Model:\", mse_train)\n",
    "print(\"Testing Error of SVM Model:\", mse_test)\n",
    "\n",
    "print()\n",
    "\n",
    "print(\"Accuracy of Training and Testing data:\\n\")\n",
    "print(\"Training Accuracy of SVM Model:\", train_accuracy)\n",
    "print(\"Testing Accuracy of SVM Model:\", test_accuracy)"
   ]
  },
  {
   "cell_type": "code",
   "execution_count": 85,
   "id": "85f8a50a",
   "metadata": {},
   "outputs": [
    {
     "name": "stdout",
     "output_type": "stream",
     "text": [
      "Plot of Training and Testing Accuracy:\n"
     ]
    },
    {
     "data": {
      "image/png": "[encoded data removed]",
      "text/plain": [
       "<Figure size 640x480 with 1 Axes>"
      ]
     },
     "metadata": {},
     "output_type": "display_data"
    }
   ],
   "source": [
    "print(\"Plot of Training and Testing Accuracy:\")\n",
    "\n",
    "# Plotting training and testing accuracy\n",
    "labels = ['Training Accuracy', 'Testing Accuracy']\n",
    "values = [train_accuracy, test_accuracy]\n",
    "\n",
    "fig, ax = plt.subplots()\n",
    "bars = ax.bar(labels, values, color=['#d90ba9', '#350254'])\n",
    "\n",
    "# Adding the numerical values on top of the bars\n",
    "for bar in bars:\n",
    "    yval = bar.get_height()\n",
    "    ax.text(bar.get_x() + bar.get_width()/2, yval, round(yval, 4), va='bottom' if yval < 0.5 else 'top', ha='center', color='white', weight='bold')\n",
    "\n",
    "plt.title('Training and Testing Accuracy of Support Vector Machine')\n",
    "plt.show()"
   ]
  },
  {
   "cell_type": "code",
   "execution_count": 86,
   "id": "43ec9526",
   "metadata": {},
   "outputs": [],
   "source": [
    "# Create a pickle file for the model\n",
    "svm_model_pickle = open('svm_model.pkl', 'wb')\n",
    "pickle.dump(svm, svm_model_pickle)\n",
    "svm_model_pickle.close()"
   ]
  },
  {
   "cell_type": "markdown",
   "id": "629f8f5f",
   "metadata": {},
   "source": [
    "Random Forest Classifier"
   ]
  },
  {
   "cell_type": "code",
   "execution_count": 87,
   "id": "8997327a",
   "metadata": {},
   "outputs": [],
   "source": [
    "#import the libraries\n",
    "import numpy as np\n",
    "from sklearn.ensemble import RandomForestClassifier\n",
    "from sklearn.metrics import classification_report, confusion_matrix, mean_squared_error\n",
    "import pickle\n",
    "import matplotlib.pyplot as plt\n",
    "from sklearn.metrics import precision_score, recall_score, f1_score"
   ]
  },
  {
   "cell_type": "code",
   "execution_count": 88,
   "id": "f6ac253d",
   "metadata": {},
   "outputs": [],
   "source": [
    "# Assuming X_train and y_train are your training data and X_test and y_test are your test data\n",
    "\n",
    "# Create a random forest classifier\n",
    "rf = RandomForestClassifier(n_estimators=100, criterion='entropy')"
   ]
  },
  {
   "cell_type": "code",
   "execution_count": 89,
   "id": "eb1f4d24",
   "metadata": {},
   "outputs": [
    {
     "data": {
      "text/html": [
       "<style>#sk-container-id-5 {color: black;}#sk-container-id-5 pre{padding: 0;}#sk-container-id-5 div.sk-toggleable {background-color: white;}#sk-container-id-5 label.sk-toggleable__label {cursor: pointer;display: block;width: 100%;margin-bottom: 0;padding: 0.3em;box-sizing: border-box;text-align: center;}#sk-container-id-5 label.sk-toggleable__label-arrow:before {content: \"▸\";float: left;margin-right: 0.25em;color: #696969;}#sk-container-id-5 label.sk-toggleable__label-arrow:hover:before {color: black;}#sk-container-id-5 div.sk-estimator:hover label.sk-toggleable__label-arrow:before {color: black;}#sk-container-id-5 div.sk-toggleable__content {max-height: 0;max-width: 0;overflow: hidden;text-align: left;background-color: #f0f8ff;}#sk-container-id-5 div.sk-toggleable__content pre {margin: 0.2em;color: black;border-radius: 0.25em;background-color: #f0f8ff;}#sk-container-id-5 input.sk-toggleable__control:checked~div.sk-toggleable__content {max-height: 200px;max-width: 100%;overflow: auto;}#sk-container-id-5 input.sk-toggleable__control:checked~label.sk-toggleable__label-arrow:before {content: \"▾\";}#sk-container-id-5 div.sk-estimator input.sk-toggleable__control:checked~label.sk-toggleable__label {background-color: #d4ebff;}#sk-container-id-5 div.sk-label input.sk-toggleable__control:checked~label.sk-toggleable__label {background-color: #d4ebff;}#sk-container-id-5 input.sk-hidden--visually {border: 0;clip: rect(1px 1px 1px 1px);clip: rect(1px, 1px, 1px, 1px);height: 1px;margin: -1px;overflow: hidden;padding: 0;position: absolute;width: 1px;}#sk-container-id-5 div.sk-estimator {font-family: monospace;background-color: #f0f8ff;border: 1px dotted black;border-radius: 0.25em;box-sizing: border-box;margin-bottom: 0.5em;}#sk-container-id-5 div.sk-estimator:hover {background-color: #d4ebff;}#sk-container-id-5 div.sk-parallel-item::after {content: \"\";width: 100%;border-bottom: 1px solid gray;flex-grow: 1;}#sk-container-id-5 div.sk-label:hover label.sk-toggleable__label {background-color: #d4ebff;}#sk-container-id-5 div.sk-serial::before {content: \"\";position: absolute;border-left: 1px solid gray;box-sizing: border-box;top: 0;bottom: 0;left: 50%;z-index: 0;}#sk-container-id-5 div.sk-serial {display: flex;flex-direction: column;align-items: center;background-color: white;padding-right: 0.2em;padding-left: 0.2em;position: relative;}#sk-container-id-5 div.sk-item {position: relative;z-index: 1;}#sk-container-id-5 div.sk-parallel {display: flex;align-items: stretch;justify-content: center;background-color: white;position: relative;}#sk-container-id-5 div.sk-item::before, #sk-container-id-5 div.sk-parallel-item::before {content: \"\";position: absolute;border-left: 1px solid gray;box-sizing: border-box;top: 0;bottom: 0;left: 50%;z-index: -1;}#sk-container-id-5 div.sk-parallel-item {display: flex;flex-direction: column;z-index: 1;position: relative;background-color: white;}#sk-container-id-5 div.sk-parallel-item:first-child::after {align-self: flex-end;width: 50%;}#sk-container-id-5 div.sk-parallel-item:last-child::after {align-self: flex-start;width: 50%;}#sk-container-id-5 div.sk-parallel-item:only-child::after {width: 0;}#sk-container-id-5 div.sk-dashed-wrapped {border: 1px dashed gray;margin: 0 0.4em 0.5em 0.4em;box-sizing: border-box;padding-bottom: 0.4em;background-color: white;}#sk-container-id-5 div.sk-label label {font-family: monospace;font-weight: bold;display: inline-block;line-height: 1.2em;}#sk-container-id-5 div.sk-label-container {text-align: center;}#sk-container-id-5 div.sk-container {/* jupyter's `normalize.less` sets `[hidden] { display: none; }` but bootstrap.min.css set `[hidden] { display: none !important; }` so we also need the `!important` here to be able to override the default hidden behavior on the sphinx rendered scikit-learn.org. See: https://github.com/scikit-learn/scikit-learn/issues/21755 */display: inline-block !important;position: relative;}#sk-container-id-5 div.sk-text-repr-fallback {display: none;}</style><div id=\"sk-container-id-5\" class=\"sk-top-container\"><div class=\"sk-text-repr-fallback\"><pre>RandomForestClassifier(criterion=&#x27;entropy&#x27;)</pre><b>In a Jupyter environment, please rerun this cell to show the HTML representation or trust the notebook. <br />On GitHub, the HTML representation is unable to render, please try loading this page with nbviewer.org.</b></div><div class=\"sk-container\" hidden><div class=\"sk-item\"><div class=\"sk-estimator sk-toggleable\"><input class=\"sk-toggleable__control sk-hidden--visually\" id=\"sk-estimator-id-5\" type=\"checkbox\" checked><label for=\"sk-estimator-id-5\" class=\"sk-toggleable__label sk-toggleable__label-arrow\">RandomForestClassifier</label><div class=\"sk-toggleable__content\"><pre>RandomForestClassifier(criterion=&#x27;entropy&#x27;)</pre></div></div></div></div></div>"
      ],
      "text/plain": [
       "RandomForestClassifier(criterion='entropy')"
      ]
     },
     "execution_count": 89,
     "metadata": {},
     "output_type": "execute_result"
    }
   ],
   "source": [
    "# Fit the random forest classifier to the training data\n",
    "rf.fit(X_train, y_train)"
   ]
  },
  {
   "cell_type": "code",
   "execution_count": 90,
   "id": "1b5d0a1b",
   "metadata": {},
   "outputs": [],
   "source": [
    "# Make predictions on the test data\n",
    "y_pred = rf.predict(X_test)\n",
    "\n",
    "# Evaluate the predictions\n",
    "conf_matrix = confusion_matrix(y_test, y_pred)"
   ]
  },
  {
   "cell_type": "code",
   "execution_count": 91,
   "id": "5e62c742",
   "metadata": {},
   "outputs": [
    {
     "name": "stdout",
     "output_type": "stream",
     "text": [
      "Confusion Matrix:\n",
      "\n",
      "[[1568   88]\n",
      " [ 183  313]]\n"
     ]
    }
   ],
   "source": [
    "# Evaluate the predictions\n",
    "conf_matrix = confusion_matrix(y_test, y_pred)\n",
    "print(\"Confusion Matrix:\\n\")\n",
    "print(conf_matrix)"
   ]
  },
  {
   "cell_type": "code",
   "execution_count": 92,
   "id": "7c28d6be",
   "metadata": {},
   "outputs": [
    {
     "name": "stdout",
     "output_type": "stream",
     "text": [
      "Heap Map:\n",
      "\n"
     ]
    },
    {
     "data": {
      "image/png": "[encoded data removed]",
      "text/plain": [
       "<Figure size 500x400 with 1 Axes>"
      ]
     },
     "metadata": {},
     "output_type": "display_data"
    },
    {
     "name": "stdout",
     "output_type": "stream",
     "text": [
      "\n",
      "\n"
     ]
    }
   ],
   "source": [
    "# Create a heatmap\n",
    "print(\"Heap Map:\\n\")\n",
    "fig, ax = plt.subplots(figsize=(5, 4))\n",
    "sns.heatmap(conf_matrix, annot=True, fmt='d', cmap='Blues_r', cbar=False)\n",
    "plt.title(\"Confusion Matrix\")\n",
    "plt.xlabel(\"Predicted\")\n",
    "plt.ylabel(\"Actual\")\n",
    "plt.show()\n",
    "print()\n",
    "print()"
   ]
  },
  {
   "cell_type": "code",
   "execution_count": 93,
   "id": "7024fccf",
   "metadata": {},
   "outputs": [
    {
     "name": "stdout",
     "output_type": "stream",
     "text": [
      "Classification Report:\n",
      "              precision    recall  f1-score   support\n",
      "\n",
      "           0       0.90      0.95      0.92      1656\n",
      "           1       0.78      0.63      0.70       496\n",
      "\n",
      "    accuracy                           0.87      2152\n",
      "   macro avg       0.84      0.79      0.81      2152\n",
      "weighted avg       0.87      0.87      0.87      2152\n",
      "\n"
     ]
    }
   ],
   "source": [
    "# Create classification Report\n",
    "classification_rep = classification_report(y_test, y_pred)\n",
    "print(\"Classification Report:\")\n",
    "print(classification_rep)"
   ]
  },
  {
   "cell_type": "code",
   "execution_count": 94,
   "id": "dc7c4312",
   "metadata": {},
   "outputs": [
    {
     "name": "stdout",
     "output_type": "stream",
     "text": [
      "Mean Squared Error of the Training and Testing set:\n",
      "\n",
      "Training Error of Random Forest Model: 0.0\n",
      "Testing Error of Random Forest Model: 0.12592936802973978\n",
      "\n",
      "Accuracy of the Training and Testing set:\n",
      "\n",
      "Training Accuracy of Random Forest Model: 1.0\n",
      "Testing Accuracy of Random Forest Model: 0.8740706319702602\n"
     ]
    }
   ],
   "source": [
    "# Calculate training error\n",
    "rf_train_pred = rf.predict(X_train)\n",
    "mse_train = mean_squared_error(y_train, rf_train_pred)\n",
    "train_accuracy = 1 - mse_train\n",
    "\n",
    "# Calculate testing error\n",
    "rf_test_pred = rf.predict(X_test)\n",
    "mse_test = mean_squared_error(y_test, rf_test_pred)\n",
    "test_accuracy = 1 - mse_test\n",
    "\n",
    "print(\"Mean Squared Error of the Training and Testing set:\\n\")\n",
    "print(\"Training Error of Random Forest Model:\", mse_train)\n",
    "print(\"Testing Error of Random Forest Model:\", mse_test)\n",
    "\n",
    "print()\n",
    "\n",
    "print(\"Accuracy of the Training and Testing set:\\n\")\n",
    "print(\"Training Accuracy of Random Forest Model:\", train_accuracy)\n",
    "print(\"Testing Accuracy of Random Forest Model:\", test_accuracy)"
   ]
  },
  {
   "cell_type": "code",
   "execution_count": 95,
   "id": "0f07e409",
   "metadata": {},
   "outputs": [
    {
     "data": {
      "image/png": "[encoded data removed]",
      "text/plain": [
       "<Figure size 640x480 with 1 Axes>"
      ]
     },
     "metadata": {},
     "output_type": "display_data"
    }
   ],
   "source": [
    "# Plotting training and testing accuracy\n",
    "labels = ['Training Accuracy', 'Testing Accuracy']\n",
    "values = [train_accuracy, test_accuracy]\n",
    "\n",
    "fig, ax = plt.subplots()\n",
    "bars = ax.bar(labels, values, color=['indigo', 'aqua'])\n",
    "\n",
    "# Adding the numerical values on top of the bars\n",
    "for bar in bars:\n",
    "    yval = bar.get_height()\n",
    "    ax.text(bar.get_x() + bar.get_width()/2, yval, round(yval, 4), va='bottom' if yval < 0.5 else 'top', ha='center', color='white', weight='bold')\n",
    "\n",
    "plt.title('Training and Testing Accuracy of Random Forest Classifier')\n",
    "plt.show()"
   ]
  },
  {
   "cell_type": "code",
   "execution_count": 96,
   "id": "73eeea37",
   "metadata": {},
   "outputs": [],
   "source": [
    "# Create a pickle file for the model\n",
    "rf_model_pickle = open('random_forest_model.pkl', 'wb')\n",
    "pickle.dump(rf, rf_model_pickle)\n",
    "rf_model_pickle.close()"
   ]
  },
  {
   "cell_type": "markdown",
   "id": "96026f48",
   "metadata": {},
   "source": [
    "Gaussian Naive Bayes Classifier"
   ]
  },
  {
   "cell_type": "code",
   "execution_count": 97,
   "id": "511d0fb3",
   "metadata": {},
   "outputs": [],
   "source": [
    "# import the libraries\n",
    "import numpy as np\n",
    "from sklearn.naive_bayes import GaussianNB\n",
    "from sklearn.metrics import classification_report, confusion_matrix, mean_squared_error\n",
    "import pickle\n",
    "import matplotlib.pyplot as plt\n",
    "from sklearn.metrics import precision_score, recall_score, f1_score"
   ]
  },
  {
   "cell_type": "code",
   "execution_count": 98,
   "id": "d4000d4c",
   "metadata": {},
   "outputs": [],
   "source": [
    "# Assuming X_train and y_train are your training data and X_test and y_test are your test data\n",
    "\n",
    "# Create a Gaussian Naive Bayes classifier\n",
    "gnb = GaussianNB()"
   ]
  },
  {
   "cell_type": "code",
   "execution_count": 99,
   "id": "d1b496b5",
   "metadata": {},
   "outputs": [
    {
     "data": {
      "text/html": [
       "<style>#sk-container-id-6 {color: black;}#sk-container-id-6 pre{padding: 0;}#sk-container-id-6 div.sk-toggleable {background-color: white;}#sk-container-id-6 label.sk-toggleable__label {cursor: pointer;display: block;width: 100%;margin-bottom: 0;padding: 0.3em;box-sizing: border-box;text-align: center;}#sk-container-id-6 label.sk-toggleable__label-arrow:before {content: \"▸\";float: left;margin-right: 0.25em;color: #696969;}#sk-container-id-6 label.sk-toggleable__label-arrow:hover:before {color: black;}#sk-container-id-6 div.sk-estimator:hover label.sk-toggleable__label-arrow:before {color: black;}#sk-container-id-6 div.sk-toggleable__content {max-height: 0;max-width: 0;overflow: hidden;text-align: left;background-color: #f0f8ff;}#sk-container-id-6 div.sk-toggleable__content pre {margin: 0.2em;color: black;border-radius: 0.25em;background-color: #f0f8ff;}#sk-container-id-6 input.sk-toggleable__control:checked~div.sk-toggleable__content {max-height: 200px;max-width: 100%;overflow: auto;}#sk-container-id-6 input.sk-toggleable__control:checked~label.sk-toggleable__label-arrow:before {content: \"▾\";}#sk-container-id-6 div.sk-estimator input.sk-toggleable__control:checked~label.sk-toggleable__label {background-color: #d4ebff;}#sk-container-id-6 div.sk-label input.sk-toggleable__control:checked~label.sk-toggleable__label {background-color: #d4ebff;}#sk-container-id-6 input.sk-hidden--visually {border: 0;clip: rect(1px 1px 1px 1px);clip: rect(1px, 1px, 1px, 1px);height: 1px;margin: -1px;overflow: hidden;padding: 0;position: absolute;width: 1px;}#sk-container-id-6 div.sk-estimator {font-family: monospace;background-color: #f0f8ff;border: 1px dotted black;border-radius: 0.25em;box-sizing: border-box;margin-bottom: 0.5em;}#sk-container-id-6 div.sk-estimator:hover {background-color: #d4ebff;}#sk-container-id-6 div.sk-parallel-item::after {content: \"\";width: 100%;border-bottom: 1px solid gray;flex-grow: 1;}#sk-container-id-6 div.sk-label:hover label.sk-toggleable__label {background-color: #d4ebff;}#sk-container-id-6 div.sk-serial::before {content: \"\";position: absolute;border-left: 1px solid gray;box-sizing: border-box;top: 0;bottom: 0;left: 50%;z-index: 0;}#sk-container-id-6 div.sk-serial {display: flex;flex-direction: column;align-items: center;background-color: white;padding-right: 0.2em;padding-left: 0.2em;position: relative;}#sk-container-id-6 div.sk-item {position: relative;z-index: 1;}#sk-container-id-6 div.sk-parallel {display: flex;align-items: stretch;justify-content: center;background-color: white;position: relative;}#sk-container-id-6 div.sk-item::before, #sk-container-id-6 div.sk-parallel-item::before {content: \"\";position: absolute;border-left: 1px solid gray;box-sizing: border-box;top: 0;bottom: 0;left: 50%;z-index: -1;}#sk-container-id-6 div.sk-parallel-item {display: flex;flex-direction: column;z-index: 1;position: relative;background-color: white;}#sk-container-id-6 div.sk-parallel-item:first-child::after {align-self: flex-end;width: 50%;}#sk-container-id-6 div.sk-parallel-item:last-child::after {align-self: flex-start;width: 50%;}#sk-container-id-6 div.sk-parallel-item:only-child::after {width: 0;}#sk-container-id-6 div.sk-dashed-wrapped {border: 1px dashed gray;margin: 0 0.4em 0.5em 0.4em;box-sizing: border-box;padding-bottom: 0.4em;background-color: white;}#sk-container-id-6 div.sk-label label {font-family: monospace;font-weight: bold;display: inline-block;line-height: 1.2em;}#sk-container-id-6 div.sk-label-container {text-align: center;}#sk-container-id-6 div.sk-container {/* jupyter's `normalize.less` sets `[hidden] { display: none; }` but bootstrap.min.css set `[hidden] { display: none !important; }` so we also need the `!important` here to be able to override the default hidden behavior on the sphinx rendered scikit-learn.org. See: https://github.com/scikit-learn/scikit-learn/issues/21755 */display: inline-block !important;position: relative;}#sk-container-id-6 div.sk-text-repr-fallback {display: none;}</style><div id=\"sk-container-id-6\" class=\"sk-top-container\"><div class=\"sk-text-repr-fallback\"><pre>GaussianNB()</pre><b>In a Jupyter environment, please rerun this cell to show the HTML representation or trust the notebook. <br />On GitHub, the HTML representation is unable to render, please try loading this page with nbviewer.org.</b></div><div class=\"sk-container\" hidden><div class=\"sk-item\"><div class=\"sk-estimator sk-toggleable\"><input class=\"sk-toggleable__control sk-hidden--visually\" id=\"sk-estimator-id-6\" type=\"checkbox\" checked><label for=\"sk-estimator-id-6\" class=\"sk-toggleable__label sk-toggleable__label-arrow\">GaussianNB</label><div class=\"sk-toggleable__content\"><pre>GaussianNB()</pre></div></div></div></div></div>"
      ],
      "text/plain": [
       "GaussianNB()"
      ]
     },
     "execution_count": 99,
     "metadata": {},
     "output_type": "execute_result"
    }
   ],
   "source": [
    "# Fit the Gaussian Naive Bayes classifier to the training data\n",
    "gnb.fit(X_train, y_train)"
   ]
  },
  {
   "cell_type": "code",
   "execution_count": 100,
   "id": "efa9b5e9",
   "metadata": {},
   "outputs": [],
   "source": [
    "# Make predictions on the test data\n",
    "y_pred = gnb.predict(X_test)\n",
    "\n",
    "# Evaluate the predictions\n",
    "conf_matrix = confusion_matrix(y_test, y_pred)"
   ]
  },
  {
   "cell_type": "code",
   "execution_count": 101,
   "id": "beffac16",
   "metadata": {},
   "outputs": [
    {
     "name": "stdout",
     "output_type": "stream",
     "text": [
      "Confusion Matrix:\n",
      "\n",
      "[[1493  163]\n",
      " [ 213  283]]\n"
     ]
    }
   ],
   "source": [
    "# Evaluate the predictions\n",
    "conf_matrix = confusion_matrix(y_test, y_pred)\n",
    "print(\"Confusion Matrix:\\n\")\n",
    "print(conf_matrix)"
   ]
  },
  {
   "cell_type": "code",
   "execution_count": 102,
   "id": "dc5c7ab5",
   "metadata": {},
   "outputs": [
    {
     "name": "stdout",
     "output_type": "stream",
     "text": [
      "Heap Map:\n",
      "\n"
     ]
    },
    {
     "data": {
      "image/png": "[encoded data removed]",
      "text/plain": [
       "<Figure size 500x400 with 1 Axes>"
      ]
     },
     "metadata": {},
     "output_type": "display_data"
    },
    {
     "name": "stdout",
     "output_type": "stream",
     "text": [
      "\n",
      "\n"
     ]
    }
   ],
   "source": [
    "# Create a heatmap\n",
    "print(\"Heap Map:\\n\")\n",
    "\n",
    "fig, ax = plt.subplots(figsize=(5, 4))\n",
    "sns.heatmap(conf_matrix, annot=True, fmt='d', cmap='Oranges_r', cbar=False)\n",
    "plt.title(\"Confusion Matrix\")\n",
    "plt.xlabel(\"Predicted\")\n",
    "plt.ylabel(\"Actual\")\n",
    "plt.show()\n",
    "\n",
    "print()\n",
    "print()"
   ]
  },
  {
   "cell_type": "code",
   "execution_count": 103,
   "id": "2e3983ed",
   "metadata": {},
   "outputs": [
    {
     "name": "stdout",
     "output_type": "stream",
     "text": [
      "Classification Report:\n",
      "              precision    recall  f1-score   support\n",
      "\n",
      "           0       0.88      0.90      0.89      1656\n",
      "           1       0.63      0.57      0.60       496\n",
      "\n",
      "    accuracy                           0.83      2152\n",
      "   macro avg       0.75      0.74      0.74      2152\n",
      "weighted avg       0.82      0.83      0.82      2152\n",
      "\n"
     ]
    }
   ],
   "source": [
    "# Create classification Report\n",
    "classification_rep = classification_report(y_test, y_pred)\n",
    "print(\"Classification Report:\")\n",
    "print(classification_rep)"
   ]
  },
  {
   "cell_type": "code",
   "execution_count": 104,
   "id": "d0dacdf9",
   "metadata": {},
   "outputs": [
    {
     "name": "stdout",
     "output_type": "stream",
     "text": [
      "Mean Squared Error of the Training and the Testing Set: \n",
      "\n",
      "Training Error of Gaussian Naive Bayes Model: 0.1831422373721723\n",
      "Testing Error of Gaussian Naive Bayes Model: 0.17472118959107807\n",
      "\n",
      "Accuracy for the Training and the Testing Set: \n",
      "\n",
      "Training Accuracy of Gaussian Naive Bayes Model: 0.8168577626278277\n",
      "Testing Accuracy of Gaussian Naive Bayes Model: 0.8252788104089219\n"
     ]
    }
   ],
   "source": [
    "# Calculate training error\n",
    "gnb_train_pred = gnb.predict(X_train)\n",
    "mse_train = mean_squared_error(y_train, gnb_train_pred)\n",
    "train_accuracy = 1 - mse_train\n",
    "\n",
    "# Calculate testing error\n",
    "gnb_test_pred = gnb.predict(X_test)\n",
    "mse_test = mean_squared_error(y_test, gnb_test_pred)\n",
    "test_accuracy = 1 - mse_test\n",
    "\n",
    "print(\"Mean Squared Error of the Training and the Testing Set: \\n\")\n",
    "print(\"Training Error of Gaussian Naive Bayes Model:\", mse_train)\n",
    "print(\"Testing Error of Gaussian Naive Bayes Model:\", mse_test)\n",
    "\n",
    "print()\n",
    "\n",
    "print(\"Accuracy for the Training and the Testing Set: \\n\")\n",
    "print(\"Training Accuracy of Gaussian Naive Bayes Model:\", train_accuracy)\n",
    "print(\"Testing Accuracy of Gaussian Naive Bayes Model:\", test_accuracy)"
   ]
  },
  {
   "cell_type": "code",
   "execution_count": 105,
   "id": "c57b3eab",
   "metadata": {},
   "outputs": [
    {
     "data": {
      "image/png": "[encoded data removed]",
      "text/plain": [
       "<Figure size 640x480 with 1 Axes>"
      ]
     },
     "metadata": {},
     "output_type": "display_data"
    }
   ],
   "source": [
    "# Plotting training and testing accuracy\n",
    "labels = ['Training Accuracy', 'Testing Accuracy']\n",
    "values = [train_accuracy, test_accuracy]\n",
    "\n",
    "fig, ax = plt.subplots()\n",
    "bars = ax.bar(labels, values, color=['orange', 'brown'])\n",
    "\n",
    "# Adding the numerical values on top of the bars\n",
    "for bar in bars:\n",
    "    yval = bar.get_height()\n",
    "    ax.text(bar.get_x() + bar.get_width()/2, yval, round(yval, 4), va='bottom' if yval < 0.5 else 'top', ha='center', color='white', weight='bold')\n",
    "\n",
    "plt.title('Training and Testing Accuracy of Gaussian Naive Bayes Classifier')\n",
    "plt.show()"
   ]
  },
  {
   "cell_type": "code",
   "execution_count": 106,
   "id": "83873a3b",
   "metadata": {},
   "outputs": [],
   "source": [
    "# Create a pickle file for the model\n",
    "gnb_model_pickle = open('gaussian_naive_bayes_model.pkl', 'wb')\n",
    "pickle.dump(gnb, gnb_model_pickle)\n",
    "gnb_model_pickle.close()"
   ]
  },
  {
   "cell_type": "markdown",
   "id": "238af002",
   "metadata": {},
   "source": [
    "Logistic Regression Model"
   ]
  },
  {
   "cell_type": "code",
   "execution_count": 107,
   "id": "ab82350b",
   "metadata": {},
   "outputs": [],
   "source": [
    "# import the libraries\n",
    "import numpy as np\n",
    "from sklearn.linear_model import LogisticRegression\n",
    "from sklearn.metrics import classification_report, confusion_matrix, mean_squared_error\n",
    "import pickle\n",
    "import matplotlib.pyplot as plt\n",
    "from sklearn.metrics import precision_score, recall_score, f1_score"
   ]
  },
  {
   "cell_type": "code",
   "execution_count": 108,
   "id": "093c30a7",
   "metadata": {},
   "outputs": [],
   "source": [
    "# Assuming y_train and y_test are your target variables for regression\n",
    "threshold = 0.5 \n",
    "\n",
    "# Convert regression to classification\n",
    "y_train_class = np.where(y_train > threshold, 1, 0)\n",
    "y_test_class = np.where(y_test > threshold, 1, 0)\n",
    "\n",
    "# Create the Logistic Regression model\n",
    "log_reg = LogisticRegression()"
   ]
  },
  {
   "cell_type": "code",
   "execution_count": 109,
   "id": "18b03787",
   "metadata": {},
   "outputs": [
    {
     "name": "stderr",
     "output_type": "stream",
     "text": [
      "C:\\Users\\DELL\\AppData\\Roaming\\Python\\Python311\\site-packages\\sklearn\\linear_model\\_logistic.py:460: ConvergenceWarning: lbfgs failed to converge (status=1):\n",
      "STOP: TOTAL NO. of ITERATIONS REACHED LIMIT.\n",
      "\n",
      "Increase the number of iterations (max_iter) or scale the data as shown in:\n",
      "    https://scikit-learn.org/stable/modules/preprocessing.html\n",
      "Please also refer to the documentation for alternative solver options:\n",
      "    https://scikit-learn.org/stable/modules/linear_model.html#logistic-regression\n",
      "  n_iter_i = _check_optimize_result(\n"
     ]
    },
    {
     "data": {
      "text/html": [
       "<style>#sk-container-id-7 {color: black;}#sk-container-id-7 pre{padding: 0;}#sk-container-id-7 div.sk-toggleable {background-color: white;}#sk-container-id-7 label.sk-toggleable__label {cursor: pointer;display: block;width: 100%;margin-bottom: 0;padding: 0.3em;box-sizing: border-box;text-align: center;}#sk-container-id-7 label.sk-toggleable__label-arrow:before {content: \"▸\";float: left;margin-right: 0.25em;color: #696969;}#sk-container-id-7 label.sk-toggleable__label-arrow:hover:before {color: black;}#sk-container-id-7 div.sk-estimator:hover label.sk-toggleable__label-arrow:before {color: black;}#sk-container-id-7 div.sk-toggleable__content {max-height: 0;max-width: 0;overflow: hidden;text-align: left;background-color: #f0f8ff;}#sk-container-id-7 div.sk-toggleable__content pre {margin: 0.2em;color: black;border-radius: 0.25em;background-color: #f0f8ff;}#sk-container-id-7 input.sk-toggleable__control:checked~div.sk-toggleable__content {max-height: 200px;max-width: 100%;overflow: auto;}#sk-container-id-7 input.sk-toggleable__control:checked~label.sk-toggleable__label-arrow:before {content: \"▾\";}#sk-container-id-7 div.sk-estimator input.sk-toggleable__control:checked~label.sk-toggleable__label {background-color: #d4ebff;}#sk-container-id-7 div.sk-label input.sk-toggleable__control:checked~label.sk-toggleable__label {background-color: #d4ebff;}#sk-container-id-7 input.sk-hidden--visually {border: 0;clip: rect(1px 1px 1px 1px);clip: rect(1px, 1px, 1px, 1px);height: 1px;margin: -1px;overflow: hidden;padding: 0;position: absolute;width: 1px;}#sk-container-id-7 div.sk-estimator {font-family: monospace;background-color: #f0f8ff;border: 1px dotted black;border-radius: 0.25em;box-sizing: border-box;margin-bottom: 0.5em;}#sk-container-id-7 div.sk-estimator:hover {background-color: #d4ebff;}#sk-container-id-7 div.sk-parallel-item::after {content: \"\";width: 100%;border-bottom: 1px solid gray;flex-grow: 1;}#sk-container-id-7 div.sk-label:hover label.sk-toggleable__label {background-color: #d4ebff;}#sk-container-id-7 div.sk-serial::before {content: \"\";position: absolute;border-left: 1px solid gray;box-sizing: border-box;top: 0;bottom: 0;left: 50%;z-index: 0;}#sk-container-id-7 div.sk-serial {display: flex;flex-direction: column;align-items: center;background-color: white;padding-right: 0.2em;padding-left: 0.2em;position: relative;}#sk-container-id-7 div.sk-item {position: relative;z-index: 1;}#sk-container-id-7 div.sk-parallel {display: flex;align-items: stretch;justify-content: center;background-color: white;position: relative;}#sk-container-id-7 div.sk-item::before, #sk-container-id-7 div.sk-parallel-item::before {content: \"\";position: absolute;border-left: 1px solid gray;box-sizing: border-box;top: 0;bottom: 0;left: 50%;z-index: -1;}#sk-container-id-7 div.sk-parallel-item {display: flex;flex-direction: column;z-index: 1;position: relative;background-color: white;}#sk-container-id-7 div.sk-parallel-item:first-child::after {align-self: flex-end;width: 50%;}#sk-container-id-7 div.sk-parallel-item:last-child::after {align-self: flex-start;width: 50%;}#sk-container-id-7 div.sk-parallel-item:only-child::after {width: 0;}#sk-container-id-7 div.sk-dashed-wrapped {border: 1px dashed gray;margin: 0 0.4em 0.5em 0.4em;box-sizing: border-box;padding-bottom: 0.4em;background-color: white;}#sk-container-id-7 div.sk-label label {font-family: monospace;font-weight: bold;display: inline-block;line-height: 1.2em;}#sk-container-id-7 div.sk-label-container {text-align: center;}#sk-container-id-7 div.sk-container {/* jupyter's `normalize.less` sets `[hidden] { display: none; }` but bootstrap.min.css set `[hidden] { display: none !important; }` so we also need the `!important` here to be able to override the default hidden behavior on the sphinx rendered scikit-learn.org. See: https://github.com/scikit-learn/scikit-learn/issues/21755 */display: inline-block !important;position: relative;}#sk-container-id-7 div.sk-text-repr-fallback {display: none;}</style><div id=\"sk-container-id-7\" class=\"sk-top-container\"><div class=\"sk-text-repr-fallback\"><pre>LogisticRegression()</pre><b>In a Jupyter environment, please rerun this cell to show the HTML representation or trust the notebook. <br />On GitHub, the HTML representation is unable to render, please try loading this page with nbviewer.org.</b></div><div class=\"sk-container\" hidden><div class=\"sk-item\"><div class=\"sk-estimator sk-toggleable\"><input class=\"sk-toggleable__control sk-hidden--visually\" id=\"sk-estimator-id-7\" type=\"checkbox\" checked><label for=\"sk-estimator-id-7\" class=\"sk-toggleable__label sk-toggleable__label-arrow\">LogisticRegression</label><div class=\"sk-toggleable__content\"><pre>LogisticRegression()</pre></div></div></div></div></div>"
      ],
      "text/plain": [
       "LogisticRegression()"
      ]
     },
     "execution_count": 109,
     "metadata": {},
     "output_type": "execute_result"
    }
   ],
   "source": [
    "# Train the model\n",
    "log_reg.fit(X_train, y_train_class)"
   ]
  },
  {
   "cell_type": "code",
   "execution_count": 110,
   "id": "55c9365f",
   "metadata": {},
   "outputs": [],
   "source": [
    "# Make predictions on the test set\n",
    "log_reg_pred_class = log_reg.predict(X_test)"
   ]
  },
  {
   "cell_type": "code",
   "execution_count": 111,
   "id": "c30c709f",
   "metadata": {},
   "outputs": [
    {
     "name": "stdout",
     "output_type": "stream",
     "text": [
      "Confusion Matrix:\n",
      "\n",
      "[[1547  109]\n",
      " [ 248  248]]\n"
     ]
    }
   ],
   "source": [
    "# Evaluate the predictions\n",
    "conf_matrix = confusion_matrix(y_test_class, log_reg_pred_class)\n",
    "print(\"Confusion Matrix:\\n\")\n",
    "print(conf_matrix)"
   ]
  },
  {
   "cell_type": "code",
   "execution_count": 112,
   "id": "2854caff",
   "metadata": {},
   "outputs": [
    {
     "name": "stdout",
     "output_type": "stream",
     "text": [
      "Heap Map:\n",
      "\n"
     ]
    },
    {
     "data": {
      "image/png": "[encoded data removed]",
      "text/plain": [
       "<Figure size 500x400 with 1 Axes>"
      ]
     },
     "metadata": {},
     "output_type": "display_data"
    },
    {
     "name": "stdout",
     "output_type": "stream",
     "text": [
      "\n",
      "\n"
     ]
    }
   ],
   "source": [
    "# Create a heatmap\n",
    "print(\"Heap Map:\\n\")\n",
    "\n",
    "fig, ax = plt.subplots(figsize=(5, 4))\n",
    "sns.heatmap(conf_matrix, annot=True, fmt='d', cmap='Greens_r', cbar=False)\n",
    "plt.title(\"Confusion Matrix\")\n",
    "plt.xlabel(\"Predicted\")\n",
    "plt.ylabel(\"Actual\")\n",
    "plt.show()\n",
    "\n",
    "print()\n",
    "print()"
   ]
  },
  {
   "cell_type": "code",
   "execution_count": 113,
   "id": "e6d32493",
   "metadata": {},
   "outputs": [
    {
     "name": "stdout",
     "output_type": "stream",
     "text": [
      "              precision    recall  f1-score   support\n",
      "\n",
      "           0       0.86      0.93      0.90      1656\n",
      "           1       0.69      0.50      0.58       496\n",
      "\n",
      "    accuracy                           0.83      2152\n",
      "   macro avg       0.78      0.72      0.74      2152\n",
      "weighted avg       0.82      0.83      0.82      2152\n",
      "\n"
     ]
    }
   ],
   "source": [
    "# Create classification Report\n",
    "classification_rep = classification_report(y_test_class, log_reg_pred_class)\n",
    "\n",
    "print(classification_rep)"
   ]
  },
  {
   "cell_type": "code",
   "execution_count": 114,
   "id": "d06947b9",
   "metadata": {},
   "outputs": [
    {
     "name": "stdout",
     "output_type": "stream",
     "text": [
      "Mean Squared Error of the Training and Testing Set:\n",
      "\n",
      "Training Error of Logistic Regression Model: 0.1732259064146266\n",
      "Testing Error of Logistic Regression Model: 0.16589219330855018\n",
      "\n",
      "Accuracy of the Training and Testing Set:\n",
      "\n",
      "Training Accuracy of Logistic Regression Model: 0.8267740935853733\n",
      "Testing Accuracy of Logistic Regression Model: 0.8341078066914498\n"
     ]
    }
   ],
   "source": [
    "# Calculate training error\n",
    "log_reg_train_pred = log_reg.predict(X_train)\n",
    "mse_train = mean_squared_error(y_train_class, log_reg_train_pred)\n",
    "train_accuracy = 1 - mse_train\n",
    "\n",
    "# Calculate testing error\n",
    "log_reg_test_pred = log_reg.predict(X_test)\n",
    "mse_test = mean_squared_error(y_test_class, log_reg_test_pred)\n",
    "test_accuracy = 1 - mse_test\n",
    "\n",
    "print(\"Mean Squared Error of the Training and Testing Set:\\n\")\n",
    "print(\"Training Error of Logistic Regression Model:\", mse_train)\n",
    "print(\"Testing Error of Logistic Regression Model:\", mse_test)\n",
    "\n",
    "print()\n",
    "\n",
    "print(\"Accuracy of the Training and Testing Set:\\n\")\n",
    "print(\"Training Accuracy of Logistic Regression Model:\", train_accuracy)\n",
    "print(\"Testing Accuracy of Logistic Regression Model:\", test_accuracy)"
   ]
  },
  {
   "cell_type": "code",
   "execution_count": 115,
   "id": "5079b18e",
   "metadata": {},
   "outputs": [
    {
     "data": {
      "image/png": "[encoded data removed]",
      "text/plain": [
       "<Figure size 640x480 with 1 Axes>"
      ]
     },
     "metadata": {},
     "output_type": "display_data"
    }
   ],
   "source": [
    "# Plotting training and testing accuracy\n",
    "labels = ['Training Accuracy', 'Testing Accuracy']\n",
    "values = [train_accuracy, test_accuracy]\n",
    "\n",
    "fig, ax = plt.subplots()\n",
    "bars = ax.bar(labels, values, color=['pink', 'violet'])\n",
    "\n",
    "# Adding the numerical values on top of the bars\n",
    "for bar in bars:\n",
    "    yval = bar.get_height()\n",
    "    ax.text(bar.get_x() + bar.get_width()/2, yval, round(yval, 4), va='bottom' if yval < 0.5 else 'top', ha='center', color='white', weight='bold')\n",
    "\n",
    "plt.title('Training and Testing Accuracy of Logistic Regression')\n",
    "plt.show()"
   ]
  },
  {
   "cell_type": "code",
   "execution_count": 116,
   "id": "f3dbc10a",
   "metadata": {},
   "outputs": [],
   "source": [
    "# Create a pickle file for the model\n",
    "log_reg_model_pickle = open('logistic_regression_model.pkl', 'wb')\n",
    "pickle.dump(log_reg, log_reg_model_pickle)\n",
    "log_reg_model_pickle.close()"
   ]
  },
  {
   "cell_type": "code",
   "execution_count": null,
   "id": "e2043c1f",
   "metadata": {},
   "outputs": [],
   "source": []
  }
 ],
 "metadata": {
  "kernelspec": {
   "display_name": "Python 3 (ipykernel)",
   "language": "python",
   "name": "python3"
  },
  "language_info": {
   "codemirror_mode": {
    "name": "ipython",
    "version": 3
   },
   "file_extension": ".py",
   "mimetype": "text/x-python",
   "name": "python",
   "nbconvert_exporter": "python",
   "pygments_lexer": "ipython3",
   "version": "3.11.5"
  }
 },
 "nbformat": 4,
 "nbformat_minor": 5
}
